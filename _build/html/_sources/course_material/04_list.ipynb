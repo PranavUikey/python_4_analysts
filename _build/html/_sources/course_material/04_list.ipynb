{
 "cells": [
  {
   "cell_type": "markdown",
   "metadata": {
    "id": "u97WiPpqp3Ur"
   },
   "source": [
    "# Lists\n",
    "\n",
    "We have seen Python’s simple types: int, float, bool, str, and so on. Python also has several built-in compound types, which act as containers for other types. Now we will see other data types in detail."
   ]
  },
  {
   "cell_type": "markdown",
   "metadata": {
    "id": "8YvwQtribxqb"
   },
   "source": [
    "![](../images/unit_4_01.png)"
   ]
  },
  {
   "cell_type": "markdown",
   "metadata": {
    "id": "gnRHF1uvp8X-"
   },
   "source": [
    "Lets understand **list** data type. List can contain multiple values, which makes it easier to write programs that handle large amounts of data. And since lists themselves can contain other lists, you can use them to arrange data into hierarchical structures.\n",
    "\n",
    "In this chapter you will learn basics of list it’s methods and various operations which can be performed on lists."
   ]
  },
  {
   "cell_type": "markdown",
   "metadata": {
    "id": "n7Sm9w_NqLxV"
   },
   "source": [
    "\n",
    "\n",
    "## List data type\n",
    "\n"
   ]
  },
  {
   "cell_type": "markdown",
   "metadata": {
    "id": "sV8TMerW2jbw"
   },
   "source": [
    "![](../images/unit_4_02.png)"
   ]
  },
  {
   "cell_type": "markdown",
   "metadata": {
    "id": "QTS3iNCpqdwH"
   },
   "source": [
    "A list is a data-structure that contains multiple values in an *ordered sequence*. Just as string values are typed with quote characters to mark where the string begins and ends, a list begins with an opening square bracket and ends with a closing square bracket, [ ]. Values inside the list are also called items. Items are separated with commas (that is, they are comma-delimited)."
   ]
  },
  {
   "cell_type": "markdown",
   "metadata": {
    "id": "j45ImKk-qrTs"
   },
   "source": [
    "Let’s start with create a list of integers"
   ]
  },
  {
   "cell_type": "code",
   "execution_count": null,
   "metadata": {
    "colab": {
     "base_uri": "https://localhost:8080/"
    },
    "id": "b4ioe-6BacQp",
    "outputId": "0fa6120f-4547-47db-be5e-5a643b41bbb2"
   },
   "outputs": [
    {
     "data": {
      "text/plain": [
       "[1, 2, 3]"
      ]
     },
     "execution_count": 1,
     "metadata": {},
     "output_type": "execute_result"
    }
   ],
   "source": [
    "[1,2,3]"
   ]
  },
  {
   "cell_type": "markdown",
   "metadata": {
    "id": "kZnF96HCq3y4"
   },
   "source": [
    "Create a list of stuff from your bagpack."
   ]
  },
  {
   "cell_type": "code",
   "execution_count": null,
   "metadata": {
    "colab": {
     "base_uri": "https://localhost:8080/"
    },
    "id": "OIvjOiLPqt0O",
    "outputId": "928cacb9-863d-4f08-d99a-4793ef2c442e"
   },
   "outputs": [
    {
     "data": {
      "text/plain": [
       "['pen', 'pencil', 'eraser', 'books']"
      ]
     },
     "execution_count": 2,
     "metadata": {},
     "output_type": "execute_result"
    }
   ],
   "source": [
    "['pen', 'pencil', 'eraser', 'books']"
   ]
  },
  {
   "cell_type": "markdown",
   "metadata": {
    "id": "Eb63NWnhq8Cn"
   },
   "source": [
    "List can contain multiple values of different datatypes as below."
   ]
  },
  {
   "cell_type": "code",
   "execution_count": null,
   "metadata": {
    "colab": {
     "base_uri": "https://localhost:8080/"
    },
    "id": "JVWk4ECTq5ov",
    "outputId": "4805d0e7-e08d-4206-b694-a0688f0a22ae"
   },
   "outputs": [
    {
     "data": {
      "text/plain": [
       "['hello', 3.1415, True, None, 42]"
      ]
     },
     "execution_count": 3,
     "metadata": {},
     "output_type": "execute_result"
    }
   ],
   "source": [
    "['hello', 3.1415, True, None, 42]"
   ]
  },
  {
   "cell_type": "markdown",
   "metadata": {
    "id": "cXMh4xZwrEFz"
   },
   "source": [
    "Let’s use the list we have defined before, list of stuff from your backpack and store it in variable named **example**."
   ]
  },
  {
   "cell_type": "code",
   "execution_count": null,
   "metadata": {
    "colab": {
     "base_uri": "https://localhost:8080/"
    },
    "id": "nLybHFndq-AW",
    "outputId": "fdc421e5-f412-4f1f-bc5c-8a960efdd0a5"
   },
   "outputs": [
    {
     "data": {
      "text/plain": [
       "['pen', 'pencil', 'eraser', 'books']"
      ]
     },
     "execution_count": 4,
     "metadata": {},
     "output_type": "execute_result"
    }
   ],
   "source": [
    "example = ['pen', 'pencil', 'eraser', 'books']\n",
    "example"
   ]
  },
  {
   "cell_type": "markdown",
   "metadata": {
    "id": "DBzWOyVPrMKk"
   },
   "source": [
    "```{note}\n",
    "\n",
    "The value [ ] is an empty list that contains no values, similar to '', the empty string.\n",
    "```"
   ]
  },
  {
   "cell_type": "markdown",
   "metadata": {
    "id": "blZq-BNDrYMC"
   },
   "source": [
    "\n",
    "\n",
    "### Indexes \n",
    "\n"
   ]
  },
  {
   "cell_type": "markdown",
   "metadata": {
    "id": "-2gS_QSFreYg"
   },
   "source": [
    "Say you have the list **['pen', 'pencil', 'eraser', 'books']** stored in a variable named example. The Python code **example[0]** would evaluate to **'pen'**, and **example[1]** would evaluate to **'pencil'**, and so on. The integer inside the square brackets that follows the list is called an index. The first value in the list is at **index 0**, the second value is at **index 1**, the third value is at **index 2**, and so on."
   ]
  },
  {
   "cell_type": "markdown",
   "metadata": {
    "id": "fG7i8-aDrw4t"
   },
   "source": [
    "![](../images/unit_4_03.png)"
   ]
  },
  {
   "cell_type": "markdown",
   "metadata": {
    "id": "5HusfbpZr06P"
   },
   "source": [
    "Let’s see how to use indexes to access the values from list. Try to access 'pen' the first value from list example whose index is going to be 0."
   ]
  },
  {
   "cell_type": "code",
   "execution_count": null,
   "metadata": {
    "colab": {
     "base_uri": "https://localhost:8080/",
     "height": 35
    },
    "id": "9BM9g7RrrJ1F",
    "outputId": "0aed634f-ae89-4625-af76-dde47f735af2"
   },
   "outputs": [
    {
     "data": {
      "application/vnd.google.colaboratory.intrinsic+json": {
       "type": "string"
      },
      "text/plain": [
       "'pen'"
      ]
     },
     "execution_count": 5,
     "metadata": {},
     "output_type": "execute_result"
    }
   ],
   "source": [
    "example[0]"
   ]
  },
  {
   "cell_type": "markdown",
   "metadata": {
    "id": "qekRQGXAuDZw"
   },
   "source": [
    "Again try access 'books'. So, to get 'books'value which is at fourth position index is going to be 3."
   ]
  },
  {
   "cell_type": "code",
   "execution_count": null,
   "metadata": {
    "colab": {
     "base_uri": "https://localhost:8080/",
     "height": 35
    },
    "id": "QT8XJ9i8uAWZ",
    "outputId": "ea9864ea-a28f-48cd-dce5-d543e5aa65cf"
   },
   "outputs": [
    {
     "data": {
      "application/vnd.google.colaboratory.intrinsic+json": {
       "type": "string"
      },
      "text/plain": [
       "'books'"
      ]
     },
     "execution_count": 6,
     "metadata": {},
     "output_type": "execute_result"
    }
   ],
   "source": [
    "example[3]"
   ]
  },
  {
   "cell_type": "markdown",
   "metadata": {
    "id": "OoG5OwzzuJYY"
   },
   "source": [
    "If you have not stored the list in variable still you can access values from list."
   ]
  },
  {
   "cell_type": "code",
   "execution_count": null,
   "metadata": {
    "colab": {
     "base_uri": "https://localhost:8080/",
     "height": 35
    },
    "id": "fk_rI-d3uFkS",
    "outputId": "c334c480-1bb6-4a7a-e872-8d6783ec8126"
   },
   "outputs": [
    {
     "data": {
      "application/vnd.google.colaboratory.intrinsic+json": {
       "type": "string"
      },
      "text/plain": [
       "'books'"
      ]
     },
     "execution_count": 7,
     "metadata": {},
     "output_type": "execute_result"
    }
   ],
   "source": [
    "['pen', 'pencil', 'eraser', 'books'][3]"
   ]
  },
  {
   "cell_type": "markdown",
   "metadata": {
    "id": "KHtAoyAAubnk"
   },
   "source": [
    "You can also use list items as variables in expressions."
   ]
  },
  {
   "cell_type": "code",
   "execution_count": null,
   "metadata": {
    "colab": {
     "base_uri": "https://localhost:8080/",
     "height": 35
    },
    "id": "XsDT5F0_uLV6",
    "outputId": "7b5744a2-8b33-41af-b1ca-b0d3fb2529b8"
   },
   "outputs": [
    {
     "data": {
      "application/vnd.google.colaboratory.intrinsic+json": {
       "type": "string"
      },
      "text/plain": [
       "'I have pen'"
      ]
     },
     "execution_count": 8,
     "metadata": {},
     "output_type": "execute_result"
    }
   ],
   "source": [
    "'I have ' + example[0]"
   ]
  },
  {
   "cell_type": "code",
   "execution_count": null,
   "metadata": {
    "colab": {
     "base_uri": "https://localhost:8080/",
     "height": 35
    },
    "id": "NX69lAyuuhnh",
    "outputId": "69badb3f-1eef-4903-f656-55c37a5391c0"
   },
   "outputs": [
    {
     "data": {
      "application/vnd.google.colaboratory.intrinsic+json": {
       "type": "string"
      },
      "text/plain": [
       "'The pencil and the pen.'"
      ]
     },
     "execution_count": 9,
     "metadata": {},
     "output_type": "execute_result"
    }
   ],
   "source": [
    "'The ' + example[1] + ' and the ' + example[0] + '.'"
   ]
  },
  {
   "cell_type": "markdown",
   "metadata": {
    "id": "Ys59It9DupTc"
   },
   "source": [
    "Notice that the expression 'I have ' + example[0] evaluates to 'I have ' + 'pen' because example[0] evaluates to the string 'pen'. This expression in turn evaluates to the string value 'I have pen'."
   ]
  },
  {
   "cell_type": "markdown",
   "metadata": {
    "id": "hlaLfS0_urln"
   },
   "source": [
    "Python will give you an IndexError error message if you use an index that exceeds the number of values in your list value."
   ]
  },
  {
   "cell_type": "code",
   "execution_count": null,
   "metadata": {
    "colab": {
     "base_uri": "https://localhost:8080/",
     "height": 165
    },
    "id": "AdW7PayrukMI",
    "outputId": "9f0d5376-cb9e-42e8-d058-eab28beacb48"
   },
   "outputs": [
    {
     "ename": "IndexError",
     "evalue": "ignored",
     "output_type": "error",
     "traceback": [
      "\u001b[0;31m---------------------------------------------------------------------------\u001b[0m",
      "\u001b[0;31mIndexError\u001b[0m                                Traceback (most recent call last)",
      "\u001b[0;32m<ipython-input-10-0f6c79ef1a48>\u001b[0m in \u001b[0;36m<cell line: 1>\u001b[0;34m()\u001b[0m\n\u001b[0;32m----> 1\u001b[0;31m \u001b[0mexample\u001b[0m\u001b[0;34m[\u001b[0m\u001b[0;36m1000\u001b[0m\u001b[0;34m]\u001b[0m\u001b[0;34m\u001b[0m\u001b[0;34m\u001b[0m\u001b[0m\n\u001b[0m",
      "\u001b[0;31mIndexError\u001b[0m: list index out of range"
     ]
    }
   ],
   "source": [
    "example[1000]"
   ]
  },
  {
   "cell_type": "markdown",
   "metadata": {
    "id": "VG7i9gsOuwQs"
   },
   "source": [
    "Indexes can be only integer values, not floats. The following example will cause a TypeError error."
   ]
  },
  {
   "cell_type": "code",
   "execution_count": null,
   "metadata": {
    "colab": {
     "base_uri": "https://localhost:8080/",
     "height": 35
    },
    "id": "XNX1v-eNutfy",
    "outputId": "e88afd1d-1900-4ba2-af1c-e6a9ec118b8e"
   },
   "outputs": [
    {
     "data": {
      "application/vnd.google.colaboratory.intrinsic+json": {
       "type": "string"
      },
      "text/plain": [
       "'pencil'"
      ]
     },
     "execution_count": 11,
     "metadata": {},
     "output_type": "execute_result"
    }
   ],
   "source": [
    "example[1]"
   ]
  },
  {
   "cell_type": "code",
   "execution_count": null,
   "metadata": {
    "colab": {
     "base_uri": "https://localhost:8080/",
     "height": 165
    },
    "id": "w9aKbL6C1HJ3",
    "outputId": "f84cef53-2936-4325-c3f0-3d97e0c60e49"
   },
   "outputs": [
    {
     "ename": "TypeError",
     "evalue": "ignored",
     "output_type": "error",
     "traceback": [
      "\u001b[0;31m---------------------------------------------------------------------------\u001b[0m",
      "\u001b[0;31mTypeError\u001b[0m                                 Traceback (most recent call last)",
      "\u001b[0;32m<ipython-input-12-9e6e21b5d8f1>\u001b[0m in \u001b[0;36m<cell line: 1>\u001b[0;34m()\u001b[0m\n\u001b[0;32m----> 1\u001b[0;31m \u001b[0mexample\u001b[0m\u001b[0;34m[\u001b[0m\u001b[0;36m1.0\u001b[0m\u001b[0;34m]\u001b[0m\u001b[0;34m\u001b[0m\u001b[0;34m\u001b[0m\u001b[0m\n\u001b[0m",
      "\u001b[0;31mTypeError\u001b[0m: list indices must be integers or slices, not float"
     ]
    }
   ],
   "source": [
    "example[1.0]"
   ]
  },
  {
   "cell_type": "code",
   "execution_count": null,
   "metadata": {
    "colab": {
     "base_uri": "https://localhost:8080/",
     "height": 35
    },
    "id": "h0nsTGmm1JIn",
    "outputId": "b9df8d0a-b78e-440e-b7c6-23bfb9a52a4d"
   },
   "outputs": [
    {
     "data": {
      "application/vnd.google.colaboratory.intrinsic+json": {
       "type": "string"
      },
      "text/plain": [
       "'pencil'"
      ]
     },
     "execution_count": 13,
     "metadata": {},
     "output_type": "execute_result"
    }
   ],
   "source": [
    "example[int(1.0)]"
   ]
  },
  {
   "cell_type": "markdown",
   "metadata": {
    "id": "lVAAReTj1Pzh"
   },
   "source": [
    "Lists can also contain other list values. The values in these lists of lists can be accessed using multiple indexes, like so:"
   ]
  },
  {
   "cell_type": "code",
   "execution_count": null,
   "metadata": {
    "id": "y9dx0mCM1MnB"
   },
   "outputs": [],
   "source": [
    "example = [['pen', 'pencil'], [10, 20, 30, 40, 50]]"
   ]
  },
  {
   "cell_type": "markdown",
   "metadata": {
    "id": "8kyIh6he1bpT"
   },
   "source": [
    "this is called **Nested List**"
   ]
  },
  {
   "cell_type": "code",
   "execution_count": null,
   "metadata": {
    "colab": {
     "base_uri": "https://localhost:8080/"
    },
    "id": "NNOhjtXg1bNA",
    "outputId": "a46b061f-cbbe-40fd-fb25-99fb441fecd3"
   },
   "outputs": [
    {
     "data": {
      "text/plain": [
       "['pen', 'pencil']"
      ]
     },
     "execution_count": 15,
     "metadata": {},
     "output_type": "execute_result"
    }
   ],
   "source": [
    "example[0]"
   ]
  },
  {
   "cell_type": "code",
   "execution_count": null,
   "metadata": {
    "colab": {
     "base_uri": "https://localhost:8080/",
     "height": 35
    },
    "id": "XJRWDRqD1jVR",
    "outputId": "ad47a13b-5c25-4867-d3a2-2d9c45c9a152"
   },
   "outputs": [
    {
     "data": {
      "application/vnd.google.colaboratory.intrinsic+json": {
       "type": "string"
      },
      "text/plain": [
       "'pencil'"
      ]
     },
     "execution_count": 16,
     "metadata": {},
     "output_type": "execute_result"
    }
   ],
   "source": [
    "example[0][1]"
   ]
  },
  {
   "cell_type": "code",
   "execution_count": null,
   "metadata": {
    "colab": {
     "base_uri": "https://localhost:8080/"
    },
    "id": "xYs0ik4o1l-W",
    "outputId": "0fb87503-64b4-41a0-984a-e1850a4a6dfd"
   },
   "outputs": [
    {
     "data": {
      "text/plain": [
       "50"
      ]
     },
     "execution_count": 17,
     "metadata": {},
     "output_type": "execute_result"
    }
   ],
   "source": [
    "example[1][4]"
   ]
  },
  {
   "cell_type": "markdown",
   "metadata": {
    "id": "2Vtryb301qbW"
   },
   "source": [
    "The first index dictates which list to use, and the second indicates the value within that list. For example, **example[0][1]** prints **'pencil'**, the second value in the first list. If you only use one index, the program will print the full list value at that index."
   ]
  },
  {
   "cell_type": "markdown",
   "metadata": {
    "id": "sHeCMwix12Xj"
   },
   "source": [
    "\n",
    "\n",
    "### Negative Indexes\n",
    "\n"
   ]
  },
  {
   "cell_type": "markdown",
   "metadata": {
    "id": "dWU_uutg179z"
   },
   "source": [
    "While indexes start at 0 and go up, you can also use negative integers for the index. The integer value **-1** refers to the last index in a list, the value **-2** refers to the **second-to-last index** in a list, and so on."
   ]
  },
  {
   "cell_type": "markdown",
   "metadata": {
    "id": "0RO2NubM2Ev2"
   },
   "source": [
    "![](../images/unit_4_04.png)"
   ]
  },
  {
   "cell_type": "code",
   "execution_count": null,
   "metadata": {
    "id": "G75RzL8f1oFH"
   },
   "outputs": [],
   "source": [
    "example = ['pen', 'pencil', 'eraser', 'books']"
   ]
  },
  {
   "cell_type": "code",
   "execution_count": null,
   "metadata": {
    "colab": {
     "base_uri": "https://localhost:8080/",
     "height": 35
    },
    "id": "xKAADZPz2H0v",
    "outputId": "7fb7a55f-9439-40c1-f2be-af220d27c5f8"
   },
   "outputs": [
    {
     "data": {
      "application/vnd.google.colaboratory.intrinsic+json": {
       "type": "string"
      },
      "text/plain": [
       "'books'"
      ]
     },
     "execution_count": 19,
     "metadata": {},
     "output_type": "execute_result"
    }
   ],
   "source": [
    "example[-1]"
   ]
  },
  {
   "cell_type": "code",
   "execution_count": null,
   "metadata": {
    "colab": {
     "base_uri": "https://localhost:8080/",
     "height": 35
    },
    "id": "WIYe3w1d2JGz",
    "outputId": "ed216adc-3d54-449f-dbb4-9970468122fd"
   },
   "outputs": [
    {
     "data": {
      "application/vnd.google.colaboratory.intrinsic+json": {
       "type": "string"
      },
      "text/plain": [
       "'pencil'"
      ]
     },
     "execution_count": 20,
     "metadata": {},
     "output_type": "execute_result"
    }
   ],
   "source": [
    "example[-3]"
   ]
  },
  {
   "cell_type": "code",
   "execution_count": null,
   "metadata": {
    "colab": {
     "base_uri": "https://localhost:8080/",
     "height": 35
    },
    "id": "bXwHZKSA2Kqg",
    "outputId": "88f9bffb-ba89-4c93-b5fb-18d9ab6ab0e4"
   },
   "outputs": [
    {
     "data": {
      "application/vnd.google.colaboratory.intrinsic+json": {
       "type": "string"
      },
      "text/plain": [
       "'We write in books using pencil.'"
      ]
     },
     "execution_count": 21,
     "metadata": {},
     "output_type": "execute_result"
    }
   ],
   "source": [
    "'We write in ' + example[-1] + ' using ' + example[-3] + '.'"
   ]
  },
  {
   "cell_type": "markdown",
   "metadata": {
    "id": "DeTe0IUK2OFD"
   },
   "source": [
    "\n",
    "\n",
    "### Slicing\n",
    "\n"
   ]
  },
  {
   "cell_type": "markdown",
   "metadata": {
    "id": "JxE74_ur38Ex"
   },
   "source": [
    "Just as an index can get a single value from a list, a slice can get several values from a list, in the form of a new list. A slice is typed between square brackets, like an index, but it has two integers separated by a colon. Notice the difference between indexes and slices.\n",
    "\n",
    " \n",
    "\n",
    "*   example[2] is a list with an index (one integer).\n",
    "*   example[1:4] is a list with a slice (two integers).\n",
    "\n",
    "\n",
    "\n",
    "\n",
    "\n",
    "In a slice, the first integer is the index where the slice starts. The second integer is the index where the slice ends. A slice goes up to, but will not include, the value at the second index. A slice evaluates to a new list value"
   ]
  },
  {
   "cell_type": "code",
   "execution_count": null,
   "metadata": {
    "id": "ZqoCXmVX2MDS"
   },
   "outputs": [],
   "source": [
    "example = ['pen', 'pencil', 'eraser', 'books']"
   ]
  },
  {
   "cell_type": "code",
   "execution_count": null,
   "metadata": {
    "colab": {
     "base_uri": "https://localhost:8080/"
    },
    "id": "iMEUIlzc4KUV",
    "outputId": "fccb993d-4d2d-4a6f-a264-5e13bb16d931"
   },
   "outputs": [
    {
     "data": {
      "text/plain": [
       "['pen', 'pencil', 'eraser', 'books']"
      ]
     },
     "execution_count": 23,
     "metadata": {},
     "output_type": "execute_result"
    }
   ],
   "source": [
    "example[0:4]"
   ]
  },
  {
   "cell_type": "code",
   "execution_count": null,
   "metadata": {
    "colab": {
     "base_uri": "https://localhost:8080/"
    },
    "id": "0aJsjr7L4Lc8",
    "outputId": "75c4225f-1be5-40dd-bc45-6f2dd9e72c7a"
   },
   "outputs": [
    {
     "data": {
      "text/plain": [
       "['pencil', 'eraser']"
      ]
     },
     "execution_count": 24,
     "metadata": {},
     "output_type": "execute_result"
    }
   ],
   "source": [
    "example[1:3]"
   ]
  },
  {
   "cell_type": "code",
   "execution_count": null,
   "metadata": {
    "colab": {
     "base_uri": "https://localhost:8080/"
    },
    "id": "V79kScV_4Myj",
    "outputId": "7cc775f3-2ec8-4ed3-8e62-fc8dd9f12c07"
   },
   "outputs": [
    {
     "data": {
      "text/plain": [
       "['pen', 'pencil', 'eraser']"
      ]
     },
     "execution_count": 25,
     "metadata": {},
     "output_type": "execute_result"
    }
   ],
   "source": [
    "example[0:-1]"
   ]
  },
  {
   "cell_type": "markdown",
   "metadata": {
    "id": "37vWYAlY4QCb"
   },
   "source": [
    "As a shortcut, you can leave out one or both of the indexes on either side of the colon in the slice. Leaving out the first index is the same as using 0, or the beginning of the list. Leaving out the second index is the same as using the length of the list, which will slice to the end of the list."
   ]
  },
  {
   "cell_type": "code",
   "execution_count": null,
   "metadata": {
    "colab": {
     "base_uri": "https://localhost:8080/"
    },
    "id": "uNCIfHCV4N5J",
    "outputId": "7f1509ba-f937-4dda-c5ce-332542b1e0d5"
   },
   "outputs": [
    {
     "data": {
      "text/plain": [
       "['pen', 'pencil']"
      ]
     },
     "execution_count": 26,
     "metadata": {},
     "output_type": "execute_result"
    }
   ],
   "source": [
    "example[:2]"
   ]
  },
  {
   "cell_type": "code",
   "execution_count": null,
   "metadata": {
    "colab": {
     "base_uri": "https://localhost:8080/"
    },
    "id": "Bg2Dr0De4TCs",
    "outputId": "104d0584-b215-43f5-818d-ddba11ade596"
   },
   "outputs": [
    {
     "data": {
      "text/plain": [
       "['pencil', 'eraser', 'books']"
      ]
     },
     "execution_count": 27,
     "metadata": {},
     "output_type": "execute_result"
    }
   ],
   "source": [
    "example[1:]"
   ]
  },
  {
   "cell_type": "code",
   "execution_count": null,
   "metadata": {
    "colab": {
     "base_uri": "https://localhost:8080/"
    },
    "id": "d5oTkT-N4UqK",
    "outputId": "9c9d3e4e-ebb3-4deb-8782-c5f2e179b616"
   },
   "outputs": [
    {
     "data": {
      "text/plain": [
       "['pen', 'pencil', 'eraser', 'books']"
      ]
     },
     "execution_count": 28,
     "metadata": {},
     "output_type": "execute_result"
    }
   ],
   "source": [
    "example[:]"
   ]
  },
  {
   "cell_type": "markdown",
   "metadata": {
    "id": "vk7bUAUO4n3w"
   },
   "source": [
    "\n",
    "\n",
    "### Changing Values\n",
    "\n",
    "\n",
    "\n",
    "\n",
    "\n"
   ]
  },
  {
   "cell_type": "markdown",
   "metadata": {
    "id": "EF7L5TzL4vNb"
   },
   "source": [
    "Normally a variable name goes on the left side of an assignment statement, like **example = 42**. However, you can also use an index of a list to change the value at that index. For example, **example[1] = 'scale'** means “assign the value at index 1 in the list **example** to the string **'scale'**\"."
   ]
  },
  {
   "cell_type": "code",
   "execution_count": null,
   "metadata": {
    "id": "-pFyqBT24dFt"
   },
   "outputs": [],
   "source": [
    "example = ['pen', 'pencil', 'eraser', 'books']"
   ]
  },
  {
   "cell_type": "code",
   "execution_count": null,
   "metadata": {
    "id": "zpcvo8kX4_Zx"
   },
   "outputs": [],
   "source": [
    "example[1] = 'scale'"
   ]
  },
  {
   "cell_type": "code",
   "execution_count": null,
   "metadata": {
    "colab": {
     "base_uri": "https://localhost:8080/"
    },
    "id": "fQMj7rS_5A1o",
    "outputId": "6f4488c3-e112-467f-d2a5-cc186c93593f"
   },
   "outputs": [
    {
     "data": {
      "text/plain": [
       "['pen', 'scale', 'eraser', 'books']"
      ]
     },
     "execution_count": 31,
     "metadata": {},
     "output_type": "execute_result"
    }
   ],
   "source": [
    "example"
   ]
  },
  {
   "cell_type": "code",
   "execution_count": null,
   "metadata": {
    "id": "0QldVGyu5CAu"
   },
   "outputs": [],
   "source": [
    "example[2] = example[1]"
   ]
  },
  {
   "cell_type": "code",
   "execution_count": null,
   "metadata": {
    "colab": {
     "base_uri": "https://localhost:8080/"
    },
    "id": "3hQf6eIh5Dg0",
    "outputId": "6266b57a-940f-4283-f8f6-233f918e379a"
   },
   "outputs": [
    {
     "data": {
      "text/plain": [
       "['pen', 'scale', 'scale', 'books']"
      ]
     },
     "execution_count": 33,
     "metadata": {},
     "output_type": "execute_result"
    }
   ],
   "source": [
    "example"
   ]
  },
  {
   "cell_type": "code",
   "execution_count": null,
   "metadata": {
    "id": "-sdnC-n_5EkO"
   },
   "outputs": [],
   "source": [
    "example[-1] = 12345"
   ]
  },
  {
   "cell_type": "code",
   "execution_count": null,
   "metadata": {
    "colab": {
     "base_uri": "https://localhost:8080/"
    },
    "id": "IY0SZCNU5F0g",
    "outputId": "b93134e7-20fd-4948-e874-6eadd56f2498"
   },
   "outputs": [
    {
     "data": {
      "text/plain": [
       "['pen', 'scale', 'scale', 12345]"
      ]
     },
     "execution_count": 35,
     "metadata": {},
     "output_type": "execute_result"
    }
   ],
   "source": [
    "example"
   ]
  },
  {
   "cell_type": "markdown",
   "metadata": {
    "id": "64Dyk57xJDcX"
   },
   "source": [
    "\n",
    "\n",
    "## List Methods\n",
    "\n"
   ]
  },
  {
   "cell_type": "markdown",
   "metadata": {
    "id": "QcaUTYItJQKA"
   },
   "source": [
    "![](../images/unit_4_05.png)"
   ]
  },
  {
   "cell_type": "markdown",
   "metadata": {
    "id": "9ulbz_H_csLv"
   },
   "source": [
    "\n",
    "\n",
    "### Adding values\n",
    "\n"
   ]
  },
  {
   "cell_type": "markdown",
   "metadata": {
    "id": "dVSkW9pfcy2E"
   },
   "source": [
    "#### 1 . append() method \n",
    "\n",
    "To add new values to a list, use the **append()** method. Let’s call the append() method on a list value stored in the variable **items**."
   ]
  },
  {
   "cell_type": "code",
   "execution_count": null,
   "metadata": {
    "id": "O4XFotmk5HGr"
   },
   "outputs": [],
   "source": [
    "items = ['pen', 'pencil', 'bat']"
   ]
  },
  {
   "cell_type": "code",
   "execution_count": null,
   "metadata": {
    "colab": {
     "base_uri": "https://localhost:8080/"
    },
    "id": "uHIDGMZrk6Vv",
    "outputId": "cbc14f8b-a96e-47fe-bd78-a4505a3315da"
   },
   "outputs": [
    {
     "data": {
      "text/plain": [
       "['pen', 'pencil', 'bat', 'ball']"
      ]
     },
     "execution_count": 2,
     "metadata": {},
     "output_type": "execute_result"
    }
   ],
   "source": [
    "items.append('ball')\n",
    "items"
   ]
  },
  {
   "cell_type": "markdown",
   "metadata": {
    "id": "MLRgo42ok9gJ"
   },
   "source": [
    "#### 2 . insert() method\n",
    "\n",
    "The previous **append()** method call adds the argument to the end of the list. The **insert()** method can insert a value at any index in the list. The first argument to **insert()** is the index for the new value, and the second argument is the new value to be inserted."
   ]
  },
  {
   "cell_type": "code",
   "execution_count": null,
   "metadata": {
    "id": "ueS10vGEk70T"
   },
   "outputs": [],
   "source": [
    "items = ['pen', 'pencil', 'bat']"
   ]
  },
  {
   "cell_type": "code",
   "execution_count": null,
   "metadata": {
    "colab": {
     "base_uri": "https://localhost:8080/"
    },
    "id": "1DlkYLA0lKRj",
    "outputId": "9b92af91-81d7-4dd9-e93f-ac890cbbb865"
   },
   "outputs": [
    {
     "data": {
      "text/plain": [
       "['pen', 'phone', 'pencil', 'bat']"
      ]
     },
     "execution_count": 4,
     "metadata": {},
     "output_type": "execute_result"
    }
   ],
   "source": [
    "items.insert(1, 'phone')\n",
    "items"
   ]
  },
  {
   "cell_type": "markdown",
   "metadata": {
    "id": "YlV_2KwklnIU"
   },
   "source": [
    "```{note}\n",
    "\n",
    "Notice that the code is **items.append('ball')** and **items.insert(1, 'phone')**, not **items = items.append('ball')** and **items = items.insert(1, 'phone')**. Neither **append()** nor **insert()** gives the new value of items as its return value. (In fact, the return value of **append()** and **insert()** is **None**, so you definitely wouldn’t want to store this as the new variable value.) Rather, the list is modified in place\n",
    "```"
   ]
  },
  {
   "cell_type": "markdown",
   "metadata": {
    "id": "xClnKHzbl-JA"
   },
   "source": [
    "\n",
    "\n",
    "### Removing Values\n",
    "\n"
   ]
  },
  {
   "cell_type": "markdown",
   "metadata": {
    "id": "T8VXvFGkmDg0"
   },
   "source": [
    "#### 1 . del statement\n",
    "\n",
    "The **del** statement will delete values at an index in a list. All of the values in the list after the deleted value will be moved up one index."
   ]
  },
  {
   "cell_type": "code",
   "execution_count": null,
   "metadata": {
    "id": "geQE4-wplj1v"
   },
   "outputs": [],
   "source": [
    "example = ['pen', 'pencil', 'eraser', 'books']"
   ]
  },
  {
   "cell_type": "code",
   "execution_count": null,
   "metadata": {
    "id": "wNKXt2GHmOiG"
   },
   "outputs": [],
   "source": [
    "del example[2]"
   ]
  },
  {
   "cell_type": "code",
   "execution_count": null,
   "metadata": {
    "colab": {
     "base_uri": "https://localhost:8080/"
    },
    "id": "mFZTMDCimP6x",
    "outputId": "b570ae43-1f2c-4651-8628-31e914e594e6"
   },
   "outputs": [
    {
     "data": {
      "text/plain": [
       "['pen', 'pencil', 'books']"
      ]
     },
     "execution_count": 7,
     "metadata": {},
     "output_type": "execute_result"
    }
   ],
   "source": [
    "example"
   ]
  },
  {
   "cell_type": "code",
   "execution_count": null,
   "metadata": {
    "id": "t0G6uPWwmRbE"
   },
   "outputs": [],
   "source": [
    "del example[2]"
   ]
  },
  {
   "cell_type": "code",
   "execution_count": null,
   "metadata": {
    "colab": {
     "base_uri": "https://localhost:8080/"
    },
    "id": "LZ2tj1K6mTUT",
    "outputId": "03c5ec8b-574b-45f9-ef11-6b39eda6456d"
   },
   "outputs": [
    {
     "data": {
      "text/plain": [
       "['pen', 'pencil']"
      ]
     },
     "execution_count": 9,
     "metadata": {},
     "output_type": "execute_result"
    }
   ],
   "source": [
    "example"
   ]
  },
  {
   "cell_type": "markdown",
   "metadata": {
    "id": "1rgwX_BgmXA1"
   },
   "source": [
    "The **del** statement can also be used on a simple variable to delete it, as if it were an “unassignment” statement. If you try to use the variable after deleting it, you will get a **NameError error** because the variable no longer exists.\n",
    "\n",
    "In practice, you almost never need to delete simple variables. The **del** statement is mostly used to delete values from lists."
   ]
  },
  {
   "cell_type": "markdown",
   "metadata": {
    "id": "KdCUGvF4mfp7"
   },
   "source": [
    "#### 2 . remove() method\n",
    "\n",
    "The **remove()** method is passed the value to be removed from the list it is called on."
   ]
  },
  {
   "cell_type": "code",
   "execution_count": null,
   "metadata": {
    "id": "0BeA-BZMmUkS"
   },
   "outputs": [],
   "source": [
    "example = ['pen', 'pencil', 'eraser', 'books']"
   ]
  },
  {
   "cell_type": "code",
   "execution_count": null,
   "metadata": {
    "colab": {
     "base_uri": "https://localhost:8080/"
    },
    "id": "9kBu7Mf2mnS6",
    "outputId": "7c084dcd-d127-49a9-9307-f82b6184713d"
   },
   "outputs": [
    {
     "data": {
      "text/plain": [
       "['pen', 'eraser', 'books']"
      ]
     },
     "execution_count": 11,
     "metadata": {},
     "output_type": "execute_result"
    }
   ],
   "source": [
    "example.remove('pencil')\n",
    "example"
   ]
  },
  {
   "cell_type": "markdown",
   "metadata": {
    "id": "YeZ18PaPmq2N"
   },
   "source": [
    "Attempting to delete a value that does not exist in the list will result in a ValueError error"
   ]
  },
  {
   "cell_type": "code",
   "execution_count": null,
   "metadata": {
    "colab": {
     "base_uri": "https://localhost:8080/",
     "height": 165
    },
    "id": "qC1YoZYbmoac",
    "outputId": "8a2c2805-c4dc-456e-ec68-ce38be9d5185"
   },
   "outputs": [
    {
     "ename": "ValueError",
     "evalue": "ignored",
     "output_type": "error",
     "traceback": [
      "\u001b[0;31m---------------------------------------------------------------------------\u001b[0m",
      "\u001b[0;31mValueError\u001b[0m                                Traceback (most recent call last)",
      "\u001b[0;32m<ipython-input-12-9a1e51614139>\u001b[0m in \u001b[0;36m<cell line: 1>\u001b[0;34m()\u001b[0m\n\u001b[0;32m----> 1\u001b[0;31m \u001b[0mexample\u001b[0m\u001b[0;34m.\u001b[0m\u001b[0mremove\u001b[0m\u001b[0;34m(\u001b[0m\u001b[0;34m'phone'\u001b[0m\u001b[0;34m)\u001b[0m\u001b[0;34m\u001b[0m\u001b[0;34m\u001b[0m\u001b[0m\n\u001b[0m",
      "\u001b[0;31mValueError\u001b[0m: list.remove(x): x not in list"
     ]
    }
   ],
   "source": [
    "example.remove('phone')"
   ]
  },
  {
   "cell_type": "markdown",
   "metadata": {
    "id": "6Womd_bNmwow"
   },
   "source": [
    "If the value appears multiple times in the list, only the first instance of the value will be removed\n"
   ]
  },
  {
   "cell_type": "code",
   "execution_count": null,
   "metadata": {
    "id": "hwRRhuGxmtED"
   },
   "outputs": [],
   "source": [
    "example = ['pen', 'pencil', 'bat', 'cat', 'hat', 'cat']"
   ]
  },
  {
   "cell_type": "code",
   "execution_count": null,
   "metadata": {
    "colab": {
     "base_uri": "https://localhost:8080/"
    },
    "id": "pspd2yWqmzhE",
    "outputId": "fee1797c-a073-4a6a-c6b8-2603e3f22777"
   },
   "outputs": [
    {
     "data": {
      "text/plain": [
       "['pen', 'pencil', 'bat', 'hat', 'cat']"
      ]
     },
     "execution_count": 14,
     "metadata": {},
     "output_type": "execute_result"
    }
   ],
   "source": [
    "example.remove('cat')\n",
    "example"
   ]
  },
  {
   "cell_type": "markdown",
   "metadata": {
    "id": "IuNJbzGcm3J-"
   },
   "source": [
    "The **del** statement is good to use when you know the index of the value you want to remove from the list. The **remove()** method is good when you know the value you want to remove from the list."
   ]
  },
  {
   "cell_type": "markdown",
   "metadata": {
    "id": "c9pQeNzYJpDJ"
   },
   "source": [
    "#### 3 . pop() method"
   ]
  },
  {
   "cell_type": "markdown",
   "metadata": {
    "id": "i9EQe1TxJ1ON"
   },
   "source": [
    "the **pop()** method is a built-in method that can be used to remove and return an item from a list. "
   ]
  },
  {
   "cell_type": "code",
   "execution_count": null,
   "metadata": {
    "colab": {
     "base_uri": "https://localhost:8080/"
    },
    "id": "LBSoGbkTm1PA",
    "outputId": "1b65ffad-6338-4e13-a67d-d267e1c46b63"
   },
   "outputs": [
    {
     "name": "stdout",
     "output_type": "stream",
     "text": [
      "['apple', 'banana', 'date']\n",
      "cherry\n"
     ]
    }
   ],
   "source": [
    "my_list = ['apple', 'banana', 'cherry', 'date']\n",
    "removed_item = my_list.pop(2) # Removes the item at index 2 (i.e., 'cherry')\n",
    "print(my_list) # Output: ['apple', 'banana', 'date']\n",
    "print(removed_item) # Output: 'cherry'\n"
   ]
  },
  {
   "cell_type": "markdown",
   "metadata": {
    "id": "Q8zZ3tilKVrf"
   },
   "source": [
    "Just like with a list of any other data type, calling **pop()** without passing an index will remove and return the last item in the list:"
   ]
  },
  {
   "cell_type": "code",
   "execution_count": null,
   "metadata": {
    "colab": {
     "base_uri": "https://localhost:8080/"
    },
    "id": "KhmnIRV8KPuX",
    "outputId": "e4c886eb-f76b-480a-b5d9-02ae60ffbd7e"
   },
   "outputs": [
    {
     "name": "stdout",
     "output_type": "stream",
     "text": [
      "['apple', 'banana', 'cherry']\n",
      "date\n"
     ]
    }
   ],
   "source": [
    "my_list = ['apple', 'banana', 'cherry', 'date']\n",
    "last_item = my_list.pop()\n",
    "print(my_list) # Output: ['apple', 'banana', 'cherry']\n",
    "print(last_item) # Output: 'date'"
   ]
  },
  {
   "cell_type": "markdown",
   "metadata": {
    "id": "EUJdTyOiK0v2"
   },
   "source": [
    "#### count() method\n",
    "\n",
    "\n",
    "\n",
    "The count() method is used to count the number of occurrences of a specified element in a list. Here's an example:"
   ]
  },
  {
   "cell_type": "code",
   "execution_count": null,
   "metadata": {
    "colab": {
     "base_uri": "https://localhost:8080/"
    },
    "id": "ZBLwvUp7KaLV",
    "outputId": "96b62a34-cdab-45e0-a8c3-1c11ff5261fb"
   },
   "outputs": [
    {
     "name": "stdout",
     "output_type": "stream",
     "text": [
      "3\n"
     ]
    }
   ],
   "source": [
    "my_list = [1, 2, 3, 2, 4, 2, 5]\n",
    "count_of_twos = my_list.count(2)\n",
    "print(count_of_twos) # Output: 3"
   ]
  },
  {
   "cell_type": "markdown",
   "metadata": {
    "id": "qo43jG2WLNH1"
   },
   "source": [
    "\n",
    "\n",
    "#### sort() method\n",
    "\n",
    "\n",
    "\n",
    "The sort() method is used to sort the elements of a list in ascending or descending order. Here's an example:"
   ]
  },
  {
   "cell_type": "code",
   "execution_count": null,
   "metadata": {
    "colab": {
     "base_uri": "https://localhost:8080/"
    },
    "id": "jS2rvCKrLH58",
    "outputId": "532466fa-83dd-4ade-da80-afaa24d468aa"
   },
   "outputs": [
    {
     "name": "stdout",
     "output_type": "stream",
     "text": [
      "[1, 2, 3, 4, 5]\n"
     ]
    }
   ],
   "source": [
    "my_list = [5, 1, 4, 3, 2]\n",
    "my_list.sort()\n",
    "print(my_list) # Output: [1, 2, 3, 4, 5]"
   ]
  },
  {
   "cell_type": "markdown",
   "metadata": {
    "id": "BFyTwdzhLrmF"
   },
   "source": [
    "\n",
    "\n",
    "#### reverse()\n",
    "\n",
    "\n",
    "\n",
    "The reverse() method is used to reverse the order of the elements in a list. Here's an example:"
   ]
  },
  {
   "cell_type": "code",
   "execution_count": null,
   "metadata": {
    "colab": {
     "base_uri": "https://localhost:8080/"
    },
    "id": "uYGLtfhlLZXI",
    "outputId": "012a39a6-28f1-4d22-9b0c-5498c9b32048"
   },
   "outputs": [
    {
     "name": "stdout",
     "output_type": "stream",
     "text": [
      "[5, 4, 3, 2, 1]\n"
     ]
    }
   ],
   "source": [
    "my_list = [1, 2, 3, 4, 5]\n",
    "my_list.reverse()\n",
    "print(my_list) # Output: [5, 4, 3, 2, 1]"
   ]
  },
  {
   "cell_type": "markdown",
   "metadata": {
    "id": "orBCsuMvL5Vw"
   },
   "source": [
    "\n",
    "\n",
    "#### clear() method\n",
    "\n",
    "\n",
    "\n",
    "The clear() method is used to remove all elements from a list. Here's an example:"
   ]
  },
  {
   "cell_type": "code",
   "execution_count": null,
   "metadata": {
    "colab": {
     "base_uri": "https://localhost:8080/"
    },
    "id": "7r6NDNiDLzOv",
    "outputId": "5496b521-2c4f-4fbb-eec7-18862e4219af"
   },
   "outputs": [
    {
     "name": "stdout",
     "output_type": "stream",
     "text": [
      "[]\n"
     ]
    }
   ],
   "source": [
    "my_list = [1, 2, 3, 4, 5]\n",
    "my_list.clear()\n",
    "print(my_list) # Output: []"
   ]
  },
  {
   "cell_type": "markdown",
   "metadata": {
    "id": "XLviSI6XS_BP"
   },
   "source": [
    "\n",
    "\n",
    "#### extend() method\n",
    "\n",
    "you can extend a list by using the **extend()** method. The **extend()** method appends all the items from an iterable (e.g., list, tuple, string) to the end of the original list.\n",
    "\n",
    "Here's an example:\n"
   ]
  },
  {
   "cell_type": "code",
   "execution_count": null,
   "metadata": {
    "colab": {
     "base_uri": "https://localhost:8080/"
    },
    "id": "wjOEst8hTMFW",
    "outputId": "e736a6cf-511e-4105-efe6-a633b8232008"
   },
   "outputs": [
    {
     "name": "stdout",
     "output_type": "stream",
     "text": [
      "[1, 2, 3, 4, 5, 6]\n"
     ]
    }
   ],
   "source": [
    "original_list = [1, 2, 3]\n",
    "new_list = [4, 5, 6]\n",
    "original_list.extend(new_list)\n",
    "print(original_list)"
   ]
  },
  {
   "cell_type": "markdown",
   "metadata": {
    "id": "FWdStBM-MFv7"
   },
   "source": [
    "\n",
    "\n",
    "#### index() method\n",
    "\n",
    "\n",
    "\n",
    "The index() method is used to find the index of the first occurrence of a specified element in a list. Here's an example:"
   ]
  },
  {
   "cell_type": "code",
   "execution_count": null,
   "metadata": {
    "colab": {
     "base_uri": "https://localhost:8080/"
    },
    "id": "c7RS8TS7MA_E",
    "outputId": "f28623ad-2c72-4295-c1f6-1b76d8ccde87"
   },
   "outputs": [
    {
     "name": "stdout",
     "output_type": "stream",
     "text": [
      "1\n"
     ]
    }
   ],
   "source": [
    "my_list = [1, 2, 3, 2, 4, 2, 5]\n",
    "index_of_twos = my_list.index(2)\n",
    "print(index_of_twos) # Output: 1"
   ]
  },
  {
   "cell_type": "markdown",
   "metadata": {
    "id": "1RqIuv88Mmev"
   },
   "source": [
    "## Arithmatic operators in list"
   ]
  },
  {
   "cell_type": "markdown",
   "metadata": {
    "id": "SfJ2HDJCM79d"
   },
   "source": [
    "### 1 . List Concatenation\n",
    "\n",
    "The **+** operator can combine two lists to create a new list value in the same way it combines two strings into a new string value."
   ]
  },
  {
   "cell_type": "code",
   "execution_count": null,
   "metadata": {
    "colab": {
     "base_uri": "https://localhost:8080/"
    },
    "id": "1qFxCo37MRQL",
    "outputId": "e206ba3a-3c1b-41e8-d793-acc7048c71bb"
   },
   "outputs": [
    {
     "data": {
      "text/plain": [
       "[1, 2, 3, 'A', 'B', 'C']"
      ]
     },
     "execution_count": 8,
     "metadata": {},
     "output_type": "execute_result"
    }
   ],
   "source": [
    "[1, 2, 3] + ['A', 'B', 'C']"
   ]
  },
  {
   "cell_type": "markdown",
   "metadata": {
    "id": "3aX6bfcoNJbY"
   },
   "source": [
    "### 2 . List Replication\n",
    "\n",
    "The * operator can also be used with a list and an integer value to replicate the list."
   ]
  },
  {
   "cell_type": "code",
   "execution_count": null,
   "metadata": {
    "colab": {
     "base_uri": "https://localhost:8080/"
    },
    "id": "sFjZYDgHNG75",
    "outputId": "fd381292-c5e2-4b79-ce12-58000e1600e7"
   },
   "outputs": [
    {
     "data": {
      "text/plain": [
       "['X', 'Y', 'Z', 'X', 'Y', 'Z', 'X', 'Y', 'Z']"
      ]
     },
     "execution_count": 9,
     "metadata": {},
     "output_type": "execute_result"
    }
   ],
   "source": [
    "['X', 'Y', 'Z'] * 3"
   ]
  },
  {
   "cell_type": "markdown",
   "metadata": {
    "id": "zmw1KQfoTiQC"
   },
   "source": [
    "\n",
    "\n",
    "## Traversing a List\n",
    "\n"
   ]
  },
  {
   "cell_type": "markdown",
   "metadata": {
    "id": "WgJGk5BxTtWf"
   },
   "source": [
    "\n",
    "\n",
    "### 1 . Using for loop\n",
    "\n"
   ]
  },
  {
   "cell_type": "code",
   "execution_count": 1,
   "metadata": {
    "colab": {
     "base_uri": "https://localhost:8080/"
    },
    "id": "4wdX8HRJNfgs",
    "outputId": "fbadea1e-9d7d-4b4b-9888-52129c8ec1f1"
   },
   "outputs": [
    {
     "name": "stdout",
     "output_type": "stream",
     "text": [
      "1\n",
      "2\n",
      "3\n",
      "4\n",
      "5\n"
     ]
    }
   ],
   "source": [
    "my_list = [1, 2, 3, 4, 5]\n",
    "for item in my_list:\n",
    "    print(item)"
   ]
  },
  {
   "cell_type": "markdown",
   "metadata": {
    "id": "HJ93p52iV1Ib"
   },
   "source": [
    "\n",
    "\n",
    "### 2 . Using range() \n",
    "\n",
    "using range() we can access each element of list using index of list.\n",
    "\n"
   ]
  },
  {
   "cell_type": "code",
   "execution_count": null,
   "metadata": {
    "colab": {
     "base_uri": "https://localhost:8080/"
    },
    "id": "zAnmgPXWVzmE",
    "outputId": "0d5b1379-770f-482a-cf05-4cf6fbc760a3"
   },
   "outputs": [
    {
     "name": "stdout",
     "output_type": "stream",
     "text": [
      "element of list :  1  &  index of element :  0\n",
      "element of list :  2  &  index of element :  1\n",
      "element of list :  3  &  index of element :  2\n",
      "element of list :  4  &  index of element :  3\n",
      "element of list :  5  &  index of element :  4\n"
     ]
    }
   ],
   "source": [
    "my_list = [1, 2, 3, 4, 5]\n",
    "for i in range(len(my_list)):\n",
    "    print('element of list : ',my_list[i],' & ','index of element : ',i)    "
   ]
  },
  {
   "cell_type": "markdown",
   "metadata": {
    "id": "jby7177_XLXD"
   },
   "source": [
    "\n",
    "\n",
    "### 3 . Using the enumerator()\n",
    "\n"
   ]
  },
  {
   "cell_type": "code",
   "execution_count": null,
   "metadata": {
    "colab": {
     "base_uri": "https://localhost:8080/"
    },
    "id": "T7ZdmDXaWTMd",
    "outputId": "c1d24a9c-ccb8-4786-a1ea-b68e3a3f197f"
   },
   "outputs": [
    {
     "name": "stdout",
     "output_type": "stream",
     "text": [
      "0 1\n",
      "1 2\n",
      "2 3\n",
      "3 4\n",
      "4 5\n"
     ]
    }
   ],
   "source": [
    "my_list = [1, 2, 3, 4, 5]\n",
    "for i, item in enumerate(my_list):\n",
    "    print(i, item)"
   ]
  },
  {
   "cell_type": "markdown",
   "metadata": {
    "id": "1O6X8jy0Y3rT"
   },
   "source": [
    "\n",
    "\n",
    "## Built-in list functions\n",
    "\n"
   ]
  },
  {
   "cell_type": "markdown",
   "metadata": {
    "id": "-LbzJ-hMZClG"
   },
   "source": [
    "![](../images/unit_4_06.png)"
   ]
  },
  {
   "cell_type": "markdown",
   "metadata": {
    "id": "8BHw-h5EZJAJ"
   },
   "source": [
    "### `len( )`\n",
    "\n",
    "    – It calculates the length of the list.\n",
    "\n",
    "### `max( )`\n",
    "\n",
    "    – It returns the item from the list with the highest value.\n",
    "\n",
    "### `min( )`\n",
    "    – It returns the item from the Python list with the lowest value.\n",
    "\n",
    "### `sum( )`\n",
    "    – It returns the sum of all the elements in the list.\n",
    "\n",
    "### `sorted( )`\n",
    "    – It returns a sorted version of the list, but does not change the original one.\n",
    "\n",
    "### `list( )`\n",
    "    – It converts a different data type into a list.\n",
    "\n",
    "### `any( )`\n",
    "    – It returns True if even one item in the Python list has a True value.\n",
    "\n",
    "### `all( )`\n",
    "    – It returns True if all items in the list have a True value."
   ]
  },
  {
   "cell_type": "code",
   "execution_count": null,
   "metadata": {
    "colab": {
     "base_uri": "https://localhost:8080/"
    },
    "id": "gZHvxeksXTnb",
    "outputId": "4f17af80-cdad-464e-e856-7c1874591ba8"
   },
   "outputs": [
    {
     "name": "stdout",
     "output_type": "stream",
     "text": [
      "length  7\n",
      "maximum value  8\n",
      "minimum value  2\n",
      "sum of list  35\n",
      "sorted list  [2, 3, 4, 5, 6, 7, 8]\n",
      "list  [7, 2, 5, 8, 6, 4, 3]\n",
      "using any  True\n",
      "using all  True\n"
     ]
    }
   ],
   "source": [
    "num = [7,2,5,8,6,4,3]\n",
    "print('length ',len(num))\n",
    "print('maximum value ',max(num))\n",
    "print('minimum value ',min(num))\n",
    "print('sum of list ',sum(num))\n",
    "print('sorted list ',sorted(num))\n",
    "print('list ',list(num))\n",
    "print('using any ',any(num))\n",
    "print('using all ',all(num))"
   ]
  },
  {
   "cell_type": "markdown",
   "metadata": {
    "id": "Elr7VYAVdXzz"
   },
   "source": [
    "\n",
    "\n",
    "## List and Strings\n",
    "\n",
    "\n",
    "\n",
    "\n",
    "\n"
   ]
  },
  {
   "cell_type": "markdown",
   "metadata": {
    "id": "8X6krVXQd-GW"
   },
   "source": [
    "### 1 . List function"
   ]
  },
  {
   "cell_type": "markdown",
   "metadata": {
    "id": "U4nJCo2zeb_o"
   },
   "source": [
    "The **list()** function is used to convert an iterable (such as a string) into a list. When you apply the **list()** function to a string, it will return a list of individual characters from the string.\n",
    "\n",
    "Here's an example:"
   ]
  },
  {
   "cell_type": "code",
   "execution_count": null,
   "metadata": {
    "colab": {
     "base_uri": "https://localhost:8080/"
    },
    "id": "aYM0kfU2Zxfb",
    "outputId": "c421e68b-b7ab-4daa-bdd1-f4cfcbb6b274"
   },
   "outputs": [
    {
     "name": "stdout",
     "output_type": "stream",
     "text": [
      "['h', 'e', 'l', 'l', 'o']\n"
     ]
    }
   ],
   "source": [
    "my_string = \"hello\"\n",
    "my_list = list(my_string)\n",
    "print(my_list)  "
   ]
  },
  {
   "cell_type": "markdown",
   "metadata": {
    "id": "SQ9GXT2_epUc"
   },
   "source": [
    "### 2 . split function "
   ]
  },
  {
   "cell_type": "markdown",
   "metadata": {
    "id": "6ihxwGDcex7k"
   },
   "source": [
    "The **split()** method is used to split a string into a list of substrings based on a specified delimiter."
   ]
  },
  {
   "cell_type": "code",
   "execution_count": null,
   "metadata": {
    "colab": {
     "base_uri": "https://localhost:8080/"
    },
    "id": "6IAixmIZei7d",
    "outputId": "c11f9d81-88ac-4efc-ba74-0c5385b45fca"
   },
   "outputs": [
    {
     "name": "stdout",
     "output_type": "stream",
     "text": [
      "['I', 'am', 'Data', 'Scientist']\n"
     ]
    }
   ],
   "source": [
    "my_string = \"I am Data Scientist\"\n",
    "my_list = my_string.split(\" \")\n",
    "print(my_list)  "
   ]
  },
  {
   "cell_type": "markdown",
   "metadata": {
    "id": "S4aRB4yefOxF"
   },
   "source": [
    "### 3 . join()"
   ]
  },
  {
   "cell_type": "markdown",
   "metadata": {
    "id": "moA9T2c2fcSH"
   },
   "source": [
    "The **join()** method is used to concatenate a list of strings into a single string, using a specified delimiter."
   ]
  },
  {
   "cell_type": "code",
   "execution_count": null,
   "metadata": {
    "colab": {
     "base_uri": "https://localhost:8080/"
    },
    "id": "4V6Yf8Yme-uK",
    "outputId": "3563f90e-58a6-4a93-fbe3-04afa5b2b9b3"
   },
   "outputs": [
    {
     "name": "stdout",
     "output_type": "stream",
     "text": [
      "Hello world! How are you?\n"
     ]
    }
   ],
   "source": [
    "my_list = ['Hello', 'world!', 'How', 'are', 'you?']\n",
    "my_string = ' '.join(my_list)\n",
    "print(my_string)"
   ]
  },
  {
   "cell_type": "markdown",
   "metadata": {
    "id": "pxOKa7RggHtL"
   },
   "source": [
    "\n",
    "\n",
    "## List comprehension\n",
    "\n"
   ]
  },
  {
   "cell_type": "markdown",
   "metadata": {
    "id": "oAm_6t7Dgqms"
   },
   "source": [
    "**List comprehensions** are simply a way to compress a list-building for-loop into a single short, readable line. \n",
    "\n",
    "For example, here is a loop that constructs a list of the first 12 square integers:\n"
   ]
  },
  {
   "cell_type": "code",
   "execution_count": null,
   "metadata": {
    "colab": {
     "base_uri": "https://localhost:8080/"
    },
    "id": "pkOIWFfQfo2Y",
    "outputId": "274b4d5f-a8cd-41a4-d635-911d88451d43"
   },
   "outputs": [
    {
     "data": {
      "text/plain": [
       "[0, 1, 4, 9, 16, 25, 36, 49, 64, 81, 100, 121]"
      ]
     },
     "execution_count": 28,
     "metadata": {},
     "output_type": "execute_result"
    }
   ],
   "source": [
    "L = []\n",
    "for n in range(12):\n",
    "    L.append(n ** 2)\n",
    "L"
   ]
  },
  {
   "cell_type": "markdown",
   "metadata": {
    "id": "ONyoaakGhlKj"
   },
   "source": [
    "This basic syntax is, \n",
    "\n",
    "\n",
    "```\n",
    "[expr for var in iterable]\n",
    "```\n",
    "\n",
    "where,\n",
    "\n",
    "\n",
    "\n",
    "*   expr is any valid expression,\n",
    "*   var is a variable name, and\n",
    "\n",
    "*   iterable is any iterable Python object.\n",
    "\n",
    "\n",
    "\n",
    "\n",
    "\n",
    "\n",
    "\n",
    "\n"
   ]
  },
  {
   "cell_type": "markdown",
   "metadata": {
    "id": "qW0U4S-khYq3"
   },
   "source": [
    "The list comprehension equivalent of this is the following:"
   ]
  },
  {
   "cell_type": "code",
   "execution_count": null,
   "metadata": {
    "colab": {
     "base_uri": "https://localhost:8080/"
    },
    "id": "f78X1V6EhVim",
    "outputId": "4f5468b1-f8fc-4b80-be03-034a87907c30"
   },
   "outputs": [
    {
     "data": {
      "text/plain": [
       "[0, 1, 4, 9, 16, 25, 36, 49, 64, 81, 100, 121]"
      ]
     },
     "execution_count": 29,
     "metadata": {},
     "output_type": "execute_result"
    }
   ],
   "source": [
    "[n**2 for n in range(12)]"
   ]
  },
  {
   "cell_type": "code",
   "execution_count": null,
   "metadata": {
    "colab": {
     "base_uri": "https://localhost:8080/"
    },
    "id": "BsaA-eSahalH",
    "outputId": "d945edf4-a4d1-4722-aa5d-a10b0e52f594"
   },
   "outputs": [
    {
     "data": {
      "text/plain": [
       "[0, 3, 6, 9, 12, 15, 18]"
      ]
     },
     "execution_count": 30,
     "metadata": {},
     "output_type": "execute_result"
    }
   ],
   "source": [
    "[i for i in range(20) if i % 3 == 0]"
   ]
  },
  {
   "cell_type": "markdown",
   "metadata": {
    "id": "TuMdgBBlDTLt"
   },
   "source": [
    "## Practice Questions"
   ]
  },
  {
   "cell_type": "markdown",
   "metadata": {
    "id": "PWrC6pCmErJz"
   },
   "source": [
    "### Difficulty Level : Easy"
   ]
  },
  {
   "cell_type": "markdown",
   "metadata": {
    "id": "DCRXp3csDZiM"
   },
   "source": [
    "Q. Create a code that will reverse a given list.\n",
    "\n",
    "**Example :**\n",
    "\n",
    "list1 = [8, 6, 4, 2, 0]\n",
    "\n",
    "\n",
    ">>> [0, 2, 4, 6, 8]"
   ]
  },
  {
   "cell_type": "code",
   "execution_count": null,
   "metadata": {
    "id": "8h8zSkn4D6NX"
   },
   "outputs": [],
   "source": [
    "## your code ##"
   ]
  },
  {
   "cell_type": "markdown",
   "metadata": {
    "id": "Bvz_rB04DrcZ"
   },
   "source": [
    "Q. Create a code that will display the square of every element of the list provided as an argument.\n",
    "\n",
    "**Example :**\n",
    "\n",
    "list2 = [1, 2, 3, 4, 5]\n",
    "\n",
    ">>> 1\n",
    "    4\n",
    "    9\n",
    "    16\n",
    "    25"
   ]
  },
  {
   "cell_type": "code",
   "execution_count": null,
   "metadata": {
    "id": "UZIknNUmDVoA"
   },
   "outputs": [],
   "source": [
    "## your code ##"
   ]
  },
  {
   "cell_type": "markdown",
   "metadata": {
    "id": "4zLwevNeEDht"
   },
   "source": [
    "Q. Create a code that will take list of fruits and a new_fruit as 2 arguments. Add the new_fruit into the list of fruits and display the updated list. Also, try adding the new_fruit at the index position 2.\n",
    "\n",
    "**Example :**\n",
    "\n",
    "fruits = ['banana', 'orange', 'mango', 'lemon']\n",
    "\n",
    "new_fruit = 'blueberry'\n",
    "\n",
    ">>> ['banana', 'orange', 'mango', 'lemon', 'blueberry']\n",
    "\n",
    ">>> ['banana', 'orange','blueberry' ,'mango', 'lemon',]"
   ]
  },
  {
   "cell_type": "code",
   "execution_count": null,
   "metadata": {
    "id": "qmzLqsC_EAAV"
   },
   "outputs": [],
   "source": [
    "## your code ##"
   ]
  },
  {
   "cell_type": "markdown",
   "metadata": {
    "id": "aje-oqKTEbaZ"
   },
   "source": [
    "Q. Create a code that will take a list as an argument and return an updated list after removing empty strings from the list. \n",
    "\n",
    "**Example :**\n",
    "\n",
    "list3 = [\"Vivek\", \"\", \"Ankur\", \"aiadventures\", \"\", \"Pranav\"].\n",
    "\n",
    "\n",
    ">>> ['Vivek', 'Ankur', 'aiadventures', 'Pranav']"
   ]
  },
  {
   "cell_type": "markdown",
   "metadata": {
    "id": "0fgX2HnjExac"
   },
   "source": [
    "### Difficulty Level : Medium"
   ]
  },
  {
   "cell_type": "markdown",
   "metadata": {
    "id": "PbHihsgxE1Eu"
   },
   "source": [
    "Q. Create a code that takes 2 lists as arguments and it iterates over both lists simultaneously such that output should display items in original order from 1st list and elements from 2nd list in reverse order.\n",
    "\n",
    "**Note** : Please give attention to the output as it doesn't include `[ ]` brackets.\n",
    "\n",
    "**Example :**\n",
    "\n",
    "list4 = [10, 20, 30, 40]\n",
    "\n",
    "list5 = [100, 200, 300, 400]\n",
    "\n",
    ">>> 10 20 30 40 400 300 200 100"
   ]
  },
  {
   "cell_type": "code",
   "execution_count": null,
   "metadata": {
    "id": "l0sTMj-vEZkV"
   },
   "outputs": [],
   "source": [
    "## your code ##"
   ]
  },
  {
   "cell_type": "markdown",
   "metadata": {
    "id": "kdD3hptdFLYX"
   },
   "source": [
    "Q. Create a code that takes 2 lists as arguments and returns a new single list by performing the string replication between the elements of the lists. The elements should be selected in original order from the 1st list and in reverse order from the 2nd list.\n",
    "\n",
    "**Example :**\n",
    "\n",
    "list4 = ['Ai', 'Adventures', 'Python', 'ML']\n",
    "\n",
    "list5 = [1, 2, 3, 4]\n",
    "\n",
    ">>> ['AiAiAiAi', 'AdventuresAdventuresAdventures', 'PythonPython','ML']"
   ]
  },
  {
   "cell_type": "code",
   "execution_count": null,
   "metadata": {
    "id": "9TA53pcWFcj9"
   },
   "outputs": [],
   "source": [
    "## your code ##"
   ]
  },
  {
   "cell_type": "markdown",
   "metadata": {
    "id": "URcuHVLf_6l6"
   },
   "source": [
    "Q. Create a code which accept list of N integers and partition list into two sub lists even & odd numbers.\n",
    "\n",
    "**Example :**\n",
    "\n",
    "list1=[1,2,3,4,5,6,7,8,9,10]\n",
    ">>> even_list=[2,4,6,8,10]\n",
    "\n",
    ">>> odd_list=[1,3,5,7,9]"
   ]
  },
  {
   "cell_type": "code",
   "execution_count": null,
   "metadata": {
    "id": "RrO72QcgBW48"
   },
   "outputs": [],
   "source": [
    "## your code ##"
   ]
  },
  {
   "cell_type": "markdown",
   "metadata": {
    "id": "D0QM1wH6FX1D"
   },
   "source": [
    "### Difficulty Level : Hard"
   ]
  },
  {
   "cell_type": "markdown",
   "metadata": {
    "id": "uR9XojKwFjLE"
   },
   "source": [
    "Q. We're using lists to record people that attended our party and in the order they arrive in. For example, the following list represents a party with 7 guests, in which Adela showed up first and Ford was the last to arrive:\n",
    "\n",
    "party_attendees = ['Adela', 'Fleda', 'Owen', 'May', 'Mona', 'Gilbert', 'Ford']\n",
    "\n",
    "A guest is considered **fashionably late** if they arrived after at least half of the party's guests. However, they must not be the very last guest (that's taking it too far). In the above example, Mona and Gilbert are the only guests who were fashionably late.\n",
    "\n",
    "Create a code which takes a list of party attendees as well as a person as arguments and displays whether that person is fashionably late or not.\n",
    "\n",
    "**Example :**\n",
    "\n",
    "party_attendees = ['Adela', 'Fleda', 'Owen', 'May', 'Mona', 'Gilbert', 'Ford']\n",
    "\n",
    "name= ' Mona '\n",
    ">>> True\n",
    "\n",
    "name= ' Ford '\n",
    ">>> False"
   ]
  },
  {
   "cell_type": "code",
   "execution_count": null,
   "metadata": {
    "id": "OsoAO1B0FK0G"
   },
   "outputs": [],
   "source": [
    "## your code ##"
   ]
  },
  {
   "cell_type": "markdown",
   "metadata": {
    "id": "B4j0-dLNGG21"
   },
   "source": [
    "Q. Create a code that takes 2 lists as arguments. The function should create a new list that contains alternate elements of both the lists and replaces the string elements of the new list with its own length.\n",
    "\n",
    "**Note** : Use loops to update the empty lists.\n",
    "\n",
    "**Example- 1**:\n",
    "\n",
    "first = ['Ai', 'Adventures', 'Python']\n",
    "\n",
    "second = [10, 20, 30]\n",
    ">>>List with alternate elements from the above 2 lists :  ['Ai', 10, 'Adventures', 20, 'Python', 30]\n",
    "\n",
    "Final output list :  [2, 10, 10, 20, 6, 30]\n",
    "\n",
    "**Example- 2**\n",
    "\n",
    "first = ['Jan', 'February', 'March', 72]\n",
    "\n",
    "second = [10, 20, 30, 'April']\n",
    ">>>List with alternate elements from the above 2 lists :  ['Jan', 10, 'February', 20, 'March', 30, 72, 'April']\n",
    "\n",
    "Final output list :  [3, 10, 8, 20, 5, 30, 72, 5]"
   ]
  },
  {
   "cell_type": "code",
   "execution_count": 1,
   "metadata": {},
   "outputs": [],
   "source": [
    "## your code ##"
   ]
  }
 ],
 "metadata": {
  "colab": {
   "provenance": []
  },
  "kernelspec": {
   "display_name": "Python 3 (ipykernel)",
   "language": "python",
   "name": "python3"
  },
  "language_info": {
   "codemirror_mode": {
    "name": "ipython",
    "version": 3
   },
   "file_extension": ".py",
   "mimetype": "text/x-python",
   "name": "python",
   "nbconvert_exporter": "python",
   "pygments_lexer": "ipython3",
   "version": "3.9.7"
  }
 },
 "nbformat": 4,
 "nbformat_minor": 1
}
