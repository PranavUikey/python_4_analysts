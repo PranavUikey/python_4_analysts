{
 "cells": [
  {
   "cell_type": "markdown",
   "metadata": {
    "id": "gQyNqZpzvGeh"
   },
   "source": [
    "\n",
    "\n",
    "# Functions\n",
    "\n",
    "\n"
   ]
  },
  {
   "cell_type": "markdown",
   "metadata": {
    "id": "4MHANpcI0FSc"
   },
   "source": [
    "You’re already familiar with the **print(), input(), and len()** functions from the previous chapters. Python provides several built-in functions like these, but you can also write your own functions. A function is like a mini-program within a program."
   ]
  },
  {
   "cell_type": "markdown",
   "metadata": {
    "id": "kMPNKJj00Bcz"
   },
   "source": [
    "## What is Function  and Why we need it ?\n"
   ]
  },
  {
   "cell_type": "markdown",
   "metadata": {
    "id": "q_G-GA09yQTD"
   },
   "source": [
    "![](../images/unit_6_01.png)"
   ]
  },
  {
   "cell_type": "markdown",
   "metadata": {
    "id": "w24FtVZkAqX3"
   },
   "source": [
    "### Function Definition\n",
    "\n",
    "a function is defined using the **def** keyword followed by the function name, parameter(s) (if any), and a colon : to start the function body. The function body contains the code that is executed when the function is called."
   ]
  },
  {
   "cell_type": "markdown",
   "metadata": {
    "id": "PQr0S3vvBHY7"
   },
   "source": [
    "Syntax :\n",
    "\n",
    "```\n",
    "def function_name(parameter1, parameter2, ...):\n",
    "    # function body\n",
    "    statement1\n",
    "    statement2\n",
    "    ...\n",
    "\n",
    "```\n",
    "\n"
   ]
  },
  {
   "cell_type": "markdown",
   "metadata": {
    "id": "tb3GHWD0FPR0"
   },
   "source": [
    "To better understand how functions work, let’s create one."
   ]
  },
  {
   "cell_type": "code",
   "execution_count": null,
   "metadata": {
    "id": "CpWA7vX1FR8K"
   },
   "outputs": [],
   "source": [
    "def hello(): \n",
    "    print('Hello!') \n",
    "    print('Hello!!!')\n",
    "    print('Hello there.')"
   ]
  },
  {
   "cell_type": "code",
   "execution_count": null,
   "metadata": {
    "colab": {
     "base_uri": "https://localhost:8080/"
    },
    "id": "u-KnyR2u0S_5",
    "outputId": "2ea7f9cb-1726-4f9f-e2b9-11e526e92882"
   },
   "outputs": [
    {
     "name": "stdout",
     "output_type": "stream",
     "text": [
      "Hello!\n",
      "Hello!!!\n",
      "Hello there.\n"
     ]
    }
   ],
   "source": [
    "hello()   #  Function call"
   ]
  },
  {
   "cell_type": "code",
   "execution_count": null,
   "metadata": {
    "colab": {
     "base_uri": "https://localhost:8080/"
    },
    "id": "WObzl93nAdPA",
    "outputId": "0c9923d4-e77a-4492-a24c-069b87315cf8"
   },
   "outputs": [
    {
     "name": "stdout",
     "output_type": "stream",
     "text": [
      "Hello!\n",
      "Hello!!!\n",
      "Hello there.\n",
      "Hello!\n",
      "Hello!!!\n",
      "Hello there.\n",
      "Hello!\n",
      "Hello!!!\n",
      "Hello there.\n"
     ]
    }
   ],
   "source": [
    "hello() \n",
    "hello() \n",
    "hello() "
   ]
  },
  {
   "cell_type": "markdown",
   "metadata": {
    "id": "2V_RBxQCAXuz"
   },
   "source": [
    "The **hello()** are function calls. In code, a function call is just the function’s name followed by parentheses, possibly with some number of arguments in between the parentheses. When the program execution reaches these calls, it will jump to the top line in the function and begin executing the code there. When it reaches the end of the function, the execution returns to the line that called the function and continues moving through the code as before.\n",
    "\n",
    "A major purpose of functions is to group code that gets executed multiple times. Without a function defined, you would have to copy and paste this code each time, and the program would look like this:"
   ]
  },
  {
   "cell_type": "code",
   "execution_count": null,
   "metadata": {
    "colab": {
     "base_uri": "https://localhost:8080/"
    },
    "id": "f3VqAYbX9XaC",
    "outputId": "fda91d76-1433-4ebb-8bb8-03ad7c273a65"
   },
   "outputs": [
    {
     "name": "stdout",
     "output_type": "stream",
     "text": [
      "Hello!\n",
      "Hello!!!\n",
      "Hello there.\n",
      "Hello!\n",
      "Hello!!!\n",
      "Hello there.\n",
      "Hello!\n",
      "Hello!!!\n",
      "Hello there.\n"
     ]
    }
   ],
   "source": [
    "print('Hello!')\n",
    "print('Hello!!!')\n",
    "print('Hello there.')\n",
    "print('Hello!')\n",
    "print('Hello!!!')\n",
    "print('Hello there.')\n",
    "print('Hello!')\n",
    "print('Hello!!!')\n",
    "print('Hello there.')"
   ]
  },
  {
   "cell_type": "markdown",
   "metadata": {
    "id": "JuE7a2JeFtBr"
   },
   "source": [
    "\n",
    "\n",
    "### def statement with parameters\n",
    "\n",
    "When you call the **print()** or **len()** function, you pass in values, called arguments in this context, by typing them between the parentheses. You can also define your own functions that accept arguments.\n",
    "\n"
   ]
  },
  {
   "cell_type": "code",
   "execution_count": null,
   "metadata": {
    "id": "bMnKEjApAcWl"
   },
   "outputs": [],
   "source": [
    "def hello(name):            \n",
    "    print('Hello '+ name)       "
   ]
  },
  {
   "cell_type": "markdown",
   "metadata": {
    "id": "iigRSN_-GMac"
   },
   "source": [
    "The definition of the **hello()** function in this program has a parameter called name. A parameter is a variable that an argument is stored in when a function is called.\n",
    "\n"
   ]
  },
  {
   "cell_type": "code",
   "execution_count": null,
   "metadata": {
    "colab": {
     "base_uri": "https://localhost:8080/"
    },
    "id": "OvJEpKIHF9En",
    "outputId": "7cb78497-126b-4744-d4d3-f547e4694454"
   },
   "outputs": [
    {
     "name": "stdout",
     "output_type": "stream",
     "text": [
      "Hello George\n",
      "Hello Esra\n"
     ]
    }
   ],
   "source": [
    "hello('George')\n",
    "hello('Esra')"
   ]
  },
  {
   "cell_type": "markdown",
   "metadata": {
    "id": "ZKZxL46pGd1t"
   },
   "source": [
    "One special thing to note about parameters is that the value stored in a parameter is forgotten when the function returns. For example, if you added **print(name)** after **hello('Esra')** in the previous program, the program would give you a NameError because there is no variable named name. This variable was destroyed after the function call **hello('Esra')** had returned, so **print(name)** would refer to a name variable that does not exist."
   ]
  },
  {
   "cell_type": "markdown",
   "metadata": {
    "id": "JWGUZS7hHzHY"
   },
   "source": [
    "\n",
    "\n",
    "### Variable Scope and Lifetime"
   ]
  },
  {
   "cell_type": "markdown",
   "metadata": {
    "id": "wO-RZx9WJLEW"
   },
   "source": [
    "The **scope of a variable** refers to the part of the program where the variable is visible and can be accessed. It can be divided into two types:"
   ]
  },
  {
   "cell_type": "markdown",
   "metadata": {
    "id": "Nz2UqcxGJ8T0"
   },
   "source": [
    "### 1 . Local Scope: \n",
    "\n",
    "    Variables declared inside a function have local scope. They are only accessible inside the function and are destroyed when the function completes execution.\n",
    "\n",
    "### 2 . Global Scope:\n",
    "\n",
    "    Variables declared outside any function or block have global scope. They are accessible from anywhere in the program, and their lifetime is until the program ends."
   ]
  },
  {
   "cell_type": "markdown",
   "metadata": {
    "id": "rDMvx8xpKH0m"
   },
   "source": [
    "```{note}\n",
    "    **Variable Lifetime:**\n",
    "    The lifetime of a variable is the duration for which it exists in the memory.\n",
    "```"
   ]
  },
  {
   "cell_type": "markdown",
   "metadata": {
    "id": "fab_pPn3Kdwd"
   },
   "source": [
    "#### Local and Global Variable"
   ]
  },
  {
   "cell_type": "markdown",
   "metadata": {
    "id": "oV1peAcxK4ij"
   },
   "source": [
    "**1 . Local Variable :**\n",
    "\n",
    "Local variables have a local scope, meaning they are only accessible within the block of code in which they are defined. This block of code can be a function, a loop, or any other construct that defines a scope."
   ]
  },
  {
   "cell_type": "code",
   "execution_count": null,
   "metadata": {
    "id": "YmBXgyDPF8T2"
   },
   "outputs": [],
   "source": [
    "def my_func():\n",
    "    x = 10  # local variable\n",
    "    print(\"Inside my_func(), x =\", x)"
   ]
  },
  {
   "cell_type": "code",
   "execution_count": null,
   "metadata": {
    "colab": {
     "base_uri": "https://localhost:8080/",
     "height": 200
    },
    "id": "HwTb6GF_LMDa",
    "outputId": "84ebbc1e-0e85-46de-b9af-c006bd5bc3f6"
   },
   "outputs": [
    {
     "name": "stdout",
     "output_type": "stream",
     "text": [
      "Inside my_func(), x = 10\n"
     ]
    },
    {
     "ename": "NameError",
     "evalue": "ignored",
     "output_type": "error",
     "traceback": [
      "\u001b[0;31m---------------------------------------------------------------------------\u001b[0m",
      "\u001b[0;31mNameError\u001b[0m                                 Traceback (most recent call last)",
      "\u001b[0;32m<ipython-input-13-40a957358825>\u001b[0m in \u001b[0;36m<cell line: 2>\u001b[0;34m()\u001b[0m\n\u001b[1;32m      1\u001b[0m \u001b[0mmy_func\u001b[0m\u001b[0;34m(\u001b[0m\u001b[0;34m)\u001b[0m\u001b[0;34m\u001b[0m\u001b[0;34m\u001b[0m\u001b[0m\n\u001b[0;32m----> 2\u001b[0;31m \u001b[0mprint\u001b[0m\u001b[0;34m(\u001b[0m\u001b[0;34m\"Outside my_func(), x =\"\u001b[0m\u001b[0;34m,\u001b[0m \u001b[0mx\u001b[0m\u001b[0;34m)\u001b[0m  \u001b[0;31m# This will give an error as x is not defined outside the function\u001b[0m\u001b[0;34m\u001b[0m\u001b[0;34m\u001b[0m\u001b[0m\n\u001b[0m",
      "\u001b[0;31mNameError\u001b[0m: name 'x' is not defined"
     ]
    }
   ],
   "source": [
    "my_func()\n",
    "print(\"Outside my_func(), x =\", x)  # This will give an error as x is not defined outside the function"
   ]
  },
  {
   "cell_type": "markdown",
   "metadata": {
    "id": "zmEfJAgILTlJ"
   },
   "source": [
    "**2 . Global Variable :**\n",
    "\n",
    "Global variables, on the other hand, have a global scope, meaning they can be accessed from anywhere in the program. "
   ]
  },
  {
   "cell_type": "code",
   "execution_count": null,
   "metadata": {
    "colab": {
     "base_uri": "https://localhost:8080/"
    },
    "id": "8sV_UJIOLFuB",
    "outputId": "d15672c2-31a0-4f9c-e63f-4096abf0937e"
   },
   "outputs": [
    {
     "name": "stdout",
     "output_type": "stream",
     "text": [
      "Inside my_func(), global_var = 20\n",
      "Inside my_func(), local_var = 10\n",
      "Outside my_func(), global_var = 20\n"
     ]
    }
   ],
   "source": [
    "global_var = 20  # global variable\n",
    "\n",
    "def my_func():\n",
    "    local_var = 10  # local variable\n",
    "    print(\"Inside my_func(), global_var =\", global_var)  # Accessing global variable\n",
    "    print(\"Inside my_func(), local_var =\", local_var)\n",
    "\n",
    "my_func()\n",
    "print(\"Outside my_func(), global_var =\", global_var)"
   ]
  },
  {
   "cell_type": "markdown",
   "metadata": {
    "id": "8QsrMZskL4ia"
   },
   "source": [
    "\n",
    "### return statement\n",
    "\n"
   ]
  },
  {
   "cell_type": "markdown",
   "metadata": {
    "id": "akdTTGA8MFJE"
   },
   "source": [
    "When you call the **len()** function and pass it an argument such as ‘Hello’, the function call evaluates to the integer value 5, which is the length of the string you passed it. In general, the value that a function call evaluates to is called the **return value of the function**.\n",
    "\n",
    "When creating a function using the def statement, you can specify what the return value should be with a return statement. A return statement consists of the following:\n",
    "\n",
    "\n",
    "\n",
    "*   The return keyword\n",
    "*   The value or expression that the function should return\n",
    "\n",
    "\n",
    "\n",
    "\n",
    "\n",
    "When an expression is used with a **return** statement, the **return** value is what this expression evaluates to. For example, the following program defines a function that returns a different string depending on what number it is passed as an argument."
   ]
  },
  {
   "cell_type": "markdown",
   "metadata": {
    "id": "MstKWYTTMkfP"
   },
   "source": [
    "For example:"
   ]
  },
  {
   "cell_type": "code",
   "execution_count": null,
   "metadata": {
    "colab": {
     "base_uri": "https://localhost:8080/"
    },
    "id": "IFvlAZe0LdF0",
    "outputId": "d03affe1-6bac-4efb-8033-ad15770c91bf"
   },
   "outputs": [
    {
     "name": "stdout",
     "output_type": "stream",
     "text": [
      "The result of circle \n"
     ]
    },
    {
     "data": {
      "text/plain": [
       "78.5"
      ]
     },
     "execution_count": 1,
     "metadata": {},
     "output_type": "execute_result"
    }
   ],
   "source": [
    "def areaCircle(r):\n",
    "  PI=3.14\n",
    "  result=PI*r*r\n",
    "  print('The result of circle ')\n",
    "  return result\n",
    "areaCircle(5)"
   ]
  },
  {
   "cell_type": "markdown",
   "metadata": {
    "id": "Qi2mQ-phNCjz"
   },
   "source": [
    "\n",
    "\n",
    "### Defining Functions with Additional Features\n",
    "\n"
   ]
  },
  {
   "cell_type": "markdown",
   "metadata": {
    "id": "NPU3ImDLNNfD"
   },
   "source": [
    "**1 . Required Arguments :**"
   ]
  },
  {
   "cell_type": "markdown",
   "metadata": {
    "id": "e-EbknPrOQK6"
   },
   "source": [
    "A required argument is an argument that must be provided to a function when it is called. A function that expects a required argument will raise a **TypeError** if the argument is not provided.\n",
    "\n",
    "Here's an example of a function with a required argument:"
   ]
  },
  {
   "cell_type": "code",
   "execution_count": null,
   "metadata": {
    "colab": {
     "base_uri": "https://localhost:8080/"
    },
    "id": "puISou9CM-KN",
    "outputId": "8231d394-5f64-470a-e4e0-52b17f6296bd"
   },
   "outputs": [
    {
     "name": "stdout",
     "output_type": "stream",
     "text": [
      "Hello Alice\n"
     ]
    }
   ],
   "source": [
    "def greet(name):\n",
    "    print(\"Hello\", name)\n",
    "\n",
    "greet(\"Alice\")  \n"
   ]
  },
  {
   "cell_type": "markdown",
   "metadata": {
    "id": "0s28ArrQOhvY"
   },
   "source": [
    " If you don't provide a name argument, you'll get a **TypeError**:"
   ]
  },
  {
   "cell_type": "code",
   "execution_count": null,
   "metadata": {
    "colab": {
     "base_uri": "https://localhost:8080/",
     "height": 165
    },
    "id": "q7zyC2GzOb4R",
    "outputId": "96a10576-d570-4687-91ec-450347d903a7"
   },
   "outputs": [
    {
     "ename": "TypeError",
     "evalue": "ignored",
     "output_type": "error",
     "traceback": [
      "\u001b[0;31m---------------------------------------------------------------------------\u001b[0m",
      "\u001b[0;31mTypeError\u001b[0m                                 Traceback (most recent call last)",
      "\u001b[0;32m<ipython-input-3-db845682bfe7>\u001b[0m in \u001b[0;36m<cell line: 1>\u001b[0;34m()\u001b[0m\n\u001b[0;32m----> 1\u001b[0;31m \u001b[0mgreet\u001b[0m\u001b[0;34m(\u001b[0m\u001b[0;34m)\u001b[0m\u001b[0;34m\u001b[0m\u001b[0;34m\u001b[0m\u001b[0m\n\u001b[0m",
      "\u001b[0;31mTypeError\u001b[0m: greet() missing 1 required positional argument: 'name'"
     ]
    }
   ],
   "source": [
    "greet()"
   ]
  },
  {
   "cell_type": "markdown",
   "metadata": {
    "id": "kJ0ksxchOonQ"
   },
   "source": [
    "**2 . Default arguments:** \n",
    "\n",
    "You can specify default values for function arguments, which will be used if the function is called without providing those arguments. For example:"
   ]
  },
  {
   "cell_type": "code",
   "execution_count": null,
   "metadata": {
    "colab": {
     "base_uri": "https://localhost:8080/"
    },
    "id": "_PYZSwv3OlWt",
    "outputId": "bc53032e-ab63-4159-d73e-a1e05ada7998"
   },
   "outputs": [
    {
     "name": "stdout",
     "output_type": "stream",
     "text": [
      "Hello Alice\n",
      "Hi Bob\n"
     ]
    }
   ],
   "source": [
    "def greet(name, greeting=\"Hello\"):\n",
    "    print(greeting, name)\n",
    "\n",
    "greet(\"Alice\") \n",
    "greet(\"Bob\", \"Hi\")  \n"
   ]
  },
  {
   "cell_type": "markdown",
   "metadata": {
    "id": "0ylBAjQdPJlq"
   },
   "source": [
    "**3 . keyword argument :**\n",
    "\n",
    "A keyword argument is an argument passed to a function using the argument name, or keyword, as opposed to the order in which the arguments were defined in the function. Keyword arguments allow you to provide default values for function parameters or to specify arguments out of order.\n",
    "\n",
    "Here's an example of a function call with keyword arguments:"
   ]
  },
  {
   "cell_type": "code",
   "execution_count": null,
   "metadata": {
    "colab": {
     "base_uri": "https://localhost:8080/"
    },
    "id": "eRnBFuO9OxfX",
    "outputId": "762379e5-14aa-4521-855e-0008d8e8ea98"
   },
   "outputs": [
    {
     "name": "stdout",
     "output_type": "stream",
     "text": [
      "Hello Alice\n",
      "Hello Alice\n"
     ]
    }
   ],
   "source": [
    "def greet(name, greeting):\n",
    "    print(greeting , name)\n",
    "\n",
    "greet(name=\"Alice\", greeting=\"Hello\")\n",
    "greet(greeting=\"Hello\",name=\"Alice\")"
   ]
  },
  {
   "cell_type": "markdown",
   "metadata": {
    "id": "r4O73X7jQPc7"
   },
   "source": [
    "**4 . Variable-length arguments :**\n",
    "\n",
    "You can use \"* args\"  to pass a variable number of arguments to a function as a tuple, or \" **kwargs\" to pass a variable number of keyword arguments as a dictionary. For example:"
   ]
  },
  {
   "cell_type": "code",
   "execution_count": null,
   "metadata": {
    "colab": {
     "base_uri": "https://localhost:8080/"
    },
    "id": "SfRrA9Q1PdZS",
    "outputId": "be8f6698-5c3a-4884-be42-15c1d3a704a2"
   },
   "outputs": [
    {
     "name": "stdout",
     "output_type": "stream",
     "text": [
      "24\n",
      "name: Alice\n",
      "greeting: Hello\n"
     ]
    }
   ],
   "source": [
    "def multiply(*args):\n",
    "    result = 1\n",
    "    for num in args:\n",
    "        result *= num\n",
    "    return result\n",
    "\n",
    "print(multiply(2, 3, 4))  \n",
    "\n",
    "def greet(**kwargs):\n",
    "    for key, value in kwargs.items():\n",
    "        print(f\"{key}: {value}\")\n",
    "\n",
    "greet(name=\"Alice\", greeting=\"Hello\")"
   ]
  },
  {
   "cell_type": "markdown",
   "metadata": {
    "id": "ovDlhyixRPNU"
   },
   "source": [
    "\n",
    "\n",
    "### Lambda or Anonymous Function\n",
    "\n"
   ]
  },
  {
   "cell_type": "markdown",
   "metadata": {
    "id": "kgK35NqjRgcW"
   },
   "source": [
    "Lambda functions are small, anonymous functions that can be defined inline.\n",
    "That means this is function without a name. With normal function we use keyword **def** . But with the lambda function is defined along with the keyword **lambda** . They are often used as arguments to higher-order functions like **map, filter, and reduce**. For example:"
   ]
  },
  {
   "cell_type": "markdown",
   "metadata": {
    "id": "fwrV6qU-TzGN"
   },
   "source": [
    "#### 1 . map()"
   ]
  },
  {
   "cell_type": "markdown",
   "metadata": {
    "id": "jYwyyVQjT96-"
   },
   "source": [
    "The map iterator takes a function and applies it to the values in an iterator:"
   ]
  },
  {
   "cell_type": "code",
   "execution_count": null,
   "metadata": {
    "colab": {
     "base_uri": "https://localhost:8080/"
    },
    "id": "OJtOVR1FRBys",
    "outputId": "5208f284-c384-44b6-e2d8-45cec1338bd2"
   },
   "outputs": [
    {
     "name": "stdout",
     "output_type": "stream",
     "text": [
      "[1, 4, 9, 16, 25]\n"
     ]
    }
   ],
   "source": [
    "numbers = [1, 2, 3, 4, 5]\n",
    "squares = map(lambda x: x**2, numbers)\n",
    "print(list(squares))  "
   ]
  },
  {
   "cell_type": "markdown",
   "metadata": {
    "id": "5gsEiv29T3uW"
   },
   "source": [
    "**2 . filter()**"
   ]
  },
  {
   "cell_type": "markdown",
   "metadata": {
    "id": "3yVNw00rUASP"
   },
   "source": [
    "The filter iterator looks similar, except it only passes-through values for which the filter function evaluates to True:"
   ]
  },
  {
   "cell_type": "code",
   "execution_count": null,
   "metadata": {
    "colab": {
     "base_uri": "https://localhost:8080/"
    },
    "id": "8qwBedz7Sxls",
    "outputId": "cef727a9-260b-4195-e905-d6557b4f31a8"
   },
   "outputs": [
    {
     "name": "stdout",
     "output_type": "stream",
     "text": [
      "0 2 4 6 8 "
     ]
    }
   ],
   "source": [
    "# find values up to 10 for which x % 2 is zero\n",
    "is_even = lambda x: x % 2 == 0\n",
    "for val in filter(is_even, range(10)):\n",
    "    print(val, end=' ')"
   ]
  },
  {
   "cell_type": "markdown",
   "metadata": {
    "id": "rjuHuPB7UINp"
   },
   "source": [
    "Note\n",
    "\n",
    "The map and filter functions, along with the reduce function (which lives in Python’s functools module) are fundamental components of the functional programming style, which, while not a dominant programming style in the Python world, has its outspoken proponents (see, for example, the (https://toolz.readthedocs.io/en/latest/) library)."
   ]
  },
  {
   "cell_type": "markdown",
   "metadata": {
    "id": "e1rv4yRoWj-z"
   },
   "source": [
    "\n",
    "\n",
    "> **Documentation String :**\n",
    "\n",
    "A documentation string, also known as a **docstring**, is a string literal that appears as the first statement in a module, function, class, or method definition. The purpose of a docstring is to provide documentation about the code, explaining what it does, how to use it, and any other relevant information.\n",
    "\n",
    "Docstrings are enclosed in triple quotes **(''' or \"\"\")** and are usually placed immediately after the function or class definition. For example:"
   ]
  },
  {
   "cell_type": "code",
   "execution_count": null,
   "metadata": {
    "colab": {
     "base_uri": "https://localhost:8080/"
    },
    "id": "Tde4nhHrUD3D",
    "outputId": "eec80f56-84f3-47a6-d36d-d8535805e489"
   },
   "outputs": [
    {
     "name": "stdout",
     "output_type": "stream",
     "text": [
      " this function is for addition of two numbers\n",
      "    \n",
      "    two numbers are read,added and result is displayed.\n"
     ]
    },
    {
     "data": {
      "text/plain": [
       "3"
      ]
     },
     "execution_count": 19,
     "metadata": {},
     "output_type": "execute_result"
    }
   ],
   "source": [
    "def my_function(arg1, arg2):\n",
    "    \"\"\" this function is for addition of two numbers\n",
    "    \n",
    "    two numbers are read,added and result is displayed.\"\"\"\n",
    "    print(my_function.__doc__)\n",
    "\n",
    "    # Function code goes here\n",
    "    add = arg1 + arg2\n",
    "    return add\n",
    "my_function(1,2)"
   ]
  },
  {
   "cell_type": "markdown",
   "metadata": {
    "id": "rLZO0PydVO87"
   },
   "source": [
    "**Introduction to Modules and Packages in Python :**\n",
    "\n",
    "In Python, a **module** is a file that contains Python code, and a **package** is a directory that contains one or more modules. Modules and packages help in organizing code and make it more reusable.\n",
    "\n",
    "Refer this link : [https://realpython.com/python-modules-packages/](https://)"
   ]
  },
  {
   "cell_type": "markdown",
   "metadata": {
    "id": "bUpthh_ZP0hS"
   },
   "source": [
    "# **Practice Questions**"
   ]
  },
  {
   "cell_type": "markdown",
   "metadata": {
    "id": "aAk-G_M0P8ds"
   },
   "source": [
    "**Difficulty Level : Easy**"
   ]
  },
  {
   "cell_type": "markdown",
   "metadata": {
    "id": "AC65AagjQAET"
   },
   "source": [
    "Q. Create a function to calculate the cube of a number that is passed as the argument to the function.\n",
    "\n",
    "**Example :**\n",
    "\n",
    "def cube(number):\n",
    "    ### your code here\n",
    "\n",
    "number = 4\n",
    "\n",
    "cube(number)\n",
    "\n",
    ">>> 64"
   ]
  },
  {
   "cell_type": "code",
   "execution_count": null,
   "metadata": {
    "id": "bTfBii1WWUeH"
   },
   "outputs": [],
   "source": [
    "## your code ##"
   ]
  },
  {
   "cell_type": "markdown",
   "metadata": {
    "id": "yIRcZ73LQMWJ"
   },
   "source": [
    "Q. Create a function to calculate the sum of square of 2 numbers that are defined as the default arguments and its square output is 5.\n",
    "\n",
    "**Example :**\n",
    "\n",
    "def square(n1 = value,n2 = value):\n",
    "    ### your code here\n",
    "\n",
    "square()\n",
    "\n",
    ">>> 5"
   ]
  },
  {
   "cell_type": "code",
   "execution_count": null,
   "metadata": {
    "id": "rcMUQmd0QJTe"
   },
   "outputs": [],
   "source": [
    "## your code ##"
   ]
  },
  {
   "cell_type": "markdown",
   "metadata": {
    "id": "RtrtFtGnUMAg"
   },
   "source": [
    "Q. Create a function to add two numbers using lambda."
   ]
  },
  {
   "cell_type": "code",
   "execution_count": null,
   "metadata": {
    "id": "7CECIwC0UYGO"
   },
   "outputs": [],
   "source": [
    "## your code ##"
   ]
  },
  {
   "cell_type": "markdown",
   "metadata": {
    "id": "LPpKHn8fQUpe"
   },
   "source": [
    "Q. Create a function to calculate the factorial of a number which is passed as an argument and assign the output of the function to a variable named `out`.\n",
    "\n",
    "**Example :**\n",
    "\n",
    "def factorial(number):\n",
    "    ### your code here\n",
    "\n",
    "out = factorial(5)\n",
    "out\n",
    "\n",
    ">>> 120"
   ]
  },
  {
   "cell_type": "code",
   "execution_count": null,
   "metadata": {
    "id": "tTVp65_vULkU"
   },
   "outputs": [],
   "source": [
    "## your code ##"
   ]
  },
  {
   "cell_type": "markdown",
   "metadata": {
    "id": "xWToK3uPQdug"
   },
   "source": [
    "Q. Correct the syntax of the following function to get the required output.\n",
    "\n",
    "**Note** : Make use of all the concepts covered until now.\n",
    "\n",
    "**Example :**\n",
    "\n",
    "\n",
    "\n",
    "```\n",
    "defn 123string_concatenation{s1 = 'ai',s2 ,s3 = 3);\n",
    "\n",
    "    elif s3 == 3;\n",
    "    s = s1 + s2 * s3\n",
    "        printf[s,end = '-')\n",
    "    else;;\n",
    "    s = s1 + s2 * 1\n",
    "    printf(s,end = '->'\\\n",
    "\n",
    "    123string_concat{'adventures']\n",
    "\n",
    "\n",
    "```\n",
    "\n",
    "\n",
    "\n",
    "\n",
    "\n",
    ">>> 'aiadventuresaiadventuresaiadventures'"
   ]
  },
  {
   "cell_type": "code",
   "execution_count": null,
   "metadata": {
    "id": "M0rZ5YnJUNIL"
   },
   "outputs": [],
   "source": [
    "## your code ##"
   ]
  },
  {
   "cell_type": "markdown",
   "metadata": {
    "id": "J-oanYX4SLVY"
   },
   "source": [
    "Q. Create a function to swap two numbers.\n",
    "\n",
    "**Example :**\n",
    "\n",
    "def swap(a,b):\n",
    "\n",
    "    ### your code here\n",
    "a=10,\n",
    "b=20\n",
    "\n",
    "swap(a,b)\n",
    ">>> after swaping a=20,b=10\n",
    "  \n",
    "\n"
   ]
  },
  {
   "cell_type": "code",
   "execution_count": null,
   "metadata": {
    "id": "kHp3EgbwUOJR"
   },
   "outputs": [],
   "source": [
    "## your code ##"
   ]
  },
  {
   "cell_type": "markdown",
   "metadata": {
    "id": "jhOnT7pPUmT0"
   },
   "source": [
    "Q. Create a function for sorting a list of tuples by the second element.\n",
    "\n",
    "**Example :**\n",
    "\n",
    "my_list = [(2, 3), (1, 2), (4, 1), (3, 4)]\n",
    ">>>Output : [(4, 1), (1, 2), (2, 3), (3, 4)]"
   ]
  },
  {
   "cell_type": "code",
   "execution_count": null,
   "metadata": {
    "id": "EID6INCeUlp4"
   },
   "outputs": [],
   "source": []
  },
  {
   "cell_type": "markdown",
   "metadata": {
    "id": "p6xf6fPtQvT6"
   },
   "source": [
    "**Difficulty Level : Medium**"
   ]
  },
  {
   "cell_type": "markdown",
   "metadata": {
    "id": "qOJE3A9nTVdv"
   },
   "source": [
    "Q. Write a program to create simple calculator."
   ]
  },
  {
   "cell_type": "code",
   "execution_count": null,
   "metadata": {
    "id": "91-o28OUTt4_"
   },
   "outputs": [],
   "source": [
    "## your code ##"
   ]
  },
  {
   "cell_type": "markdown",
   "metadata": {
    "id": "CDi6T-cfT3ud"
   },
   "source": [
    "Q. Write a program to display the Fibonacci series upto n numbers."
   ]
  },
  {
   "cell_type": "code",
   "execution_count": null,
   "metadata": {
    "id": "k5vaLRPQUP7x"
   },
   "outputs": [],
   "source": [
    "## your code ##"
   ]
  },
  {
   "cell_type": "markdown",
   "metadata": {
    "id": "NJ9CD5p2Qzoq"
   },
   "source": [
    "Q. Create a function to calculate the area of triangle or rectangle using 3 arguments : base, height and shape.\n",
    "\n",
    "Example :\n",
    "\n",
    "def calculate_area(base, height,shape):\n",
    "    ### your code here\n",
    "\n",
    "b = 2\n",
    "h = 6\n",
    "\n",
    "calculate_area(b,h, 'Rectangle')\n",
    "\n",
    ">>> 12\n",
    "\n",
    "\n",
    "calculate_area(b,h, 'Triangle')\n",
    "\n",
    ">>> 6.0"
   ]
  },
  {
   "cell_type": "code",
   "execution_count": null,
   "metadata": {
    "id": "mtA-KwaUURA0"
   },
   "outputs": [],
   "source": [
    "## your code ##"
   ]
  },
  {
   "cell_type": "markdown",
   "metadata": {
    "id": "SjjLZtCJQ6Ii"
   },
   "source": [
    "Q. Create a function that returns None value and display the result of the string concatenation. You have to take the 2 strings required for the function as argument as shown in the example given below.\n",
    "Example :\n",
    "\n",
    "def none_value_assignment(s1 = input(),s2 = input()):\n",
    "    ### your code here\n",
    "\n",
    "var1 = none_value_assignment()\n",
    "\n",
    "type(var1)\n",
    "\n",
    ">>> result of string concatenation of s1 and s2\n",
    "\n",
    ">>> NoneType\n",
    "\n",
    "var2 = none_value_assignment('ai', 'adventures')\n",
    "\n",
    "type(var2)\n",
    "\n",
    ">>> aiadventures\n",
    "\n",
    ">>> NoneType"
   ]
  },
  {
   "cell_type": "code",
   "execution_count": null,
   "metadata": {
    "id": "2qoNZRtmUSCS"
   },
   "outputs": [],
   "source": [
    "## your code ##"
   ]
  },
  {
   "cell_type": "markdown",
   "metadata": {
    "id": "J3eggleYRVok"
   },
   "source": [
    "**Difficulty Level : Hard**"
   ]
  },
  {
   "cell_type": "markdown",
   "metadata": {
    "id": "cWxvAjZ2RZF8"
   },
   "source": [
    "Q. Create a function to calculate and display the sum of the following sequence by taking input from user for n.\n",
    "\n",
    "**Sequence** : 1 + 1/1! + 1/2! + 1/3! + + 1/n!\n",
    "\n",
    "**Hint** : Give a thought above factorial() you have just created a few problems back.\n",
    "\n",
    "def sequence(n):\n",
    "    ### your code here\n",
    "\n",
    "sequence(5)\n",
    "\n",
    ">>> 2.7166666666666663"
   ]
  },
  {
   "cell_type": "code",
   "execution_count": null,
   "metadata": {
    "id": "u_OsIT3BUTRM"
   },
   "outputs": [],
   "source": [
    "## your code ##"
   ]
  },
  {
   "cell_type": "markdown",
   "metadata": {
    "id": "Ws1K2hAcRltT"
   },
   "source": [
    "Q. Create a function to check whether a string is pangram or not.\n",
    "\n",
    "**Pangram Definition :** It is a sentence containing all 26 letters of the English alphabets.\n",
    "\n",
    "**Example :**\n",
    "\n",
    "def ispangram(sentence):\n",
    "    ### your code here\n",
    "\n",
    "sentence1 = \"a quick brown fox jumps over the lazy dog\"\n",
    "\n",
    "sentence2 = \"hello my name is ramesh\"\n",
    "\n",
    "\n",
    "ispangram(sentence1)\n",
    "\n",
    ">>> True\n",
    "\n",
    "ispangram(sentence2)\n",
    "\n",
    ">>> False"
   ]
  },
  {
   "cell_type": "code",
   "execution_count": null,
   "metadata": {
    "id": "k8dqvvViUUTp"
   },
   "outputs": [],
   "source": [
    "## your code ##"
   ]
  }
 ],
 "metadata": {
  "colab": {
   "provenance": []
  },
  "kernelspec": {
   "display_name": "Python 3 (ipykernel)",
   "language": "python",
   "name": "python3"
  },
  "language_info": {
   "codemirror_mode": {
    "name": "ipython",
    "version": 3
   },
   "file_extension": ".py",
   "mimetype": "text/x-python",
   "name": "python",
   "nbconvert_exporter": "python",
   "pygments_lexer": "ipython3",
   "version": "3.9.7"
  }
 },
 "nbformat": 4,
 "nbformat_minor": 1
}
