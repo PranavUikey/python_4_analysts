{
 "cells": [
  {
   "cell_type": "markdown",
   "metadata": {
    "id": "gQyNqZpzvGeh"
   },
   "source": [
    "\n",
    "\n",
    "# Functions\n",
    "\n",
    "\n"
   ]
  },
  {
   "cell_type": "markdown",
   "metadata": {
    "id": "4MHANpcI0FSc"
   },
   "source": [
    "You’re already familiar with the **print(), input(), and len()** functions from the previous chapters. Python provides several built-in functions like these, but you can also write your own functions. A function is like a mini-program within a program."
   ]
  },
  {
   "cell_type": "markdown",
   "metadata": {
    "id": "kMPNKJj00Bcz"
   },
   "source": [
    "## What is Function  and Why we need it ?\n"
   ]
  },
  {
   "cell_type": "markdown",
   "metadata": {
    "id": "q_G-GA09yQTD"
   },
   "source": [
    "![](../images/unit_6_01.png)"
   ]
  },
  {
   "cell_type": "markdown",
   "metadata": {
    "id": "w24FtVZkAqX3"
   },
   "source": [
    "### Function Definition\n",
    "\n",
    "a function is defined using the **def** keyword followed by the function name, parameter(s) (if any), and a colon : to start the function body. The function body contains the code that is executed when the function is called."
   ]
  },
  {
   "cell_type": "markdown",
   "metadata": {
    "id": "PQr0S3vvBHY7"
   },
   "source": [
    "Syntax :\n",
    "\n",
    "```\n",
    "def function_name(parameter1, parameter2, ...):\n",
    "    # function body\n",
    "    statement1\n",
    "    statement2\n",
    "    ...\n",
    "\n",
    "```\n",
    "\n"
   ]
  },
  {
   "cell_type": "markdown",
   "metadata": {
    "id": "tb3GHWD0FPR0"
   },
   "source": [
    "To better understand how functions work, let’s create one."
   ]
  },
  {
   "cell_type": "code",
   "execution_count": 6,
   "metadata": {
    "id": "CpWA7vX1FR8K"
   },
   "outputs": [],
   "source": [
    "def hello(): \n",
    "    print('Hello!') \n",
    "    print('Hello!!!')\n",
    "    print('Hello there.')"
   ]
  },
  {
   "cell_type": "code",
   "execution_count": 7,
   "metadata": {
    "colab": {
     "base_uri": "https://localhost:8080/"
    },
    "id": "u-KnyR2u0S_5",
    "outputId": "2ea7f9cb-1726-4f9f-e2b9-11e526e92882"
   },
   "outputs": [
    {
     "name": "stdout",
     "output_type": "stream",
     "text": [
      "Hello!\n",
      "Hello!!!\n",
      "Hello there.\n"
     ]
    }
   ],
   "source": [
    "hello()   #  Function call"
   ]
  },
  {
   "cell_type": "code",
   "execution_count": 8,
   "metadata": {
    "colab": {
     "base_uri": "https://localhost:8080/"
    },
    "id": "WObzl93nAdPA",
    "outputId": "0c9923d4-e77a-4492-a24c-069b87315cf8"
   },
   "outputs": [
    {
     "name": "stdout",
     "output_type": "stream",
     "text": [
      "Hello!\n",
      "Hello!!!\n",
      "Hello there.\n",
      "Hello!\n",
      "Hello!!!\n",
      "Hello there.\n",
      "Hello!\n",
      "Hello!!!\n",
      "Hello there.\n"
     ]
    }
   ],
   "source": [
    "hello() \n",
    "hello() \n",
    "hello() "
   ]
  },
  {
   "cell_type": "markdown",
   "metadata": {
    "id": "2V_RBxQCAXuz"
   },
   "source": [
    "The **hello()** are function calls. In code, a function call is just the function’s name followed by parentheses, possibly with some number of arguments in between the parentheses. When the program execution reaches these calls, it will jump to the top line in the function and begin executing the code there. When it reaches the end of the function, the execution returns to the line that called the function and continues moving through the code as before.\n",
    "\n",
    "A major purpose of functions is to group code that gets executed multiple times. Without a function defined, you would have to copy and paste this code each time, and the program would look like this:"
   ]
  },
  {
   "cell_type": "code",
   "execution_count": 9,
   "metadata": {
    "colab": {
     "base_uri": "https://localhost:8080/"
    },
    "id": "f3VqAYbX9XaC",
    "outputId": "fda91d76-1433-4ebb-8bb8-03ad7c273a65"
   },
   "outputs": [
    {
     "name": "stdout",
     "output_type": "stream",
     "text": [
      "Hello!\n",
      "Hello!!!\n",
      "Hello there.\n",
      "Hello!\n",
      "Hello!!!\n",
      "Hello there.\n",
      "Hello!\n",
      "Hello!!!\n",
      "Hello there.\n"
     ]
    }
   ],
   "source": [
    "print('Hello!')\n",
    "print('Hello!!!')\n",
    "print('Hello there.')\n",
    "print('Hello!')\n",
    "print('Hello!!!')\n",
    "print('Hello there.')\n",
    "print('Hello!')\n",
    "print('Hello!!!')\n",
    "print('Hello there.')"
   ]
  },
  {
   "cell_type": "markdown",
   "metadata": {
    "id": "JuE7a2JeFtBr"
   },
   "source": [
    "\n",
    "\n",
    "### def statement with parameters\n",
    "\n",
    "When you call the **print()** or **len()** function, you pass in values, called arguments in this context, by typing them between the parentheses. You can also define your own functions that accept arguments.\n",
    "\n"
   ]
  },
  {
   "cell_type": "code",
   "execution_count": 10,
   "metadata": {
    "id": "bMnKEjApAcWl"
   },
   "outputs": [],
   "source": [
    "def hello(name):            \n",
    "    print('Hello '+ name)       "
   ]
  },
  {
   "cell_type": "markdown",
   "metadata": {
    "id": "iigRSN_-GMac"
   },
   "source": [
    "The definition of the **hello()** function in this program has a parameter called name. A parameter is a variable that an argument is stored in when a function is called.\n",
    "\n"
   ]
  },
  {
   "cell_type": "code",
   "execution_count": 11,
   "metadata": {
    "colab": {
     "base_uri": "https://localhost:8080/"
    },
    "id": "OvJEpKIHF9En",
    "outputId": "7cb78497-126b-4744-d4d3-f547e4694454"
   },
   "outputs": [
    {
     "name": "stdout",
     "output_type": "stream",
     "text": [
      "Hello George\n",
      "Hello Esra\n"
     ]
    }
   ],
   "source": [
    "hello('George')\n",
    "hello('Esra')"
   ]
  },
  {
   "cell_type": "markdown",
   "metadata": {
    "id": "ZKZxL46pGd1t"
   },
   "source": [
    "One special thing to note about parameters is that the value stored in a parameter is forgotten when the function returns. For example, if you added **print(name)** after **hello('Esra')** in the previous program, the program would give you a NameError because there is no variable named name. This variable was destroyed after the function call **hello('Esra')** had returned, so **print(name)** would refer to a name variable that does not exist."
   ]
  },
  {
   "cell_type": "markdown",
   "metadata": {
    "id": "JWGUZS7hHzHY"
   },
   "source": [
    "\n",
    "\n",
    "### Variable Scope and Lifetime"
   ]
  },
  {
   "cell_type": "markdown",
   "metadata": {
    "id": "wO-RZx9WJLEW"
   },
   "source": [
    "The **scope of a variable** refers to the part of the program where the variable is visible and can be accessed. It can be divided into two types:"
   ]
  },
  {
   "cell_type": "markdown",
   "metadata": {
    "id": "Nz2UqcxGJ8T0"
   },
   "source": [
    "### 1 . Local Scope: \n",
    "\n",
    "    Variables declared inside a function have local scope. They are only accessible inside the function and are destroyed when the function completes execution.\n",
    "\n",
    "### 2 . Global Scope:\n",
    "\n",
    "    Variables declared outside any function or block have global scope. They are accessible from anywhere in the program, and their lifetime is until the program ends."
   ]
  },
  {
   "cell_type": "markdown",
   "metadata": {
    "id": "rDMvx8xpKH0m"
   },
   "source": [
    "```{note}\n",
    "    **Variable Lifetime:**\n",
    "    The lifetime of a variable is the duration for which it exists in the memory.\n",
    "```"
   ]
  },
  {
   "cell_type": "markdown",
   "metadata": {
    "id": "fab_pPn3Kdwd"
   },
   "source": [
    "#### Local and Global Variable"
   ]
  },
  {
   "cell_type": "markdown",
   "metadata": {
    "id": "oV1peAcxK4ij"
   },
   "source": [
    "**1 . Local Variable :**\n",
    "\n",
    "Local variables have a local scope, meaning they are only accessible within the block of code in which they are defined. This block of code can be a function, a loop, or any other construct that defines a scope."
   ]
  },
  {
   "cell_type": "code",
   "execution_count": 12,
   "metadata": {
    "id": "YmBXgyDPF8T2"
   },
   "outputs": [],
   "source": [
    "def my_func():\n",
    "    x = 10  # local variable\n",
    "    print(\"Inside my_func(), x =\", x)"
   ]
  },
  {
   "cell_type": "code",
   "execution_count": 13,
   "metadata": {
    "colab": {
     "base_uri": "https://localhost:8080/",
     "height": 200
    },
    "id": "HwTb6GF_LMDa",
    "outputId": "84ebbc1e-0e85-46de-b9af-c006bd5bc3f6"
   },
   "outputs": [
    {
     "name": "stdout",
     "output_type": "stream",
     "text": [
      "Inside my_func(), x = 10\n",
      "Outside my_func(), x = None\n"
     ]
    }
   ],
   "source": [
    "my_func()\n",
    "print(\"Outside my_func(), x =\", x)  # This will give an error as x is not defined outside the function"
   ]
  },
  {
   "cell_type": "markdown",
   "metadata": {
    "id": "zmEfJAgILTlJ"
   },
   "source": [
    "**2 . Global Variable :**\n",
    "\n",
    "Global variables, on the other hand, have a global scope, meaning they can be accessed from anywhere in the program. "
   ]
  },
  {
   "cell_type": "code",
   "execution_count": 14,
   "metadata": {
    "colab": {
     "base_uri": "https://localhost:8080/"
    },
    "id": "8sV_UJIOLFuB",
    "outputId": "d15672c2-31a0-4f9c-e63f-4096abf0937e"
   },
   "outputs": [
    {
     "name": "stdout",
     "output_type": "stream",
     "text": [
      "Inside my_func(), global_var = 20\n",
      "Inside my_func(), local_var = 10\n",
      "Outside my_func(), global_var = 20\n"
     ]
    }
   ],
   "source": [
    "global_var = 20  # global variable\n",
    "\n",
    "def my_func():\n",
    "    local_var = 10  # local variable\n",
    "    print(\"Inside my_func(), global_var =\", global_var)  # Accessing global variable\n",
    "    print(\"Inside my_func(), local_var =\", local_var)\n",
    "\n",
    "my_func()\n",
    "print(\"Outside my_func(), global_var =\", global_var)"
   ]
  },
  {
   "cell_type": "markdown",
   "metadata": {
    "id": "8QsrMZskL4ia"
   },
   "source": [
    "\n",
    "### return statement\n",
    "\n"
   ]
  },
  {
   "cell_type": "markdown",
   "metadata": {
    "id": "akdTTGA8MFJE"
   },
   "source": [
    "When you call the **len()** function and pass it an argument such as ‘Hello’, the function call evaluates to the integer value 5, which is the length of the string you passed it. In general, the value that a function call evaluates to is called the **return value of the function**.\n",
    "\n",
    "When creating a function using the def statement, you can specify what the return value should be with a return statement. A return statement consists of the following:\n",
    "\n",
    "\n",
    "\n",
    "*   The return keyword\n",
    "*   The value or expression that the function should return\n",
    "\n",
    "\n",
    "\n",
    "\n",
    "\n",
    "When an expression is used with a **return** statement, the **return** value is what this expression evaluates to. For example, the following program defines a function that returns a different string depending on what number it is passed as an argument."
   ]
  },
  {
   "cell_type": "markdown",
   "metadata": {
    "id": "MstKWYTTMkfP"
   },
   "source": [
    "For example:"
   ]
  },
  {
   "cell_type": "code",
   "execution_count": 15,
   "metadata": {},
   "outputs": [
    {
     "name": "stdout",
     "output_type": "stream",
     "text": [
      "The area of circle \n"
     ]
    },
    {
     "data": {
      "text/plain": [
       "78.5"
      ]
     },
     "execution_count": 15,
     "metadata": {},
     "output_type": "execute_result"
    }
   ],
   "source": [
    "def areaCircle(r):\n",
    "  PI=3.14\n",
    "  result=PI*r*r\n",
    "  print('The area of circle ')\n",
    "  return result\n",
    "x=areaCircle(5)\n",
    "x "
   ]
  },
  {
   "cell_type": "markdown",
   "metadata": {
    "colab": {
     "base_uri": "https://localhost:8080/"
    },
    "id": "IFvlAZe0LdF0",
    "outputId": "d03affe1-6bac-4efb-8033-ad15770c91bf"
   },
   "source": [
    "you can do further operation on this x variable as it contains actual value of area of circle  "
   ]
  },
  {
   "cell_type": "code",
   "execution_count": 16,
   "metadata": {},
   "outputs": [
    {
     "name": "stdout",
     "output_type": "stream",
     "text": [
      "The area of circle \n",
      "79.5\n"
     ]
    }
   ],
   "source": [
    "def areaCircle(r):\n",
    "  PI=3.14\n",
    "  result=PI*r*r\n",
    "  print('The area of circle ')\n",
    "  return result\n",
    "x=areaCircle(5)\n",
    "print(x + 1)"
   ]
  },
  {
   "cell_type": "markdown",
   "metadata": {},
   "source": [
    "**Difference between print and return**\n",
    "\n",
    "`print()` displays the values from the function so our x is empty and thus contains `None`"
   ]
  },
  {
   "cell_type": "code",
   "execution_count": 17,
   "metadata": {},
   "outputs": [
    {
     "name": "stdout",
     "output_type": "stream",
     "text": [
      "The area of circle \n",
      "78.5\n",
      "None\n"
     ]
    }
   ],
   "source": [
    "def areaCircle(r):\n",
    "  PI=3.14\n",
    "  result=PI*r*r\n",
    "  print('The area of circle ')\n",
    "  print(result)\n",
    "x=areaCircle(5)\n",
    "print(x)"
   ]
  },
  {
   "cell_type": "markdown",
   "metadata": {},
   "source": [
    "so if you try to do any operations on x it leads to `TypeError` here"
   ]
  },
  {
   "cell_type": "code",
   "execution_count": 18,
   "metadata": {},
   "outputs": [
    {
     "name": "stdout",
     "output_type": "stream",
     "text": [
      "The area of circle \n",
      "78.5\n"
     ]
    },
    {
     "ename": "TypeError",
     "evalue": "unsupported operand type(s) for +: 'NoneType' and 'int'",
     "output_type": "error",
     "traceback": [
      "\u001b[1;31m---------------------------------------------------------------------------\u001b[0m",
      "\u001b[1;31mTypeError\u001b[0m                                 Traceback (most recent call last)",
      "\u001b[1;32m<ipython-input-18-7d4aa0dab2f3>\u001b[0m in \u001b[0;36m<module>\u001b[1;34m\u001b[0m\n\u001b[0;32m      5\u001b[0m   \u001b[0mprint\u001b[0m\u001b[1;33m(\u001b[0m\u001b[0mresult\u001b[0m\u001b[1;33m)\u001b[0m\u001b[1;33m\u001b[0m\u001b[0m\n\u001b[0;32m      6\u001b[0m \u001b[0mx\u001b[0m\u001b[1;33m=\u001b[0m\u001b[0mareaCircle\u001b[0m\u001b[1;33m(\u001b[0m\u001b[1;36m5\u001b[0m\u001b[1;33m)\u001b[0m\u001b[1;33m\u001b[0m\u001b[0m\n\u001b[1;32m----> 7\u001b[1;33m \u001b[0mprint\u001b[0m\u001b[1;33m(\u001b[0m\u001b[0mx\u001b[0m \u001b[1;33m+\u001b[0m \u001b[1;36m1\u001b[0m\u001b[1;33m)\u001b[0m\u001b[1;33m\u001b[0m\u001b[0m\n\u001b[0m",
      "\u001b[1;31mTypeError\u001b[0m: unsupported operand type(s) for +: 'NoneType' and 'int'"
     ]
    }
   ],
   "source": [
    "def areaCircle(r):\n",
    "  PI=3.14\n",
    "  result=PI*r*r\n",
    "  print('The area of circle ')\n",
    "  print(result)\n",
    "x=areaCircle(5)\n",
    "print(x + 1)"
   ]
  },
  {
   "cell_type": "markdown",
   "metadata": {
    "id": "Qi2mQ-phNCjz"
   },
   "source": [
    "\n",
    "\n",
    "### Defining Functions with Additional Features\n",
    "\n"
   ]
  },
  {
   "cell_type": "markdown",
   "metadata": {
    "id": "NPU3ImDLNNfD"
   },
   "source": [
    "**1 . Required Arguments :**"
   ]
  },
  {
   "cell_type": "markdown",
   "metadata": {
    "id": "e-EbknPrOQK6"
   },
   "source": [
    "A required argument is an argument that must be provided to a function when it is called. A function that expects a required argument will raise a **TypeError** if the argument is not provided.\n",
    "\n",
    "Here's an example of a function with a required argument:"
   ]
  },
  {
   "cell_type": "code",
   "execution_count": null,
   "metadata": {
    "colab": {
     "base_uri": "https://localhost:8080/"
    },
    "id": "puISou9CM-KN",
    "outputId": "8231d394-5f64-470a-e4e0-52b17f6296bd"
   },
   "outputs": [
    {
     "name": "stdout",
     "output_type": "stream",
     "text": [
      "Hello Alice\n"
     ]
    }
   ],
   "source": [
    "def greet(name):\n",
    "    print(\"Hello\", name)\n",
    "\n",
    "greet(\"Alice\")  \n"
   ]
  },
  {
   "cell_type": "markdown",
   "metadata": {
    "id": "0s28ArrQOhvY"
   },
   "source": [
    " If you don't provide a name argument, you'll get a **TypeError**:"
   ]
  },
  {
   "cell_type": "code",
   "execution_count": null,
   "metadata": {
    "colab": {
     "base_uri": "https://localhost:8080/",
     "height": 165
    },
    "id": "q7zyC2GzOb4R",
    "outputId": "96a10576-d570-4687-91ec-450347d903a7"
   },
   "outputs": [
    {
     "ename": "TypeError",
     "evalue": "ignored",
     "output_type": "error",
     "traceback": [
      "\u001b[0;31m---------------------------------------------------------------------------\u001b[0m",
      "\u001b[0;31mTypeError\u001b[0m                                 Traceback (most recent call last)",
      "\u001b[0;32m<ipython-input-3-db845682bfe7>\u001b[0m in \u001b[0;36m<cell line: 1>\u001b[0;34m()\u001b[0m\n\u001b[0;32m----> 1\u001b[0;31m \u001b[0mgreet\u001b[0m\u001b[0;34m(\u001b[0m\u001b[0;34m)\u001b[0m\u001b[0;34m\u001b[0m\u001b[0;34m\u001b[0m\u001b[0m\n\u001b[0m",
      "\u001b[0;31mTypeError\u001b[0m: greet() missing 1 required positional argument: 'name'"
     ]
    }
   ],
   "source": [
    "greet()"
   ]
  },
  {
   "cell_type": "markdown",
   "metadata": {
    "id": "kJ0ksxchOonQ"
   },
   "source": [
    "**2 . Default arguments:** \n",
    "\n",
    "You can make arguments optional for a function by using default arguments in the given code below greeting is default argument so even if you don't provide value to it, you won't get any error"
   ]
  },
  {
   "cell_type": "code",
   "execution_count": null,
   "metadata": {
    "colab": {
     "base_uri": "https://localhost:8080/"
    },
    "id": "_PYZSwv3OlWt",
    "outputId": "bc53032e-ab63-4159-d73e-a1e05ada7998"
   },
   "outputs": [
    {
     "name": "stdout",
     "output_type": "stream",
     "text": [
      "Hello Alice\n",
      "Hi Bob\n"
     ]
    }
   ],
   "source": [
    "def greet(name, greeting=\"Hello\"):\n",
    "    print(greeting, name)\n",
    "\n",
    "greet(\"Alice\") \n",
    "greet(\"Bob\", \"Hi\")  \n"
   ]
  },
  {
   "cell_type": "markdown",
   "metadata": {
    "id": "rLZO0PydVO87"
   },
   "source": [
    "**Introduction to Modules and Packages in Python :**\n",
    "\n",
    "In Python, a **module** is a file that contains Python code (functions), and a **package** is a directory that contains one or more modules. Modules and packages help in organizing code and make it more reusable.\n",
    "\n",
    "Refer this link : [https://realpython.com/python-modules-packages/](https://)"
   ]
  },
  {
   "cell_type": "markdown",
   "metadata": {
    "id": "bUpthh_ZP0hS"
   },
   "source": [
    "# **Practice Questions**"
   ]
  },
  {
   "cell_type": "markdown",
   "metadata": {
    "id": "AC65AagjQAET"
   },
   "source": [
    "Q. Create a function to calculate the cube of a number that is passed as the argument to the function.\n",
    "\n",
    "**Example :**\n",
    "\n",
    "def cube(number):\n",
    "\n",
    "          ### your code here\n",
    "\n",
    "number = 4\n",
    "\n",
    "cube(number)\n",
    "\n",
    ">>> 64"
   ]
  },
  {
   "cell_type": "code",
   "execution_count": null,
   "metadata": {
    "id": "bTfBii1WWUeH"
   },
   "outputs": [],
   "source": []
  },
  {
   "cell_type": "markdown",
   "metadata": {
    "id": "RtrtFtGnUMAg"
   },
   "source": [
    "Q. Create a function to add two numbers.\n",
    "\n",
    "**Example :**\n",
    "\n",
    "\n",
    "def function_name(num1,num2):\n",
    "        \n",
    "        ### your code here\n",
    "\n",
    "function_name(3, 5)  \n",
    ">>> 8"
   ]
  },
  {
   "cell_type": "code",
   "execution_count": null,
   "metadata": {
    "id": "7CECIwC0UYGO"
   },
   "outputs": [],
   "source": []
  },
  {
   "cell_type": "markdown",
   "metadata": {},
   "source": [
    "Q. Create a function that checks if a number is even.\n",
    "\n",
    "**Example :**\n",
    "\n",
    "def function_name(num):\n",
    "        \n",
    "        ### your code here\n",
    "\n",
    "function_name(4) \n",
    ">>> Even"
   ]
  },
  {
   "cell_type": "code",
   "execution_count": null,
   "metadata": {},
   "outputs": [],
   "source": []
  },
  {
   "cell_type": "markdown",
   "metadata": {},
   "source": [
    "Q. Write a function that returns the length of a string.\n",
    "\n",
    "**Example :**\n",
    "\n",
    "def function_name(string):\n",
    "        \n",
    "        ### your code here\n",
    "\n",
    "function_name('Hello')  \n",
    ">>> 5"
   ]
  },
  {
   "cell_type": "code",
   "execution_count": null,
   "metadata": {},
   "outputs": [],
   "source": []
  },
  {
   "cell_type": "markdown",
   "metadata": {},
   "source": [
    "Q. Write a function that reverses a string.\n",
    "\n",
    "**Example :**\n",
    "\n",
    "\n",
    "def function_name(string):\n",
    "        \n",
    "        ### your code here\n",
    "\n",
    "function_name('hello')       \n",
    ">>>\"olleh\"\n"
   ]
  },
  {
   "cell_type": "code",
   "execution_count": null,
   "metadata": {},
   "outputs": [],
   "source": []
  },
  {
   "cell_type": "markdown",
   "metadata": {},
   "source": [
    "Q. Create a function that displays first 2 values in a list.\n",
    "\n",
    "\n",
    "**Example :**\n",
    "\n",
    "def function_name(list1):\n",
    "        \n",
    "        ### your code here\n",
    "\n",
    "function_name([1, 3, 2])        \n",
    ">>>  1 3"
   ]
  },
  {
   "cell_type": "code",
   "execution_count": null,
   "metadata": {},
   "outputs": [],
   "source": []
  },
  {
   "cell_type": "markdown",
   "metadata": {},
   "source": [
    "Q.  Write a function that concatenates two strings.\n",
    "\n",
    "**Example :**\n",
    "\n",
    "def function_name(val1,val2):\n",
    "        \n",
    "        ### your code here\n",
    "\n",
    "\n",
    "function_name(\"Hello\", \"World\")        \n",
    ">>>  \"HelloWorld\""
   ]
  },
  {
   "cell_type": "code",
   "execution_count": null,
   "metadata": {},
   "outputs": [],
   "source": []
  },
  {
   "cell_type": "markdown",
   "metadata": {},
   "source": [
    "\n",
    "\n",
    "\n",
    "\n",
    "\n",
    "\n",
    "Q. Create a function that converts a temperature from Celsius to Fahrenheit.\n",
    "\n",
    "Hint: Use the formula F = C * 9/5 + 32.\n",
    "\n",
    "**Example :**\n",
    "\n",
    "\n",
    "def function_name(num1):\n",
    "        \n",
    "        ### your code here\n",
    "\n",
    "\n",
    "function_name(0)        \n",
    ">>> 32.0"
   ]
  },
  {
   "cell_type": "code",
   "execution_count": null,
   "metadata": {},
   "outputs": [],
   "source": []
  }
 ],
 "metadata": {
  "colab": {
   "provenance": []
  },
  "kernelspec": {
   "display_name": "Python 3 (ipykernel)",
   "language": "python",
   "name": "python3"
  },
  "language_info": {
   "codemirror_mode": {
    "name": "ipython",
    "version": 3
   },
   "file_extension": ".py",
   "mimetype": "text/x-python",
   "name": "python",
   "nbconvert_exporter": "python",
   "pygments_lexer": "ipython3",
   "version": "3.6.3"
  }
 },
 "nbformat": 4,
 "nbformat_minor": 1
}
