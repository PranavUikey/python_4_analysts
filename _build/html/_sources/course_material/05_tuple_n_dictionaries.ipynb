{
 "cells": [
  {
   "cell_type": "markdown",
   "metadata": {},
   "source": [
    "\n",
    "# Tuple"
   ]
  },
  {
   "cell_type": "markdown",
   "metadata": {
    "id": "gzFSXOV2oS01"
   },
   "source": [
    "Lists aren’t the only data types that represent ordered sequences of values. For example, tuples and lists are actually similar.Many of the things you can do with lists can also be done with tuple: indexing; slicing; and using them with for loops, with len()."
   ]
  },
  {
   "cell_type": "markdown",
   "metadata": {
    "id": "eIIkLrPVyEQI"
   },
   "source": [
    "![](../images/unit_5_01.png)"
   ]
  },
  {
   "cell_type": "markdown",
   "metadata": {
    "id": "IyS3t8lg4eBP"
   },
   "source": [
    "## Tuple data type"
   ]
  },
  {
   "cell_type": "markdown",
   "metadata": {
    "id": "LR3A9VkJwYW4"
   },
   "source": [
    "![](../images/unit_5_02.png)"
   ]
  },
  {
   "cell_type": "code",
   "execution_count": null,
   "metadata": {
    "id": "XWtr2_xMmY-v"
   },
   "outputs": [],
   "source": [
    "candies = ('hello', 42, 0.5)  # creating tuple"
   ]
  },
  {
   "cell_type": "code",
   "execution_count": null,
   "metadata": {
    "colab": {
     "base_uri": "https://localhost:8080/",
     "height": 35
    },
    "id": "bPPl7i2k5q9R",
    "outputId": "f681b929-a787-49a3-aaae-eb222976e0fb"
   },
   "outputs": [
    {
     "data": {
      "application/vnd.google.colaboratory.intrinsic+json": {
       "type": "string"
      },
      "text/plain": [
       "'hello'"
      ]
     },
     "execution_count": 2,
     "metadata": {},
     "output_type": "execute_result"
    }
   ],
   "source": [
    "candies[0]  # indexing"
   ]
  },
  {
   "cell_type": "code",
   "execution_count": null,
   "metadata": {
    "colab": {
     "base_uri": "https://localhost:8080/"
    },
    "id": "x1EIEL5s5zAs",
    "outputId": "4ff41274-c02d-4222-e578-b9ed4872fd87"
   },
   "outputs": [
    {
     "data": {
      "text/plain": [
       "(42, 0.5)"
      ]
     },
     "execution_count": 3,
     "metadata": {},
     "output_type": "execute_result"
    }
   ],
   "source": [
    "candies[1:3] # slicing"
   ]
  },
  {
   "cell_type": "code",
   "execution_count": null,
   "metadata": {
    "id": "3Pp80ZHt6Qwa"
   },
   "outputs": [],
   "source": [
    "t=()  # empty tuple"
   ]
  },
  {
   "cell_type": "code",
   "execution_count": null,
   "metadata": {
    "colab": {
     "base_uri": "https://localhost:8080/"
    },
    "id": "krcB_1Yq7IjN",
    "outputId": "dd30820a-95ec-4cd7-cbd9-8afb60924ae2"
   },
   "outputs": [
    {
     "data": {
      "text/plain": [
       "(100,)"
      ]
     },
     "execution_count": 10,
     "metadata": {},
     "output_type": "execute_result"
    }
   ],
   "source": [
    "t1=(100,)\n",
    "t1"
   ]
  },
  {
   "cell_type": "markdown",
   "metadata": {
    "id": "kq0VrlOz6u_T"
   },
   "source": [
    "\n",
    "In Python, (11,) is a tuple with a single element 11.\n",
    "\n",
    "The comma after 11 is important because it differentiates a tuple with a single element from a simple integer with parentheses.\n",
    "\n",
    "To create a tuple in Python, you simply enclose the elements in parentheses and separate them with commas."
   ]
  },
  {
   "cell_type": "markdown",
   "metadata": {
    "id": "SABOrjUg7bL_"
   },
   "source": [
    "### Comparing tuples"
   ]
  },
  {
   "cell_type": "markdown",
   "metadata": {
    "id": "wVejZ6Pl7s3Z"
   },
   "source": [
    "In Python, you can compare tuples using the comparison operators such as **<, <=, >, >=, ==**, and **!=**.\n",
    "\n",
    "Tuples are compared element-wise, starting from the leftmost element, and the comparison stops as soon as a mismatch is found."
   ]
  },
  {
   "cell_type": "code",
   "execution_count": null,
   "metadata": {
    "colab": {
     "base_uri": "https://localhost:8080/"
    },
    "id": "uaztBv__54Jo",
    "outputId": "7f475ef0-477e-4c2b-dd10-400e04b552e6"
   },
   "outputs": [
    {
     "name": "stdout",
     "output_type": "stream",
     "text": [
      "True\n",
      "False\n",
      "False\n",
      "True\n"
     ]
    }
   ],
   "source": [
    "t1 = (1, 2, 3)\n",
    "t2 = (1, 2, 4)\n",
    "print(t1 < t2 )  \n",
    "print(t1 > t2)\n",
    "print(t1 == t2)\n",
    "print(t1 != t2)\n"
   ]
  },
  {
   "cell_type": "code",
   "execution_count": null,
   "metadata": {
    "id": "CYqlyOj-593r"
   },
   "outputs": [],
   "source": []
  },
  {
   "cell_type": "markdown",
   "metadata": {
    "id": "t0BN6Vtw-Y_C"
   },
   "source": [
    "\n",
    "\n",
    "### Tuple Assignments\n",
    "\n",
    "Tuple assignment is a feature in Python that allows you to assign multiple variables at once by unpacking the values in a tuple. Here's an example:\n",
    "\n"
   ]
  },
  {
   "cell_type": "code",
   "execution_count": null,
   "metadata": {
    "colab": {
     "base_uri": "https://localhost:8080/"
    },
    "id": "hhytiC8R6m-g",
    "outputId": "2b0f84b2-f10c-468d-8b20-8d62e22f5095"
   },
   "outputs": [
    {
     "name": "stdout",
     "output_type": "stream",
     "text": [
      "1\n",
      "2\n",
      "3\n"
     ]
    }
   ],
   "source": [
    "my_tuple = (1, 2, 3)\n",
    "a, b, c = my_tuple\n",
    "print(a)\n",
    "print(b)\n",
    "print(c)\n"
   ]
  },
  {
   "cell_type": "code",
   "execution_count": null,
   "metadata": {
    "colab": {
     "base_uri": "https://localhost:8080/"
    },
    "id": "1Pak5mQa_Eco",
    "outputId": "a8b7c1de-b5d3-4373-8c30-c56b79c0efa5"
   },
   "outputs": [
    {
     "name": "stdout",
     "output_type": "stream",
     "text": [
      "10\n",
      "20\n",
      "10 20\n"
     ]
    }
   ],
   "source": [
    "a,b = 10,20\n",
    "print(a)\n",
    "print(b)\n",
    "print(a,b)"
   ]
  },
  {
   "cell_type": "code",
   "execution_count": null,
   "metadata": {
    "colab": {
     "base_uri": "https://localhost:8080/"
    },
    "id": "GhRPVALN_NAK",
    "outputId": "21dc60e5-9018-4c2a-dc1b-edac9f607b06"
   },
   "outputs": [
    {
     "name": "stdout",
     "output_type": "stream",
     "text": [
      "2\n",
      "1\n"
     ]
    }
   ],
   "source": [
    "# Swapping two variables\n",
    "a = 1\n",
    "b = 2\n",
    "a, b = b, a\n",
    "\n",
    "print(a) # Output: 2\n",
    "print(b) # Output: 1\n"
   ]
  },
  {
   "cell_type": "markdown",
   "metadata": {
    "id": "8QRpeaEv_ZVA"
   },
   "source": [
    "\n",
    "\n",
    "### Updating Tuple\n",
    "\n"
   ]
  },
  {
   "cell_type": "markdown",
   "metadata": {
    "id": "xCtJTZ-8ALpw"
   },
   "source": [
    "Tuples are immutable. So we an extract, assign or update values of one tuple by creating another tuple."
   ]
  },
  {
   "cell_type": "code",
   "execution_count": null,
   "metadata": {
    "colab": {
     "base_uri": "https://localhost:8080/"
    },
    "id": "YGN2bM1u_S7k",
    "outputId": "d33252a3-5e70-4f17-cf0a-c48808279642"
   },
   "outputs": [
    {
     "name": "stdout",
     "output_type": "stream",
     "text": [
      "(10, 20, 30, 40, 50)\n"
     ]
    }
   ],
   "source": [
    "t1=(10,20,30)\n",
    "t2=(40,50)\n",
    "t3=t1+t2\n",
    "print(t3)"
   ]
  },
  {
   "cell_type": "markdown",
   "metadata": {
    "id": "dFJ1WPe7_qNp"
   },
   "source": [
    "\n",
    "\n",
    "### Deleting Tuple\n",
    "\n"
   ]
  },
  {
   "cell_type": "markdown",
   "metadata": {
    "id": "2U7nWFKU_wKC"
   },
   "source": [
    "we can delete tuple using **del** statement."
   ]
  },
  {
   "cell_type": "code",
   "execution_count": null,
   "metadata": {
    "id": "0RAnXekg_ofE"
   },
   "outputs": [],
   "source": [
    "T1=(10,20,30,40)"
   ]
  },
  {
   "cell_type": "code",
   "execution_count": null,
   "metadata": {
    "id": "mu6oYF8oAAAW"
   },
   "outputs": [],
   "source": [
    "del T1"
   ]
  },
  {
   "cell_type": "code",
   "execution_count": null,
   "metadata": {
    "colab": {
     "base_uri": "https://localhost:8080/",
     "height": 165
    },
    "id": "bgLNQVFyAEVZ",
    "outputId": "a5332979-6826-4a68-8fb0-5ac4be2b3b86"
   },
   "outputs": [
    {
     "ename": "NameError",
     "evalue": "ignored",
     "output_type": "error",
     "traceback": [
      "\u001b[0;31m---------------------------------------------------------------------------\u001b[0m",
      "\u001b[0;31mNameError\u001b[0m                                 Traceback (most recent call last)",
      "\u001b[0;32m<ipython-input-21-cf5fc0f3a9f6>\u001b[0m in \u001b[0;36m<cell line: 1>\u001b[0;34m()\u001b[0m\n\u001b[0;32m----> 1\u001b[0;31m \u001b[0mprint\u001b[0m\u001b[0;34m(\u001b[0m\u001b[0mT1\u001b[0m\u001b[0;34m)\u001b[0m\u001b[0;34m\u001b[0m\u001b[0;34m\u001b[0m\u001b[0m\n\u001b[0m",
      "\u001b[0;31mNameError\u001b[0m: name 'T1' is not defined"
     ]
    }
   ],
   "source": [
    "print(T1)"
   ]
  },
  {
   "cell_type": "markdown",
   "metadata": {
    "id": "6VLbZfrZAobg"
   },
   "source": [
    "\n",
    "\n",
    "### zip() fuction\n",
    "\n"
   ]
  },
  {
   "cell_type": "markdown",
   "metadata": {
    "id": "k7VbA4q0A33s"
   },
   "source": [
    "In Python, the **zip()** function can be used to combine two or more iterables into a single iterable of tuples. Each tuple contains the corresponding elements from the input iterables.\n",
    "\n",
    "Here's an example:"
   ]
  },
  {
   "cell_type": "code",
   "execution_count": null,
   "metadata": {
    "colab": {
     "base_uri": "https://localhost:8080/"
    },
    "id": "a-DyBpa-AGOg",
    "outputId": "db2351d3-5cb1-4587-d011-eea943f46a97"
   },
   "outputs": [
    {
     "name": "stdout",
     "output_type": "stream",
     "text": [
      "[(10, 'apple'), (20, 'banana'), (30, 'cherry')]\n"
     ]
    }
   ],
   "source": [
    "t=(10,20,30)\n",
    "my_tuple = (\"apple\", \"banana\", \"cherry\")\n",
    "print(list(zip(t,my_tuple)))"
   ]
  },
  {
   "cell_type": "markdown",
   "metadata": {
    "id": "BHqMSDtB3WSK"
   },
   "source": [
    "\n",
    "\n",
    "## Dictionary\n",
    "\n"
   ]
  },
  {
   "cell_type": "markdown",
   "metadata": {
    "id": "msySHQXv4Z5p"
   },
   "source": [
    "![](../images/unit_5_03.png)"
   ]
  },
  {
   "cell_type": "markdown",
   "metadata": {
    "id": "ezHnUC2q5lIL"
   },
   "source": [
    "### Operations and Methods"
   ]
  },
  {
   "cell_type": "markdown",
   "metadata": {
    "id": "3ZoQNMl35Dgo"
   },
   "source": [
    "**In code, a dictionary is typed with braces, { }.**"
   ]
  },
  {
   "cell_type": "markdown",
   "metadata": {
    "id": "OI38ab0a5V8B"
   },
   "source": [
    "![](../images/unit_5_04.png)"
   ]
  },
  {
   "cell_type": "markdown",
   "metadata": {
    "id": "euKkwB7X5at2"
   },
   "source": [
    "\n",
    "\n",
    "### Creating dictionary\n",
    "\n"
   ]
  },
  {
   "cell_type": "code",
   "execution_count": null,
   "metadata": {
    "colab": {
     "base_uri": "https://localhost:8080/"
    },
    "id": "0sh25BsU4-xy",
    "outputId": "cd7b575a-a549-4e94-e452-cd4d34627f04"
   },
   "outputs": [
    {
     "data": {
      "text/plain": [
       "{'brand': 'apple', 'color': 'gray', 'model': 'iphoneX'}"
      ]
     },
     "execution_count": 2,
     "metadata": {},
     "output_type": "execute_result"
    }
   ],
   "source": [
    "myphone = {'brand': 'apple', 'color': 'gray', 'model': 'iphoneX'}\n",
    "myphone"
   ]
  },
  {
   "cell_type": "markdown",
   "metadata": {
    "id": "w2JH5bH84r56"
   },
   "source": [
    "\n",
    "\n",
    "### Accessing items\n",
    "\n",
    "\n",
    "\n"
   ]
  },
  {
   "cell_type": "code",
   "execution_count": null,
   "metadata": {
    "colab": {
     "base_uri": "https://localhost:8080/",
     "height": 35
    },
    "id": "ZyVYhpOI5yKh",
    "outputId": "aba139b9-27a8-4394-a0bc-514f03d8e867"
   },
   "outputs": [
    {
     "data": {
      "application/vnd.google.colaboratory.intrinsic+json": {
       "type": "string"
      },
      "text/plain": [
       "'apple'"
      ]
     },
     "execution_count": 3,
     "metadata": {},
     "output_type": "execute_result"
    }
   ],
   "source": [
    "myphone['brand']"
   ]
  },
  {
   "cell_type": "markdown",
   "metadata": {
    "id": "FhEsebUS4FXK"
   },
   "source": [
    "\n",
    "\n",
    "### Adding items\n",
    "\n"
   ]
  },
  {
   "cell_type": "markdown",
   "metadata": {
    "id": "iWpHjY8x6oUf"
   },
   "source": [
    "\n",
    "#### 1 .  Assign a new key-value pair\n",
    "\n"
   ]
  },
  {
   "cell_type": "code",
   "execution_count": null,
   "metadata": {
    "colab": {
     "base_uri": "https://localhost:8080/"
    },
    "id": "Qw2F_32RBiaZ",
    "outputId": "212644db-101e-46f7-e428-4733ee74b046"
   },
   "outputs": [
    {
     "name": "stdout",
     "output_type": "stream",
     "text": [
      "{'apple': 2, 'banana': 3, 'orange': 1, 'pear': 4}\n"
     ]
    }
   ],
   "source": [
    "my_dict = {\"apple\": 2, \"banana\": 3, \"orange\": 1}\n",
    "my_dict[\"pear\"] = 4\n",
    "\n",
    "print(my_dict)"
   ]
  },
  {
   "cell_type": "markdown",
   "metadata": {
    "id": "ewD65WV466Ez"
   },
   "source": [
    "#### 2 . `update()` method"
   ]
  },
  {
   "cell_type": "code",
   "execution_count": null,
   "metadata": {
    "colab": {
     "base_uri": "https://localhost:8080/"
    },
    "id": "8uztdGi664pG",
    "outputId": "cae2c822-6c63-4b72-ef79-215cd5c8aeb3"
   },
   "outputs": [
    {
     "name": "stdout",
     "output_type": "stream",
     "text": [
      "{'apple': 2, 'banana': 3, 'orange': 1, 'grapes': 5, 'pear': 4, 'kiwi': 2, 'mango': 1}\n"
     ]
    }
   ],
   "source": [
    "my_dict1 = {\"apple\": 2, \"banana\": 3, \"orange\": 1,'grapes':5}\n",
    "new_items = {\"pear\": 4, \"kiwi\": 2, \"mango\": 1}\n",
    "\n",
    "my_dict1.update(new_items)\n",
    "\n",
    "print(my_dict1)"
   ]
  },
  {
   "cell_type": "markdown",
   "metadata": {
    "id": "bHvtPAd77iao"
   },
   "source": [
    "\n",
    "\n",
    "#### Removing items\n",
    "\n"
   ]
  },
  {
   "cell_type": "markdown",
   "metadata": {
    "id": "e40kSABv72zQ"
   },
   "source": [
    "#### 1 . del statement"
   ]
  },
  {
   "cell_type": "code",
   "execution_count": null,
   "metadata": {
    "colab": {
     "base_uri": "https://localhost:8080/"
    },
    "id": "SEM-uIAG7Crj",
    "outputId": "06e8cfaf-b969-4cbe-8df0-6b9e4d4ff4f6"
   },
   "outputs": [
    {
     "name": "stdout",
     "output_type": "stream",
     "text": [
      "original dictionary  {'apple': 2, 'banana': 3, 'orange': 1}\n",
      "{'apple': 2, 'orange': 1}\n"
     ]
    }
   ],
   "source": [
    "d = {\"apple\": 2, \"banana\": 3, \"orange\": 1}\n",
    "print('original dictionary ',d)\n",
    "del d[\"banana\"]\n",
    "\n",
    "print(d)"
   ]
  },
  {
   "cell_type": "markdown",
   "metadata": {
    "id": "tp7wRggF8QJR"
   },
   "source": [
    "#### 2 . pop() method"
   ]
  },
  {
   "cell_type": "code",
   "execution_count": null,
   "metadata": {
    "colab": {
     "base_uri": "https://localhost:8080/"
    },
    "id": "POz1V_1j7_7J",
    "outputId": "0056208b-1b68-4be2-d8d9-6413f75a2cc5"
   },
   "outputs": [
    {
     "name": "stdout",
     "output_type": "stream",
     "text": [
      "{'apple': 2, 'orange': 1}\n",
      "3\n"
     ]
    }
   ],
   "source": [
    "my_dict2 = {\"apple\": 2, \"banana\": 3, \"orange\": 1}\n",
    "value = my_dict2.pop(\"banana\")\n",
    "\n",
    "print(my_dict2)\n",
    "print(value)"
   ]
  },
  {
   "cell_type": "markdown",
   "metadata": {
    "id": "EAU1ZPxx8jsX"
   },
   "source": [
    "\n",
    "\n",
    "### Changing value\n",
    "\n"
   ]
  },
  {
   "cell_type": "code",
   "execution_count": null,
   "metadata": {
    "colab": {
     "base_uri": "https://localhost:8080/"
    },
    "id": "YbVli5Zj8d--",
    "outputId": "041fc444-9088-45d2-f809-8efb22b990f4"
   },
   "outputs": [
    {
     "name": "stdout",
     "output_type": "stream",
     "text": [
      "{'apple': 2, 'banana': 4, 'orange': 1}\n"
     ]
    }
   ],
   "source": [
    "my_dict = {\"apple\": 2, \"banana\": 3, \"orange\": 1}\n",
    "my_dict[\"banana\"] = 4\n",
    "\n",
    "print(my_dict)"
   ]
  },
  {
   "cell_type": "markdown",
   "metadata": {},
   "source": [
    "### Methods in dictionary\n",
    "\n",
    "\n",
    "![](../images/unit_5_05.png)"
   ]
  },
  {
   "cell_type": "code",
   "execution_count": null,
   "metadata": {
    "colab": {
     "base_uri": "https://localhost:8080/"
    },
    "id": "_SJTiquN83mF",
    "outputId": "180da4a5-ebf0-49df-cd6f-2e9ea8e156c7"
   },
   "outputs": [
    {
     "name": "stdout",
     "output_type": "stream",
     "text": [
      "{}\n",
      "{'apple': 0, 'banana': 0, 'orange': 0}\n",
      "3\n",
      "dict_items([('apple', 2), ('banana', 3), ('orange', 1)])\n",
      "dict_keys(['apple', 'banana', 'orange'])\n",
      "dict_values([2, 3, 1])\n",
      "3\n",
      "{'apple': 2, 'orange': 1}\n",
      "('orange', 1)\n",
      "{'apple': 2, 'banana': 3}\n",
      "4\n",
      "{'apple': 2, 'banana': 3, 'orange': 1, 'pear': 4}\n",
      "{'apple': 2, 'banana': 3, 'orange': 1, 'pear': 4, 'kiwi': 2}\n"
     ]
    }
   ],
   "source": [
    "# create a dictionary\n",
    "my_dict_1 = {\"apple\": 2, \"banana\": 3, \"orange\": 1}\n",
    "\n",
    "# clear() method\n",
    "my_dict_1.clear()\n",
    "print(my_dict_1)\n",
    "\n",
    "# fromkeys() method\n",
    "keys = [\"apple\", \"banana\", \"orange\"]\n",
    "values = [2, 3, 1]\n",
    "my_dict_2 = dict.fromkeys(keys, 0)\n",
    "print(my_dict_2)\n",
    "\n",
    "# get() method\n",
    "my_dict_3 = {\"apple\": 2, \"banana\": 3, \"orange\": 1}\n",
    "value = my_dict_3.get(\"banana\", 0)\n",
    "print(value)\n",
    "\n",
    "\n",
    "# items() method : (dictionary & tuple)\n",
    "my_dict_4 = {\"apple\": 2, \"banana\": 3, \"orange\": 1}\n",
    "items = my_dict_4.items()\n",
    "print(items)\n",
    "\n",
    "\n",
    "# keys() method\n",
    "my_dict_5 = {\"apple\": 2, \"banana\": 3, \"orange\": 1}\n",
    "keys = my_dict_5.keys()\n",
    "print(keys)\n",
    "\n",
    "\n",
    "# values() method\n",
    "my_dict_6 = {\"apple\": 2, \"banana\": 3, \"orange\": 1}\n",
    "values = my_dict_6.values()\n",
    "print(values)\n",
    "\n",
    "\n",
    "# pop() method\n",
    "my_dict_7 = {\"apple\": 2, \"banana\": 3, \"orange\": 1}\n",
    "value = my_dict_7.pop(\"banana\")\n",
    "print(value)\n",
    "print(my_dict_7)\n",
    "\n",
    "\n",
    "# popitem() method\n",
    "my_dict_8 = {\"apple\": 2, \"banana\": 3, \"orange\": 1}\n",
    "item = my_dict_8.popitem()\n",
    "print(item)\n",
    "print(my_dict_8)\n",
    "\n",
    "\n",
    "# setdefault() method\n",
    "my_dict_9 = {\"apple\": 2, \"banana\": 3, \"orange\": 1}\n",
    "value = my_dict_9.setdefault(\"pear\", 4)\n",
    "print(value)\n",
    "print(my_dict_9)\n",
    "\n",
    "\n",
    "# update() method\n",
    "my_dict_10 = {\"apple\": 2, \"banana\": 3, \"orange\": 1}\n",
    "new_dict = {\"pear\": 4, \"kiwi\": 2}\n",
    "my_dict_10.update(new_dict)\n",
    "print(my_dict_10)\n"
   ]
  },
  {
   "cell_type": "markdown",
   "metadata": {
    "id": "mzBfUjFdQvby"
   },
   "source": [
    "\n",
    "\n",
    "#### Multiple Assignment with Dictionaries\n",
    "\n"
   ]
  },
  {
   "cell_type": "code",
   "execution_count": null,
   "metadata": {
    "colab": {
     "base_uri": "https://localhost:8080/"
    },
    "id": "9HZnUOpTQEL1",
    "outputId": "3db2f5ff-79bc-4e86-a787-5c85fef341a5"
   },
   "outputs": [
    {
     "name": "stdout",
     "output_type": "stream",
     "text": [
      "name John\n",
      "age 25\n",
      "location New York\n"
     ]
    }
   ],
   "source": [
    "person = {'name': 'John', 'age': 25, 'location': 'New York'}\n",
    "for key , value in list(person.items()):\n",
    "  print(key , value)"
   ]
  },
  {
   "cell_type": "markdown",
   "metadata": {
    "id": "LkG4IRa8SP-n"
   },
   "source": [
    "Above code iterates over the key-value pairs in the person dictionary using a for loop and the items() method.\n"
   ]
  },
  {
   "cell_type": "code",
   "execution_count": null,
   "metadata": {
    "colab": {
     "base_uri": "https://localhost:8080/"
    },
    "id": "RbMrQgvcRevb",
    "outputId": "984fd78c-2919-46cf-d838-7f34a50d41ab"
   },
   "outputs": [
    {
     "name": "stdout",
     "output_type": "stream",
     "text": [
      "John\n",
      "25\n",
      "New York\n"
     ]
    }
   ],
   "source": [
    "# Define a dictionary\n",
    "person = {'name': 'John', 'age': 25, 'location': 'New York'}\n",
    "\n",
    "# Assign multiple values to multiple variables\n",
    "name, age, location = person['name'], person['age'], person['location']\n",
    "\n",
    "# Print the values of the variables\n",
    "print(name)        # Output: John\n",
    "print(age)         # Output: 25\n",
    "print(location)    # Output: New York\n"
   ]
  },
  {
   "cell_type": "markdown",
   "metadata": {
    "id": "TWPGRsGTSZJ3"
   },
   "source": [
    "Multiple assignment with dictionaries allows you to assign multiple values to multiple variables at once using a dictionary. This can be useful when you have a dictionary with multiple key-value pairs and you want to assign each value to a separate variable."
   ]
  },
  {
   "cell_type": "markdown",
   "metadata": {
    "id": "2nzokScxCPbD"
   },
   "source": [
    "## Practice Questions"
   ]
  },
  {
   "cell_type": "markdown",
   "metadata": {
    "id": "0--FqFS7CbQS"
   },
   "source": [
    "### Difficulty Level : Easy"
   ]
  },
  {
   "cell_type": "markdown",
   "metadata": {
    "id": "0d73cE92C9HH"
   },
   "source": [
    "Q. Write a Python program to find the maximum and minimum value in a tuple.\n",
    "\n",
    "**Example :**\n",
    "\n",
    "my_tuple = (1, 2, 3, 4, 5)\n",
    "\n",
    ">>>max_value = 5\n",
    "\n",
    ">>>min_value = 1"
   ]
  },
  {
   "cell_type": "code",
   "execution_count": null,
   "metadata": {
    "id": "-C79VdITRhHc"
   },
   "outputs": [],
   "source": [
    "## your code ##"
   ]
  },
  {
   "cell_type": "markdown",
   "metadata": {
    "id": "KieR-r0QDaLn"
   },
   "source": [
    "Q. Write a Python program to count the number of occurrences of an element in a tuple.\n",
    "\n",
    "my_tuple = (1, 2, 3, 4, 5, 3, 2, 1, 3)\n",
    ">>> occurrence of 3 is 3 times"
   ]
  },
  {
   "cell_type": "markdown",
   "metadata": {
    "id": "Tq8g95D-D0sh"
   },
   "source": [
    "Q. Create a dictionary named student and it should contain your Name, Gender, Age & Programming language. After creating it add a new key Roll number and set its value as 43."
   ]
  },
  {
   "cell_type": "code",
   "execution_count": null,
   "metadata": {
    "id": "m1hIDy_EDQA9"
   },
   "outputs": [],
   "source": [
    "## your code ##"
   ]
  },
  {
   "cell_type": "markdown",
   "metadata": {
    "id": "MCc0dFvgD762"
   },
   "source": [
    "Q. Create a code that takes 2 dictionaries which \n",
    "returns the total bill after selling every fruit according to their rate specified.\n",
    "\n",
    "**Example :**\n",
    "\n",
    "stock = {\"banana\": 6, \"apple\": 0, \"orange\": 32, \"pear\": 15}\n",
    "\n",
    "prices = {\"banana\": 4, \"apple\": 2, \"orange\": 1.5, \"pear\": 3}\n",
    "\n",
    ">>>Total bill : 117.0"
   ]
  },
  {
   "cell_type": "code",
   "execution_count": null,
   "metadata": {
    "id": "FF97gLJZD7hI"
   },
   "outputs": [],
   "source": [
    "## your code ##"
   ]
  },
  {
   "cell_type": "markdown",
   "metadata": {
    "id": "P4B3ZHXhIo2j"
   },
   "source": [
    "Q. Create a dictionary by assigning the keys from a list and its values from the user using input function.\n",
    "\n",
    "**List :**\n",
    "\n",
    "`keys_list = [ \"Name\", \"Birth Month\", \"Programming Language\", \"Salary\" ]`"
   ]
  },
  {
   "cell_type": "markdown",
   "metadata": {
    "id": "6oC_PYLwJBku"
   },
   "source": [
    "### Difficulty Level : Medium"
   ]
  },
  {
   "cell_type": "markdown",
   "metadata": {
    "id": "BwkBxoibJk66"
   },
   "source": [
    "Q. Write a program to create the tuple using the dictionary elements. The elements of tuple should be arranged in sorted order based on values of dictionary elements.\n",
    "\n",
    "\n",
    "\n",
    "```\n",
    "d={'AAA':10,'BBB':5,'CCC':30,'DDD':2}\n",
    "```\n",
    "\n"
   ]
  },
  {
   "cell_type": "code",
   "execution_count": null,
   "metadata": {
    "id": "kXLh_I6YIoZh"
   },
   "outputs": [],
   "source": [
    "## your code ##"
   ]
  },
  {
   "cell_type": "markdown",
   "metadata": {
    "id": "0apedOaAKXNX"
   },
   "source": [
    "Q. Create a code that displays the unique elements present inside the dictionary in descending order in a single line.\n",
    "\n",
    "**Example :**\n",
    "\n",
    "marks = {\"English\": 78, \"Maths\": 89, \"Science\": 92, \"History\": 89, \"Geography\": 77, \"Physics\": 92, \"Chemistry\": 78}\n",
    ">>> 92 89 78 77"
   ]
  },
  {
   "cell_type": "code",
   "execution_count": null,
   "metadata": {
    "id": "HINTqWNjKWdJ"
   },
   "outputs": [],
   "source": [
    "## your code ##"
   ]
  },
  {
   "cell_type": "markdown",
   "metadata": {
    "id": "0M0KBpMaKql9"
   },
   "source": [
    "Q. Create a code for tuple of countries and display the number of vowels in the name of each country.\n",
    "\n",
    "**Example :**\n",
    "\n",
    "asian_countries = ('afghanistan', 'bangladesh', 'bhutan', 'china', 'india', 'iran', 'iraq', 'israel','japan')\n",
    ">>>\n",
    "    \n",
    "    afghanistan has 4 vowels.\n",
    "\n",
    "    bangladesh has 3 vowels.\n",
    "\n",
    "    bhutan has 2 vowels.\n",
    "\n",
    "    china has 2 vowels.\n",
    "\n",
    "    india has 3 vowels.\n",
    "\n",
    "    iran has 2 vowels.\n",
    "\n",
    "    iraq has 2 vowels.\n",
    "\n",
    "    israel has 3 vowels.\n",
    "\n",
    "    japan has 2 vowels."
   ]
  },
  {
   "cell_type": "code",
   "execution_count": null,
   "metadata": {
    "id": "D1RqxEZnLjGP"
   },
   "outputs": [],
   "source": [
    "## your code ##"
   ]
  },
  {
   "cell_type": "markdown",
   "metadata": {
    "id": "QwySq0AALV2b"
   },
   "source": [
    "### Difficulty Level : Hard"
   ]
  },
  {
   "cell_type": "markdown",
   "metadata": {
    "id": "gwaGcT06LYvq"
   },
   "source": [
    "Q. Write a program that will find all the numbers between 1000 and 3000 (both included) such that each digit of the number is an even number and the numbers obtained should be printed in a comma - separated sequence on a single line."
   ]
  },
  {
   "cell_type": "code",
   "execution_count": null,
   "metadata": {
    "id": "yo_aaQQ_KooF"
   },
   "outputs": [],
   "source": [
    "## your code ##"
   ]
  },
  {
   "cell_type": "markdown",
   "metadata": {
    "id": "0hlRKahyLqxG"
   },
   "source": [
    "Q. Create a code that will try to mimic the SUPEROVER scenario from Cricket. You have to create 2 dictionaries for 2 teams and each dictionary will contain the outcome of 6 balls bowled in the superover as key (i.e- run scored on that ball) and values of that dictionary will be as follows:\n",
    "\n",
    "\n",
    "*   'W' : 0 runs\n",
    "*   'R' : 1-6 runs\n",
    "\n",
    "\n",
    "\n",
    "\n",
    "\n",
    "\n",
    "The runs scored will be generated randomly using `random` module by using `random.randint(0,6)` and make sure that you are including the number 5 in dictionary deliberately even though there is no 5 runs in cricket. You also have to track the number of wickets fallen in that superover.\n",
    "\n",
    "Also make sure that your dictionary has 6 unique keys for every deliveries in a superover. The output of the code should be dictionaries of both the teams and scorecard along with the number of wickets fallen, by comparing the scores of both the teams show which team has won in superover, as shown in the example below:\n",
    "\n",
    "**Example :**\n",
    "\n",
    "Performance of Team1 : {0: 'W', 1: 'R', 3: 'R', 4: 'R', 5: 'R', 6: 'R'}\n",
    "\n",
    "Performance of Team2 : {0: 'W', 1: 'R', 3: 'R', 4: 'R', 5: 'R', 6: 'R'}\n",
    "\n",
    "Scorecard of Team1 : 19 / 1\n",
    "\n",
    "Scorecard of Team2 : 19 / 1\n",
    ">>>Its a Draw!\n",
    "\n",
    "\n",
    "Performance of Team1 : {0: 'W', 1: 'R', 2: 'R', 4: 'R', 5: 'R', 6: 'R'}\n",
    "\n",
    "Performance of Team2 : {0: 'W', 1: 'R', 2: 'R', 3: 'R', 4: 'R', 6: 'R'}\n",
    "\n",
    "Scorecard of Team1 : 18 / 1\n",
    "\n",
    "Scorecard of Team2 : 16 / 1\n",
    ">>>Team1 wins by 2 runs!\n",
    "\n",
    "Performance of Team1 : {0: 'W', 1: 'R', 3: 'R', 4: 'R', 5: 'R', 6: 'R'}\n",
    "\n",
    "Performance of Team2 : {0: 'W', 1: 'R', 2: 'R', 3: 'R', 4: 'R', 5: 'R'}\n",
    "\n",
    "Scorecard of Team1 : 19 / 1\n",
    "\n",
    "Scorecard of Team2 : 15 / 1\n",
    "\n",
    ">>>Team1 wins by 4 runs!"
   ]
  },
  {
   "cell_type": "code",
   "execution_count": null,
   "metadata": {
    "id": "7j6Ij0TNNVtl"
   },
   "outputs": [],
   "source": [
    "## your code ##"
   ]
  }
 ],
 "metadata": {
  "colab": {
   "provenance": []
  },
  "kernelspec": {
   "display_name": "Python 3 (ipykernel)",
   "language": "python",
   "name": "python3"
  },
  "language_info": {
   "codemirror_mode": {
    "name": "ipython",
    "version": 3
   },
   "file_extension": ".py",
   "mimetype": "text/x-python",
   "name": "python",
   "nbconvert_exporter": "python",
   "pygments_lexer": "ipython3",
   "version": "3.9.7"
  }
 },
 "nbformat": 4,
 "nbformat_minor": 1
}
