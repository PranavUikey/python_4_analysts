{
 "cells": [
  {
   "cell_type": "markdown",
   "metadata": {
    "id": "wFbyyBmFj6Jt"
   },
   "source": [
    "\n",
    "\n",
    "# Loops\n",
    "\n"
   ]
  },
  {
   "cell_type": "markdown",
   "metadata": {
    "id": "-mO1leT7EL6D"
   },
   "source": [
    "A loop is a construct that allows a set of instructions to be repeated multiple times until a certain condition is met.\n",
    "\n",
    "\n",
    "*   Iteration is a technique that allows to execute a block of statements repeatedly.\n",
    "*   **Definition :** Repeated execution of a set of statements is called **iteration**.\n",
    "*  The programming constructs used for iteration are while , for , break , continue and so on .\n",
    "\n",
    "Let us discuss the iteration techniques with the help of illustrative examples.\n",
    "There are several types of loops:\n",
    "\n",
    "\n",
    "\n"
   ]
  },
  {
   "cell_type": "markdown",
   "metadata": {
    "id": "2CQu2wOXGD1o"
   },
   "source": [
    "\n",
    "\n",
    "## while loop\n",
    "\n"
   ]
  },
  {
   "cell_type": "markdown",
   "metadata": {
    "id": "XPWAUF3DvuTH"
   },
   "source": [
    "A while loop is a type of control flow statement in programming that allows a piece of code to be executed repeatedly as long as a certain condition is true.\n",
    "\n",
    "The condition in the while loop is evaluated before each iteration of the loop. If the condition is true, the code inside the loop is executed. This process continues until the condition becomes false, at which point the loop terminates and control passes to the next statement in the program.\n",
    "\n",
    "Here's an example of a simple while loop in Python that prints the numbers from 1 to 5:"
   ]
  },
  {
   "cell_type": "code",
   "execution_count": null,
   "metadata": {
    "colab": {
     "base_uri": "https://localhost:8080/"
    },
    "id": "SuXLw8QD7BdC",
    "outputId": "036f6f16-80f8-4956-825c-2b586ae3c480"
   },
   "outputs": [
    {
     "name": "stdout",
     "output_type": "stream",
     "text": [
      "1\n",
      "2\n",
      "3\n",
      "4\n",
      "5\n"
     ]
    }
   ],
   "source": [
    "i = 1           # iniialization\n",
    "while i <= 5:   # condition\n",
    "    print(i)\n",
    "    i += 1      # increment"
   ]
  },
  {
   "cell_type": "markdown",
   "metadata": {
    "id": "aTZ_CM-Iwhy6"
   },
   "source": [
    "In this example, the loop starts with i equal to 1, and the condition is that i is less than or equal to 5. Inside the loop, the value of i is printed and then incremented by 1. The loop continues to execute until i becomes 6, at which point the condition becomes false and the loop terminates. The output of this program would be:"
   ]
  },
  {
   "cell_type": "markdown",
   "metadata": {
    "id": "IclmHmvCBM4H"
   },
   "source": [
    "Let’s take an example of while loop which will print all numbers divisible by 5 starting from 10 to 20.\n"
   ]
  },
  {
   "cell_type": "code",
   "execution_count": null,
   "metadata": {
    "colab": {
     "base_uri": "https://localhost:8080/"
    },
    "id": "dV1XP-w8BLwb",
    "outputId": "85a5b711-94b8-4cad-f901-83d3efb0a5a1"
   },
   "outputs": [
    {
     "name": "stdout",
     "output_type": "stream",
     "text": [
      "10\n",
      "15\n",
      "20\n"
     ]
    }
   ],
   "source": [
    "x = 10          # initialize `x` at 10 because our starting point is 10\n",
    "while  x <= 20: # condition to check till `x` becomes 20\n",
    "  if x % 5 ==0: # condition to check the number divisible by 5.\n",
    "    print(x)\n",
    "  x=x+1         # increment `x` by 1 (The short version of writing the same thing is x+=1) )"
   ]
  },
  {
   "cell_type": "markdown",
   "metadata": {
    "id": "d8z0y1tkBuNq"
   },
   "source": [
    "We can do the same thing in reverse order by changing the values like following code:"
   ]
  },
  {
   "cell_type": "code",
   "execution_count": null,
   "metadata": {
    "colab": {
     "base_uri": "https://localhost:8080/"
    },
    "id": "zum2GnpiB2Ry",
    "outputId": "d62d3fe5-fc5d-4687-8c79-fad55e5b1137"
   },
   "outputs": [
    {
     "name": "stdout",
     "output_type": "stream",
     "text": [
      "20\n",
      "15\n",
      "10\n"
     ]
    }
   ],
   "source": [
    "x = 20\n",
    "while x >= 10:\n",
    "  if x % 5 == 0:\n",
    "    print(x)\n",
    "  x=x-1"
   ]
  },
  {
   "cell_type": "markdown",
   "metadata": {
    "id": "rIUdJIofCeru"
   },
   "source": [
    "```{question}\n",
    "\n",
    "Now try out the same example for even numbers without if statement (in ascending and descending order).\n",
    "```"
   ]
  },
  {
   "cell_type": "markdown",
   "metadata": {
    "id": "dSI5yTSnw2hV"
   },
   "source": [
    "```{note}\n",
    "If you forget any of the steps in while loop it will stuck in infinite loop, which we will cover later in this chapter.\n",
    "```"
   ]
  },
  {
   "cell_type": "markdown",
   "metadata": {
    "id": "8eBfsLefCmzj"
   },
   "source": [
    "\n",
    "\n",
    "## range() function\n",
    "\n",
    "\n",
    "\n",
    "\n",
    "\n"
   ]
  },
  {
   "cell_type": "markdown",
   "metadata": {
    "id": "e0vI63J8C2aJ"
   },
   "source": [
    "Some functions in python can be called with multiple arguments separated by a comma, and range() is one of them. range() function creates a sequence of integers, for that we have to mention following things:\n",
    "\n",
    "\n",
    "\n",
    "*   start - The number from where sequence will start, its just like initialization from while loop. \n",
    "*   stop - The number where the sequence will end, just like the condition of while loop to stop the loop.\n",
    "*   step- The number which tells how much differene will be between next valud of the sequence, increment/decrement from while loop.\n",
    "\n",
    "\n",
    "\n",
    "\n",
    "\n",
    "\n",
    "\n",
    "\n",
    "\n",
    "So if you remember we have mentioned in the start of the lesson those 3 properties of loops being used by for loop but in quite different way with the help of range() function.\n",
    "\n",
    "The general syntax of **range()** function is : `range(start, stop, step)`"
   ]
  },
  {
   "cell_type": "code",
   "execution_count": null,
   "metadata": {
    "colab": {
     "base_uri": "https://localhost:8080/"
    },
    "id": "kUakLhOoDeBq",
    "outputId": "1e3fd6c8-ef25-47ab-a0b8-cf7ea9348914"
   },
   "outputs": [
    {
     "data": {
      "text/plain": [
       "range(1, 5)"
      ]
     },
     "execution_count": 5,
     "metadata": {},
     "output_type": "execute_result"
    }
   ],
   "source": [
    "range(1, 5, 1)"
   ]
  },
  {
   "cell_type": "markdown",
   "metadata": {
    "id": "FbiZ2F39DiJ1"
   },
   "source": [
    "The above code is not giving us the output because in Python 3 range() won’t display the complete sequence of integers. Hence we need for loop which will iterate over this sequence and display every element of the sequence until it ends. Let’s use the same sequence as above and create a for loop."
   ]
  },
  {
   "cell_type": "markdown",
   "metadata": {
    "id": "CxzKSpxL8CPQ"
   },
   "source": [
    "\n",
    "\n",
    "## for loop\n",
    "\n"
   ]
  },
  {
   "cell_type": "markdown",
   "metadata": {
    "id": "1THyiMwW8c1B"
   },
   "source": [
    "A for loop is a programming construct that allows you to iterate over a collection of items or perform a set number of iterations."
   ]
  },
  {
   "cell_type": "code",
   "execution_count": null,
   "metadata": {
    "colab": {
     "base_uri": "https://localhost:8080/"
    },
    "id": "lZdOLP7n7UAp",
    "outputId": "063bcc89-0d1f-4b6c-9218-20e9e66fe6d4"
   },
   "outputs": [
    {
     "name": "stdout",
     "output_type": "stream",
     "text": [
      "1\n",
      "2\n",
      "3\n",
      "4\n"
     ]
    }
   ],
   "source": [
    "for i in range(1, 5, 1):\n",
    "  print(i)"
   ]
  },
  {
   "cell_type": "markdown",
   "metadata": {
    "id": "YyoI3r_MD3i0"
   },
   "source": [
    "```{note}\n",
    "\n",
    "*Stop argument* - Always remember it is excluded from the sequence. If you want the sequence from 0 to 10 both numbers included then your range() should be like range(0,11,1).\n",
    "```"
   ]
  },
  {
   "cell_type": "code",
   "execution_count": null,
   "metadata": {
    "colab": {
     "base_uri": "https://localhost:8080/"
    },
    "id": "9ntopz9vDzhB",
    "outputId": "3560d19b-e630-4488-b1bf-04e5b4b9d407"
   },
   "outputs": [
    {
     "name": "stdout",
     "output_type": "stream",
     "text": [
      "1\n",
      "2\n",
      "3\n",
      "4\n",
      "5\n"
     ]
    }
   ],
   "source": [
    "for i in range(1, 6):\n",
    "  print(i)"
   ]
  },
  {
   "cell_type": "markdown",
   "metadata": {
    "id": "BQtVb70-ER4X"
   },
   "source": [
    "Now what’s happenning in the above code is we are mentioning the start as 1 and stop as 6 (i.e.- the sequence will become 1, 2, 3, 4, 5), and we haven’t mentioned step so it automatically take it value as +1."
   ]
  },
  {
   "cell_type": "markdown",
   "metadata": {
    "id": "1Ri82w-AEGRu"
   },
   "source": [
    "```{note}\n",
    "\n",
    "*Step argument*  - Step is to tell the difference between two consecutive numbers of the sequence. For example range(1,5,1) the step is +1 means increment. By default the value of step is +1 even if you didn’t provide it’s value it will be +1.\n",
    "\n",
    "```"
   ]
  },
  {
   "cell_type": "code",
   "execution_count": null,
   "metadata": {
    "colab": {
     "base_uri": "https://localhost:8080/"
    },
    "id": "aIDNBv5gECSQ",
    "outputId": "30175d52-8d96-42a5-a82b-50eb40dd2f94"
   },
   "outputs": [
    {
     "name": "stdout",
     "output_type": "stream",
     "text": [
      "0\n",
      "1\n",
      "2\n",
      "3\n",
      "4\n",
      "5\n"
     ]
    }
   ],
   "source": [
    "for i in range(6):\n",
    "  print(i)"
   ]
  },
  {
   "cell_type": "markdown",
   "metadata": {
    "id": "Wp9KCEopEhgq"
   },
   "source": [
    "In above code we haven’t mentioned start and step argument both. The only value we have provided is stop. And it automatically starts from 0."
   ]
  },
  {
   "cell_type": "markdown",
   "metadata": {
    "id": "0uMiKmwTEkv8"
   },
   "source": [
    "```{note}\n",
    "\n",
    "*Start argument* - Start is to tell range from where the sequence should start. By default it’s value is 0, means if you don’t provide the start number it will automatically start from 0 as shown above.\n",
    "\n",
    "```"
   ]
  },
  {
   "cell_type": "markdown",
   "metadata": {
    "id": "0GUHBv6XEuOy"
   },
   "source": [
    "```{question}\n",
    "\n",
    "\n",
    "Now try to create a sequence from 5 to 1.(Hint - It has something to do with step).\n",
    "```"
   ]
  },
  {
   "cell_type": "markdown",
   "metadata": {
    "id": "NK90rCw1FHTv"
   },
   "source": [
    "As we have written a code for numbers divisible by 5 using while loop, we can do it using for loop too. As shown below:"
   ]
  },
  {
   "cell_type": "code",
   "execution_count": null,
   "metadata": {
    "colab": {
     "base_uri": "https://localhost:8080/"
    },
    "id": "CCZj9RcDEdSV",
    "outputId": "7f2fb011-0887-4e5d-e9af-39055bbac74a"
   },
   "outputs": [
    {
     "name": "stdout",
     "output_type": "stream",
     "text": [
      "10\n",
      "15\n",
      "20\n"
     ]
    }
   ],
   "source": [
    "for x in range(10, 21): # stop value will be 21 because 20 should get included in the sequence\n",
    "  if x % 5 == 0:\n",
    "    print(x) "
   ]
  },
  {
   "cell_type": "markdown",
   "metadata": {
    "id": "QQpEmgX5FUiY"
   },
   "source": [
    "This example shows the similarity between for and while loop. If you know the end point or stopping point of the loop you can use both the loops.\n",
    "\n",
    "But if you have to repeat something until some condition is False and you don’t know how many times the loop should repeat itself, then go with while loop."
   ]
  },
  {
   "cell_type": "markdown",
   "metadata": {
    "id": "-6RfKrzLFcOC"
   },
   "source": [
    "```{question}\n",
    "\n",
    "Now try out the for even numbers without if statement (in ascending and descending order) using for loop.\n",
    "```"
   ]
  },
  {
   "cell_type": "markdown",
   "metadata": {
    "id": "nf4b2nfDFjki"
   },
   "source": [
    "\n",
    "Till now you have seen that both the loops only gets over when it reaches its stopping point/condition.\n",
    "\n",
    "But we can stop the loop before it reaches it’s stopping point/condition. by mentioning break statement."
   ]
  },
  {
   "cell_type": "markdown",
   "metadata": {
    "id": "6VsO-m6tFvFx"
   },
   "source": [
    "\n",
    "\n",
    "\n",
    "---\n",
    "\n",
    "\n",
    "## break statement :\n",
    "\n",
    "\n",
    "\n",
    "---\n",
    "\n"
   ]
  },
  {
   "cell_type": "markdown",
   "metadata": {
    "id": "CSLG5u9dF94n"
   },
   "source": [
    "break statement helps you stop any loop before it reaches it stop point. you just have to write break as shown below."
   ]
  },
  {
   "cell_type": "code",
   "execution_count": null,
   "metadata": {
    "colab": {
     "base_uri": "https://localhost:8080/"
    },
    "id": "KLz7S_zwFEbM",
    "outputId": "8f36f468-cb6b-4fb6-b802-611de1160001"
   },
   "outputs": [
    {
     "name": "stdout",
     "output_type": "stream",
     "text": [
      "1 2 3 "
     ]
    }
   ],
   "source": [
    "for i in  range(1,6):\n",
    "  if i ==4:\n",
    "    break\n",
    "  print(i, end = ' ')"
   ]
  },
  {
   "cell_type": "markdown",
   "metadata": {
    "id": "2qpSLJlYGHOq"
   },
   "source": [
    "\n",
    "\n",
    "---\n",
    "\n",
    "\n",
    "\n",
    "---\n",
    "\n",
    "\n",
    "## continue statement\n",
    "\n",
    "---\n"
   ]
  },
  {
   "cell_type": "markdown",
   "metadata": {
    "id": "g4pTuv2kGUuP"
   },
   "source": [
    "continue is opposite of break statement. continue statement will skip the loop to next value when the mentioned condition arises and go on until the loop reaches its stop point. Let’s understand it using code below."
   ]
  },
  {
   "cell_type": "code",
   "execution_count": null,
   "metadata": {
    "colab": {
     "base_uri": "https://localhost:8080/"
    },
    "id": "7rZvV6MsGAfF",
    "outputId": "ffb6f66d-9443-4b2e-8228-c2f9210a04d9"
   },
   "outputs": [
    {
     "name": "stdout",
     "output_type": "stream",
     "text": [
      "1 2 4 5 "
     ]
    }
   ],
   "source": [
    "for i in range(1,6):\n",
    "  if i==3:\n",
    "    continue\n",
    "  print(i, end = ' ')"
   ]
  },
  {
   "cell_type": "markdown",
   "metadata": {
    "id": "pdkaK7OOGcc5"
   },
   "source": [
    "\n",
    "\n",
    "## Types of loops:\n",
    "\n"
   ]
  },
  {
   "cell_type": "markdown",
   "metadata": {
    "id": "hTOJt7DfG6Bx"
   },
   "source": [
    "### 1 . Nested Loops\n",
    "\n",
    "Nested term in programming is used to show one thing is inside the other. Here we are using the term nested loop, it means one loop inside the other. for example while loop inside another while loop or for loop inside another for loop or for loop inside while loop or vice versa. Let’s understand it using few examples:"
   ]
  },
  {
   "cell_type": "code",
   "execution_count": null,
   "metadata": {
    "colab": {
     "base_uri": "https://localhost:8080/"
    },
    "id": "4_WsjgMhGYVQ",
    "outputId": "ea5f22d4-9d49-4888-f0ff-aafa6f7e95fa"
   },
   "outputs": [
    {
     "name": "stdout",
     "output_type": "stream",
     "text": [
      "0 0\n",
      "0 1\n",
      "0 2\n",
      "1 0\n",
      "1 1\n",
      "1 2\n",
      "2 0\n",
      "2 1\n",
      "2 2\n"
     ]
    }
   ],
   "source": [
    "for i in range(3):\n",
    "  for j in range(3):\n",
    "    print(i,j)"
   ]
  },
  {
   "cell_type": "markdown",
   "metadata": {
    "id": "YmDn1I0NHJTA"
   },
   "source": [
    "Now if you look closely you will observe that unless until the loop which is inside is gets over the outer loop won’t increment to next value. In simple word nexted loop acn be used to create possible combination of numbers."
   ]
  },
  {
   "cell_type": "markdown",
   "metadata": {
    "id": "7JqD7HJ9HMTt"
   },
   "source": [
    "```{question}\n",
    "\n",
    "Now try the same thing with while loops.\n",
    "\n",
    "```"
   ]
  },
  {
   "cell_type": "markdown",
   "metadata": {
    "id": "YBbQW8qqHesp"
   },
   "source": [
    "### 2 . Infinite Loop\n",
    "\n",
    " It is a loop which will go on until you explicitly break the loop. Usually infinte loop is created with while loop. Most of the time it could happen with you because you loop couldn’t reach it’s stop point. If it happens with you can just stop the execution by interrupting the runtime from google colab’s runtime section. "
   ]
  },
  {
   "cell_type": "code",
   "execution_count": null,
   "metadata": {
    "id": "wmlkqYkTHFMv"
   },
   "outputs": [],
   "source": [
    "i = 0\n",
    "while i<=5:\n",
    "  print(i)"
   ]
  },
  {
   "cell_type": "markdown",
   "metadata": {
    "id": "Zxhjyjn1Hm_O"
   },
   "source": [
    "### 3 . for-else loop\n",
    "\n",
    "In Python, for-else loop is a variation of the for loop. It has an optional else block that gets executed after the loop completes, but only if the loop completes normally (i.e., without encountering a break statement)."
   ]
  },
  {
   "cell_type": "markdown",
   "metadata": {
    "id": "iWhJ0ocoJXzT"
   },
   "source": [
    "Here's the syntax for a for-else loop in Python:\n",
    "\n",
    "\n",
    "\n",
    "\n",
    "\n",
    "```{python}\n",
    "for variable in sequence:\n",
    "    # Code to be executed in each iteration\n",
    "else:\n",
    "    # Code to be executed after the loop completes normally\n",
    "\n",
    "```\n",
    "\n",
    "\n",
    "\n"
   ]
  },
  {
   "cell_type": "markdown",
   "metadata": {
    "id": "i7VW8XpcJuZ0"
   },
   "source": [
    "Here's an example of a for-else loop in Python that uses the range function to loop through a sequence of numbers and prints a message when the loop completes:"
   ]
  },
  {
   "cell_type": "code",
   "execution_count": null,
   "metadata": {
    "colab": {
     "base_uri": "https://localhost:8080/"
    },
    "id": "yXgtT_aIJU8N",
    "outputId": "c9544ece-7978-4e65-c5e5-f86611d90a1b"
   },
   "outputs": [
    {
     "name": "stdout",
     "output_type": "stream",
     "text": [
      "0\n",
      "1\n",
      "2\n",
      "3\n",
      "4\n",
      "Loop completed normally\n"
     ]
    }
   ],
   "source": [
    "for i in range(5):\n",
    "    print(i)\n",
    "else:\n",
    "    print(\"Loop completed normally\")\n"
   ]
  },
  {
   "cell_type": "markdown",
   "metadata": {
    "id": "sh_-HCXKKTuD"
   },
   "source": [
    "### 4 . while-else loop\n",
    "\n",
    "It is possible to include an \"else\" clause after a \"while\" loop. This code will execute if the loop terminates normally (i.e., if the condition in the \"while\" statement becomes false).\n",
    "\n",
    "For example:"
   ]
  },
  {
   "cell_type": "code",
   "execution_count": null,
   "metadata": {
    "colab": {
     "base_uri": "https://localhost:8080/"
    },
    "id": "mL6Twp8nJy96",
    "outputId": "01edffc9-9e86-4b14-9fbf-3f447a864be0"
   },
   "outputs": [
    {
     "name": "stdout",
     "output_type": "stream",
     "text": [
      "0\n",
      "1\n",
      "2\n",
      "3\n",
      "4\n",
      "5\n",
      "6\n",
      "7\n",
      "8\n",
      "9\n",
      "x is now greater than or equal to 10\n"
     ]
    }
   ],
   "source": [
    "x = 0\n",
    "while x < 10:\n",
    "    print(x)\n",
    "    x = x + 1\n",
    "else:\n",
    "    print(\"x is now greater than or equal to 10\")\n"
   ]
  },
  {
   "cell_type": "markdown",
   "metadata": {
    "id": "U8acdgkJK-NY"
   },
   "source": [
    "### 5 . `pass` keyword\n",
    "\n",
    "The `pass` keyword is a way to indicate that you want to do nothing in a certain block of code. It can be useful as a placeholder when you're working on code and haven't yet implemented a certain section.\n",
    "\n",
    "For example, in a loop where you want to perform some action if a certain condition is true, but do nothing if the condition is false, you could use the `pass` keyword to indicate that nothing should be done in the `else` block:"
   ]
  },
  {
   "cell_type": "code",
   "execution_count": null,
   "metadata": {
    "colab": {
     "base_uri": "https://localhost:8080/"
    },
    "id": "4qytYPoHKtwh",
    "outputId": "117813e7-fb80-412f-8707-60dd7085d2b5"
   },
   "outputs": [
    {
     "name": "stdout",
     "output_type": "stream",
     "text": [
      "0\n",
      "1\n",
      "2\n",
      "3\n",
      "reached at pass statement\n",
      "4\n"
     ]
    }
   ],
   "source": [
    "for i in range(5):\n",
    "    if i == 4:\n",
    "      pass\n",
    "      print('reached at pass statement')\n",
    "    print(i)\n"
   ]
  },
  {
   "cell_type": "code",
   "execution_count": null,
   "metadata": {
    "id": "bb47pv46LQY5"
   },
   "outputs": [],
   "source": []
  },
  {
   "cell_type": "markdown",
   "metadata": {
    "id": "Ujh184_UTJ_Z"
   },
   "source": [
    "\n",
    "\n",
    "## Pre-test loop and Post-test loop \n",
    "\n",
    "  In Python, a pre-test loop (also called a \"while loop\") and a post-test loop (also called a \"do-while loop\") can be implemented using the following code structures:\n",
    "\n"
   ]
  },
  {
   "cell_type": "markdown",
   "metadata": {
    "id": "hF_Hfb67Tfkp"
   },
   "source": [
    "\n",
    "\n",
    "### 1 . Pres-test(while loop) \n",
    "\n",
    "The loop will continue to run as long as the condition is true. Here's an example that prints out the numbers 1 to 5 using a pre-test loop:\n",
    "\n"
   ]
  },
  {
   "cell_type": "code",
   "execution_count": null,
   "metadata": {
    "colab": {
     "base_uri": "https://localhost:8080/"
    },
    "id": "EdR_W8-MTVTB",
    "outputId": "478eda67-dfa6-4f1d-a7ce-8aa60033b56a"
   },
   "outputs": [
    {
     "name": "stdout",
     "output_type": "stream",
     "text": [
      "1\n",
      "2\n",
      "3\n",
      "4\n",
      "5\n"
     ]
    }
   ],
   "source": [
    "i = 1\n",
    "while i <= 5:\n",
    "    print(i)\n",
    "    i += 1"
   ]
  },
  {
   "cell_type": "markdown",
   "metadata": {
    "id": "oDqZEnzsUDAH"
   },
   "source": [
    "\n",
    "\n",
    "### 2 . Post-test loop (do-while loop)\n",
    "\n",
    "The loop will run at least once before checking the condition. If the condition is true, the loop will continue to run, otherwise it will exit. Here's an example that asks the user to enter a number between 1 and 10, and keeps asking until a valid number is entered:\n"
   ]
  },
  {
   "cell_type": "code",
   "execution_count": null,
   "metadata": {
    "colab": {
     "base_uri": "https://localhost:8080/"
    },
    "id": "wW8DWHk1T_3r",
    "outputId": "1c386e26-3f40-492b-ad03-3965d6844941"
   },
   "outputs": [
    {
     "name": "stdout",
     "output_type": "stream",
     "text": [
      "Enter a number between 1 and 10: 15\n",
      "Enter a number between 1 and 10: 17\n",
      "Enter a number between 1 and 10: 6\n",
      "You entered: 6\n"
     ]
    }
   ],
   "source": [
    "while True:\n",
    "    num = int(input(\"Enter a number between 1 and 10: \"))\n",
    "    if num >= 1 and num <= 10:\n",
    "        break\n",
    "print(\"You entered:\", num)\n"
   ]
  },
  {
   "cell_type": "markdown",
   "metadata": {
    "id": "xcKJ_lgDMM2X"
   },
   "source": [
    "## Practice Questions"
   ]
  },
  {
   "cell_type": "markdown",
   "metadata": {
    "id": "vPAt3JOnMQ90"
   },
   "source": [
    "### Difficulty Level : Easy"
   ]
  },
  {
   "cell_type": "markdown",
   "metadata": {
    "id": "lQmL-K9bMUw6"
   },
   "source": [
    "Q. Create a program to display the first 10 even numbers in reverse order in a single line using end parameter of print function.\n",
    "\n",
    "**Note** : Use both the loops.\n",
    "\n"
   ]
  },
  {
   "cell_type": "code",
   "execution_count": null,
   "metadata": {
    "id": "XaTy-V2FUPCC"
   },
   "outputs": [],
   "source": [
    " ## your code ##"
   ]
  },
  {
   "cell_type": "markdown",
   "metadata": {
    "id": "V3QU0vYRd1YR"
   },
   "source": [
    "Q. Create a program that displays numbers starting from 20 to 40 with a difference of 5 in a single line using end parameter of print function.\n",
    "\n",
    "**Note** : Use both the loops."
   ]
  },
  {
   "cell_type": "code",
   "execution_count": null,
   "metadata": {
    "id": "fjKaeEgrdzKU"
   },
   "outputs": [],
   "source": [
    "## your code ##"
   ]
  },
  {
   "cell_type": "markdown",
   "metadata": {
    "id": "j5RzzbIoeADl"
   },
   "source": [
    "Q. Create a program to display the cube of first 5 numbers in single line using end parameter of print function.\n",
    "\n",
    "**Note** : Use both the loops.\n",
    "\n"
   ]
  },
  {
   "cell_type": "code",
   "execution_count": null,
   "metadata": {
    "id": "36cWaEVMd56U"
   },
   "outputs": [],
   "source": [
    "## your code ##"
   ]
  },
  {
   "cell_type": "markdown",
   "metadata": {
    "id": "NmH43eB8eEqB"
   },
   "source": [
    "Q. Create a program to display the factorial of a number.\n",
    "\n",
    "**Note** : Use both the loops with positive and negative step values."
   ]
  },
  {
   "cell_type": "code",
   "execution_count": null,
   "metadata": {
    "id": "-oSIErYOeG7c"
   },
   "outputs": [],
   "source": [
    "## your code ##"
   ]
  },
  {
   "cell_type": "markdown",
   "metadata": {
    "id": "QSk9UHM8eOCe"
   },
   "source": [
    "### Difficulty Level : Medium"
   ]
  },
  {
   "cell_type": "markdown",
   "metadata": {
    "id": "QTqOn3kheRe1"
   },
   "source": [
    "Q. Create a program that keeps on accepting input from user until 0 is entered and print the sum of all the numbers entered at the end.\n"
   ]
  },
  {
   "cell_type": "code",
   "execution_count": null,
   "metadata": {
    "id": "2-3PGAKUeLHf"
   },
   "outputs": [],
   "source": [
    "## your code ##"
   ]
  },
  {
   "cell_type": "markdown",
   "metadata": {
    "id": "hcCvcdlHeUUT"
   },
   "source": [
    "Q. Create a program to print the following series for `n` terms where `n` is the number taken from the user.\n",
    "\n",
    "**Series** : 2,22,222,2222,...... n terms"
   ]
  },
  {
   "cell_type": "code",
   "execution_count": null,
   "metadata": {
    "id": "NTlnncp-eym3"
   },
   "outputs": [],
   "source": [
    "## your code ##"
   ]
  },
  {
   "cell_type": "markdown",
   "metadata": {
    "id": "fkTaRFqChKxu"
   },
   "source": [
    "Q. Create a program to print factorial of given number.\n",
    "\n",
    "for example:       n=5\n",
    "\n",
    "output: factorial of 5 is 120."
   ]
  },
  {
   "cell_type": "code",
   "execution_count": null,
   "metadata": {
    "id": "2z7t4LKNiDcQ"
   },
   "outputs": [],
   "source": [
    "## your code ##"
   ]
  },
  {
   "cell_type": "markdown",
   "metadata": {
    "id": "zvayrxbkedZr"
   },
   "source": [
    "\n",
    "### Difficulty Level : Hard"
   ]
  },
  {
   "cell_type": "markdown",
   "metadata": {
    "id": "-c7fS0EShztA"
   },
   "source": [
    "Q. Create a program to print all prime numbers from 0 to limit. Take limit as input."
   ]
  },
  {
   "cell_type": "code",
   "execution_count": null,
   "metadata": {
    "id": "BFu75HC2iCaJ"
   },
   "outputs": [],
   "source": [
    "## your code ##"
   ]
  },
  {
   "cell_type": "markdown",
   "metadata": {
    "id": "uEBBzAuNejLH"
   },
   "source": [
    "Q. Create a program that displays the first number divisible by 5 between 6 to 16 and then break the loop.\n",
    "\n",
    "**Note** : Use both the loops."
   ]
  },
  {
   "cell_type": "code",
   "execution_count": null,
   "metadata": {
    "id": "x_Kfu4Otez5V"
   },
   "outputs": [],
   "source": [
    "## your code ##"
   ]
  },
  {
   "cell_type": "markdown",
   "metadata": {
    "id": "zknd23Owes3V"
   },
   "source": [
    "Q. Create a program that replicates the following output :\n",
    "\n",
    "**Note** : Use both the loops.\n",
    "\n",
    "The Multiplication Table of 2\n",
    "\n",
    "2 x 1 = 2\n",
    "\n",
    ".\n",
    "\n",
    ".\n",
    "\n",
    ".\n",
    "\n",
    "The Multiplication Table of 3\n",
    "\n",
    "3 x 1 = 3\n",
    "\n",
    ".\n",
    "\n",
    ".\n",
    "\n",
    ".\n",
    "\n",
    "The Multiplication Table of 4\n",
    "\n",
    "4 x 1 = 4\n",
    "\n",
    ".\n",
    "\n",
    ".\n",
    "\n",
    "."
   ]
  },
  {
   "cell_type": "code",
   "execution_count": null,
   "metadata": {
    "id": "gUxZ1HOmeayf"
   },
   "outputs": [],
   "source": [
    "## your code ##"
   ]
  },
  {
   "cell_type": "markdown",
   "metadata": {
    "id": "ZUwA6F9ygAIZ"
   },
   "source": [
    "Q. To check whether input number is **Armstrong number** or not . An **Armstrong number** is an integer with three digits such that the sum of the cubes of its digits is equal to the number itself. "
   ]
  },
  {
   "cell_type": "code",
   "execution_count": null,
   "metadata": {
    "id": "Zz4jwhiWgun_"
   },
   "outputs": [],
   "source": [
    "## your code ##"
   ]
  }
 ],
 "metadata": {
  "colab": {
   "provenance": []
  },
  "kernelspec": {
   "display_name": "Python 3 (ipykernel)",
   "language": "python",
   "name": "python3"
  },
  "language_info": {
   "codemirror_mode": {
    "name": "ipython",
    "version": 3
   },
   "file_extension": ".py",
   "mimetype": "text/x-python",
   "name": "python",
   "nbconvert_exporter": "python",
   "pygments_lexer": "ipython3",
   "version": "3.9.7"
  }
 },
 "nbformat": 4,
 "nbformat_minor": 1
}
