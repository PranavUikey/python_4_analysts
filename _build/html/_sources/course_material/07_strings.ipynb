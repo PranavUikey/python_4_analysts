{
 "cells": [
  {
   "cell_type": "markdown",
   "metadata": {
    "id": "icTO0LEh5yD6"
   },
   "source": [
    "\n",
    "\n",
    "\n",
    "# Strings\n",
    "\n",
    "\n",
    "\n"
   ]
  },
  {
   "cell_type": "markdown",
   "metadata": {
    "id": "CE32apIK7wDX"
   },
   "source": [
    "![](../images/unit_7_01.png)"
   ]
  },
  {
   "cell_type": "markdown",
   "metadata": {
    "id": "NKxB5jfB73B2"
   },
   "source": [
    "We already seen String data type in 1st unit now we will cover some Python's built-in string methods and formatting operations.\n",
    "\n",
    "As we know Strings are :\n",
    "\n",
    "\n",
    "1.   Ordered sequences of characters\n",
    "2.   Immutable, which means that once a string is created, its contents cannot be changed.\n",
    "\n",
    "Slicing and indexing of strings is just like lists and tuples.\n"
   ]
  },
  {
   "cell_type": "code",
   "execution_count": null,
   "metadata": {
    "id": "5QFaN_XzdM5c"
   },
   "outputs": [],
   "source": [
    "language = 'python'"
   ]
  },
  {
   "cell_type": "code",
   "execution_count": null,
   "metadata": {
    "colab": {
     "base_uri": "https://localhost:8080/",
     "height": 36
    },
    "id": "Wd58vjk5dVAy",
    "outputId": "79a164a3-8ab6-41b4-9c53-3d3bf2a17c2c"
   },
   "outputs": [
    {
     "data": {
      "application/vnd.google.colaboratory.intrinsic+json": {
       "type": "string"
      },
      "text/plain": [
       "'p'"
      ]
     },
     "execution_count": 33,
     "metadata": {},
     "output_type": "execute_result"
    }
   ],
   "source": [
    "language[0]"
   ]
  },
  {
   "cell_type": "code",
   "execution_count": null,
   "metadata": {
    "colab": {
     "base_uri": "https://localhost:8080/",
     "height": 36
    },
    "id": "93i0JyrjdX0Q",
    "outputId": "87849f8f-92db-462c-e08e-863e9c44d30c"
   },
   "outputs": [
    {
     "data": {
      "application/vnd.google.colaboratory.intrinsic+json": {
       "type": "string"
      },
      "text/plain": [
       "'pytho'"
      ]
     },
     "execution_count": 34,
     "metadata": {},
     "output_type": "execute_result"
    }
   ],
   "source": [
    "language[0:5]"
   ]
  },
  {
   "cell_type": "code",
   "execution_count": null,
   "metadata": {
    "colab": {
     "base_uri": "https://localhost:8080/",
     "height": 36
    },
    "id": "eQSPYO_Ydcb6",
    "outputId": "48a6f650-a6a2-426e-8b26-d3f7fd61abd2"
   },
   "outputs": [
    {
     "data": {
      "application/vnd.google.colaboratory.intrinsic+json": {
       "type": "string"
      },
      "text/plain": [
       "'o'"
      ]
     },
     "execution_count": 35,
     "metadata": {},
     "output_type": "execute_result"
    }
   ],
   "source": [
    "language[-2]"
   ]
  },
  {
   "cell_type": "code",
   "execution_count": null,
   "metadata": {
    "colab": {
     "base_uri": "https://localhost:8080/",
     "height": 36
    },
    "id": "p-ITMuq_dfPS",
    "outputId": "0a83c033-5fc4-4a30-fc69-a7597ce6345f"
   },
   "outputs": [
    {
     "data": {
      "application/vnd.google.colaboratory.intrinsic+json": {
       "type": "string"
      },
      "text/plain": [
       "'th'"
      ]
     },
     "execution_count": 37,
     "metadata": {},
     "output_type": "execute_result"
    }
   ],
   "source": [
    "language[-4:-2]"
   ]
  },
  {
   "cell_type": "markdown",
   "metadata": {
    "id": "L21-O5z_B26T"
   },
   "source": [
    "\n",
    "\n",
    "## String Formatting operator\n",
    "\n"
   ]
  },
  {
   "cell_type": "markdown",
   "metadata": {
    "id": "iQPqLYSgCEd9"
   },
   "source": [
    "Normally for formatting of string we have to seperate variables and strings."
   ]
  },
  {
   "cell_type": "code",
   "execution_count": null,
   "metadata": {},
   "outputs": [],
   "source": [
    "name = \"John\"\n",
    "age = 25\n",
    "formatted_string = \"My name is \" + name + \" and I am \" +str(age)+\" years old.\" \n",
    "print(formatted_string)"
   ]
  },
  {
   "cell_type": "markdown",
   "metadata": {
    "id": "hz1Y0zpwCi-i"
   },
   "source": [
    "Python provides the format() method for string formatting. This method is more flexible and easier to read than the string formatting operator, and is recommended for most cases.\n",
    "\n",
    "Here's an example of using the format() method:"
   ]
  },
  {
   "cell_type": "code",
   "execution_count": null,
   "metadata": {
    "colab": {
     "base_uri": "https://localhost:8080/"
    },
    "id": "FYyKjQLeCWBW",
    "outputId": "75f478db-7670-454b-f43f-b0cd940ac4cd"
   },
   "outputs": [
    {
     "name": "stdout",
     "output_type": "stream",
     "text": [
      "My name is John and I am 25 years old.\n"
     ]
    }
   ],
   "source": [
    "name = \"John\"\n",
    "age = 25\n",
    "formatted_string = \"My name is {} and I am {} years old.\".format(name, age)\n",
    "print(formatted_string)\n"
   ]
  },
  {
   "cell_type": "markdown",
   "metadata": {
    "id": "-RiVLUAhGA-v"
   },
   "source": [
    "\n",
    "\n",
    "## Built in String Methods and Functions\n",
    "\n"
   ]
  },
  {
   "cell_type": "markdown",
   "metadata": {
    "id": "CU1yaUQ-Zi_P"
   },
   "source": [
    "![](../images/unit_7_03.png)"
   ]
  },
  {
   "cell_type": "markdown",
   "metadata": {
    "id": "z70Ir1LWbOSX"
   },
   "source": [
    "\n",
    "\n",
    "### Adjusting case\n",
    "\n"
   ]
  },
  {
   "cell_type": "markdown",
   "metadata": {
    "id": "gv6d7DtdbS07"
   },
   "source": [
    "Python makes it quite easy to adjust the case of a string. Here we’ll look at the upper(), lower(), capitalize(), title(), and swapcase() methods, using the following messy string as an example:"
   ]
  },
  {
   "cell_type": "code",
   "execution_count": 1,
   "metadata": {
    "id": "KWVslXONbUWv"
   },
   "outputs": [],
   "source": [
    "line = \"i LoVe dATA SciEnCE\""
   ]
  },
  {
   "cell_type": "code",
   "execution_count": 2,
   "metadata": {
    "colab": {
     "base_uri": "https://localhost:8080/",
     "height": 36
    },
    "id": "clE7swuXbVx1",
    "outputId": "47e49dad-83d6-4721-b407-ca912a552d3d"
   },
   "outputs": [
    {
     "data": {
      "text/plain": [
       "'I LOVE DATA SCIENCE'"
      ]
     },
     "execution_count": 2,
     "metadata": {},
     "output_type": "execute_result"
    }
   ],
   "source": [
    "line.upper()"
   ]
  },
  {
   "cell_type": "code",
   "execution_count": null,
   "metadata": {
    "colab": {
     "base_uri": "https://localhost:8080/",
     "height": 36
    },
    "id": "8GlJP625bW_1",
    "outputId": "6532a388-0cf2-4ea5-80bf-4ec2c323ce3b"
   },
   "outputs": [
    {
     "data": {
      "application/vnd.google.colaboratory.intrinsic+json": {
       "type": "string"
      },
      "text/plain": [
       "'i love data science'"
      ]
     },
     "execution_count": 17,
     "metadata": {},
     "output_type": "execute_result"
    }
   ],
   "source": [
    "line.lower()"
   ]
  },
  {
   "cell_type": "markdown",
   "metadata": {
    "id": "Y8EfrYG-bZLH"
   },
   "source": [
    "A common formatting need is to capitalize just the first letter of each word, or perhaps the first letter of each sentence. This can be done with the title() and capitalize() methods:"
   ]
  },
  {
   "cell_type": "code",
   "execution_count": null,
   "metadata": {
    "colab": {
     "base_uri": "https://localhost:8080/",
     "height": 36
    },
    "id": "FelmX_MFbanc",
    "outputId": "212e6be3-f317-463a-c40d-1a09b01ffb1e"
   },
   "outputs": [
    {
     "data": {
      "application/vnd.google.colaboratory.intrinsic+json": {
       "type": "string"
      },
      "text/plain": [
       "'I Love Data Science'"
      ]
     },
     "execution_count": 18,
     "metadata": {},
     "output_type": "execute_result"
    }
   ],
   "source": [
    "line.title()"
   ]
  },
  {
   "cell_type": "code",
   "execution_count": null,
   "metadata": {
    "colab": {
     "base_uri": "https://localhost:8080/",
     "height": 36
    },
    "id": "EqS0RGRpbcPu",
    "outputId": "f8d73f23-1093-4b1d-80fd-197914ca6767"
   },
   "outputs": [
    {
     "data": {
      "application/vnd.google.colaboratory.intrinsic+json": {
       "type": "string"
      },
      "text/plain": [
       "'I love data science'"
      ]
     },
     "execution_count": 19,
     "metadata": {},
     "output_type": "execute_result"
    }
   ],
   "source": [
    "line.capitalize()"
   ]
  },
  {
   "cell_type": "markdown",
   "metadata": {
    "id": "amqvAHU0be9P"
   },
   "source": [
    "The cases can be swapped using the swapcase() method:"
   ]
  },
  {
   "cell_type": "code",
   "execution_count": null,
   "metadata": {
    "colab": {
     "base_uri": "https://localhost:8080/",
     "height": 36
    },
    "id": "1gvDyF1Mb22l",
    "outputId": "00faf0e5-601b-475f-b9a2-09f3584ecb2d"
   },
   "outputs": [
    {
     "data": {
      "application/vnd.google.colaboratory.intrinsic+json": {
       "type": "string"
      },
      "text/plain": [
       "'         THIS IS THE CONTENT         '"
      ]
     },
     "execution_count": 24,
     "metadata": {},
     "output_type": "execute_result"
    }
   ],
   "source": [
    "line.swapcase()"
   ]
  },
  {
   "cell_type": "markdown",
   "metadata": {
    "id": "4ZHdC08lb_vS"
   },
   "source": [
    "\n",
    "### Adding spaces \n",
    "\n"
   ]
  },
  {
   "cell_type": "markdown",
   "metadata": {
    "id": "rr0Gwd1pcEpE"
   },
   "source": [
    "The opposite of this operation, adding spaces or other characters, can be accomplished using the center(), ljust(), and rjust() methods.\n",
    "\n",
    "For example, we can use the center() method to center a given string within a given number of spaces:"
   ]
  },
  {
   "cell_type": "code",
   "execution_count": null,
   "metadata": {
    "colab": {
     "base_uri": "https://localhost:8080/",
     "height": 36
    },
    "id": "PCXZkzTccGBU",
    "outputId": "e6a953d6-5d53-43e3-9118-e76ded0ecbb3"
   },
   "outputs": [
    {
     "data": {
      "application/vnd.google.colaboratory.intrinsic+json": {
       "type": "string"
      },
      "text/plain": [
       "'     this is the content      '"
      ]
     },
     "execution_count": 26,
     "metadata": {},
     "output_type": "execute_result"
    }
   ],
   "source": [
    "line = \"this is the content\"\n",
    "line.center(30)"
   ]
  },
  {
   "cell_type": "markdown",
   "metadata": {
    "id": "Mgfui6X8cIXi"
   },
   "source": [
    "Similarly, ljust() and rjust() will left-justify or right-justify the string within spaces of a given length:"
   ]
  },
  {
   "cell_type": "code",
   "execution_count": null,
   "metadata": {
    "colab": {
     "base_uri": "https://localhost:8080/",
     "height": 36
    },
    "id": "chM6NYNucJnf",
    "outputId": "fd6dcbd5-9b10-4df0-bc2f-bec04d23b914"
   },
   "outputs": [
    {
     "data": {
      "application/vnd.google.colaboratory.intrinsic+json": {
       "type": "string"
      },
      "text/plain": [
       "'this is the content           '"
      ]
     },
     "execution_count": 27,
     "metadata": {},
     "output_type": "execute_result"
    }
   ],
   "source": [
    "line.ljust(30)"
   ]
  },
  {
   "cell_type": "code",
   "execution_count": null,
   "metadata": {
    "colab": {
     "base_uri": "https://localhost:8080/",
     "height": 36
    },
    "id": "_W3z_d2ScMNb",
    "outputId": "cb69a16c-5f75-4062-d193-d2df2cbd336a"
   },
   "outputs": [
    {
     "data": {
      "application/vnd.google.colaboratory.intrinsic+json": {
       "type": "string"
      },
      "text/plain": [
       "'           this is the content'"
      ]
     },
     "execution_count": 28,
     "metadata": {},
     "output_type": "execute_result"
    }
   ],
   "source": [
    "line.rjust(30)"
   ]
  },
  {
   "cell_type": "markdown",
   "metadata": {
    "id": "UJxLS2-ZcOcM"
   },
   "source": [
    "All these methods additionally accept any character which will be used to fill the space. For example:"
   ]
  },
  {
   "cell_type": "code",
   "execution_count": null,
   "metadata": {
    "colab": {
     "base_uri": "https://localhost:8080/",
     "height": 36
    },
    "id": "L1zkHiNscP0X",
    "outputId": "e2aebb48-a36e-4b97-86cb-17ef7ccc7495"
   },
   "outputs": [
    {
     "data": {
      "application/vnd.google.colaboratory.intrinsic+json": {
       "type": "string"
      },
      "text/plain": [
       "'0000000435'"
      ]
     },
     "execution_count": 29,
     "metadata": {},
     "output_type": "execute_result"
    }
   ],
   "source": [
    "'435'.rjust(10, '0')"
   ]
  },
  {
   "cell_type": "markdown",
   "metadata": {
    "id": "JzJjd3nDcUhH"
   },
   "source": [
    "Because zero-filling is such a common need, Python also provides zfill(), which is a special method to right-pad a string with zeros:"
   ]
  },
  {
   "cell_type": "code",
   "execution_count": null,
   "metadata": {
    "colab": {
     "base_uri": "https://localhost:8080/",
     "height": 36
    },
    "id": "hALrM6QccR5p",
    "outputId": "904b37cd-c2f6-4767-94ca-edd0f4c3050a"
   },
   "outputs": [
    {
     "data": {
      "application/vnd.google.colaboratory.intrinsic+json": {
       "type": "string"
      },
      "text/plain": [
       "'0000000435'"
      ]
     },
     "execution_count": 30,
     "metadata": {},
     "output_type": "execute_result"
    }
   ],
   "source": [
    "'435'.zfill(10)"
   ]
  },
  {
   "cell_type": "markdown",
   "metadata": {
    "id": "8sTGvnUlbi96"
   },
   "source": [
    "\n",
    "\n",
    "### Removing spaces (strip)\n",
    "\n"
   ]
  },
  {
   "cell_type": "markdown",
   "metadata": {
    "id": "udzoojhPbshI"
   },
   "source": [
    "Another common need is to remove spaces (or other characters) from the beginning or end of the string. The basic method of removing characters is the strip() method, which strips whitespace from the beginning and end of the line:"
   ]
  },
  {
   "cell_type": "code",
   "execution_count": null,
   "metadata": {
    "colab": {
     "base_uri": "https://localhost:8080/",
     "height": 36
    },
    "id": "601I8F9cbt-o",
    "outputId": "e0a14882-8120-4650-9399-6db5a4e60b76"
   },
   "outputs": [
    {
     "data": {
      "application/vnd.google.colaboratory.intrinsic+json": {
       "type": "string"
      },
      "text/plain": [
       "'this is the content'"
      ]
     },
     "execution_count": 21,
     "metadata": {},
     "output_type": "execute_result"
    }
   ],
   "source": [
    "line = '         this is the content         '\n",
    "line.strip()"
   ]
  },
  {
   "cell_type": "markdown",
   "metadata": {
    "id": "9v4i3cfbbw23"
   },
   "source": [
    "To remove just space to the right or left, use rstrip() or lstrip() respectively:"
   ]
  },
  {
   "cell_type": "code",
   "execution_count": null,
   "metadata": {
    "colab": {
     "base_uri": "https://localhost:8080/",
     "height": 36
    },
    "id": "Z5Bqf97ubyQw",
    "outputId": "78e2be9a-2beb-451a-c161-a10fffca061d"
   },
   "outputs": [
    {
     "data": {
      "application/vnd.google.colaboratory.intrinsic+json": {
       "type": "string"
      },
      "text/plain": [
       "'         this is the content'"
      ]
     },
     "execution_count": 22,
     "metadata": {},
     "output_type": "execute_result"
    }
   ],
   "source": [
    "line.rstrip()"
   ]
  },
  {
   "cell_type": "code",
   "execution_count": null,
   "metadata": {
    "colab": {
     "base_uri": "https://localhost:8080/",
     "height": 36
    },
    "id": "sLBp1faLbz1N",
    "outputId": "26a4bc41-9c3e-4614-d319-58774d74bd49"
   },
   "outputs": [
    {
     "data": {
      "application/vnd.google.colaboratory.intrinsic+json": {
       "type": "string"
      },
      "text/plain": [
       "'this is the content         '"
      ]
     },
     "execution_count": 23,
     "metadata": {},
     "output_type": "execute_result"
    }
   ],
   "source": [
    "line.lstrip()"
   ]
  },
  {
   "cell_type": "markdown",
   "metadata": {
    "id": "RoGc1UGpc2-T"
   },
   "source": [
    "To remove characters other than spaces, you can pass the desired character to the strip() method:"
   ]
  },
  {
   "cell_type": "code",
   "execution_count": null,
   "metadata": {
    "colab": {
     "base_uri": "https://localhost:8080/",
     "height": 36
    },
    "id": "fgsw0tcObgTe",
    "outputId": "5b7e12d6-a7f4-4e33-c707-28fab52619db"
   },
   "outputs": [
    {
     "data": {
      "application/vnd.google.colaboratory.intrinsic+json": {
       "type": "string"
      },
      "text/plain": [
       "'435'"
      ]
     },
     "execution_count": 31,
     "metadata": {},
     "output_type": "execute_result"
    }
   ],
   "source": [
    "num = \"000000000000435\"\n",
    "num.strip('0')"
   ]
  },
  {
   "cell_type": "markdown",
   "metadata": {
    "id": "S99QyiDiZt7r"
   },
   "source": [
    "\n",
    "\n",
    "### Finding substrings\n",
    "\n"
   ]
  },
  {
   "cell_type": "markdown",
   "metadata": {
    "id": "g1uRwM10Z0UK"
   },
   "source": [
    "If you want to find occurrences of a certain character in a string, the find()/rfind(), index()/rindex(), and replace() methods are the best built-in methods.\n",
    "\n",
    "find() and index() are very similar, in that they search for the first occurrence of a character or substring within a string, and return the index of the substring:"
   ]
  },
  {
   "cell_type": "code",
   "execution_count": null,
   "metadata": {
    "colab": {
     "base_uri": "https://localhost:8080/"
    },
    "id": "JxcwnvseCnr1",
    "outputId": "63283962-4bc9-418d-f258-d353b07ac118"
   },
   "outputs": [
    {
     "data": {
      "text/plain": [
       "7"
      ]
     },
     "execution_count": 3,
     "metadata": {},
     "output_type": "execute_result"
    }
   ],
   "source": [
    "line = \"i love data science\"\n",
    "line.find('data')"
   ]
  },
  {
   "cell_type": "code",
   "execution_count": null,
   "metadata": {
    "colab": {
     "base_uri": "https://localhost:8080/"
    },
    "id": "Bax-yudtZ2ps",
    "outputId": "addbd520-d312-4975-ae02-3a57fceead9c"
   },
   "outputs": [
    {
     "data": {
      "text/plain": [
       "7"
      ]
     },
     "execution_count": 4,
     "metadata": {},
     "output_type": "execute_result"
    }
   ],
   "source": [
    "line.index('data')"
   ]
  },
  {
   "cell_type": "code",
   "execution_count": null,
   "metadata": {
    "colab": {
     "base_uri": "https://localhost:8080/"
    },
    "id": "ls6zHrc0Z38s",
    "outputId": "e84566f2-2473-4e1e-c233-a32fe91e609a"
   },
   "outputs": [
    {
     "data": {
      "text/plain": [
       "10"
      ]
     },
     "execution_count": 5,
     "metadata": {},
     "output_type": "execute_result"
    }
   ],
   "source": [
    "line.rfind('a')"
   ]
  },
  {
   "cell_type": "markdown",
   "metadata": {
    "id": "tgiE-UjtZ-9G"
   },
   "source": [
    "For the special case of checking for a substring at the beginning or end of a string, Python provides the startswith() and endswith() methods:"
   ]
  },
  {
   "cell_type": "code",
   "execution_count": null,
   "metadata": {
    "colab": {
     "base_uri": "https://localhost:8080/"
    },
    "id": "6Cgb4MqnZ7dL",
    "outputId": "43f3360a-c098-4667-e2b0-099c4f80d6ea"
   },
   "outputs": [
    {
     "data": {
      "text/plain": [
       "True"
      ]
     },
     "execution_count": 6,
     "metadata": {},
     "output_type": "execute_result"
    }
   ],
   "source": [
    "line.endswith('science')"
   ]
  },
  {
   "cell_type": "code",
   "execution_count": null,
   "metadata": {
    "colab": {
     "base_uri": "https://localhost:8080/"
    },
    "id": "oZFz66YcaAv0",
    "outputId": "83f9dfbe-41c6-4dba-e294-111f7b87efdb"
   },
   "outputs": [
    {
     "data": {
      "text/plain": [
       "False"
      ]
     },
     "execution_count": 7,
     "metadata": {},
     "output_type": "execute_result"
    }
   ],
   "source": [
    "line.startswith('Me')"
   ]
  },
  {
   "cell_type": "markdown",
   "metadata": {
    "id": "i0cBs-LpaElK"
   },
   "source": [
    "\n",
    "\n",
    "### Replacing substrings\n",
    "\n"
   ]
  },
  {
   "cell_type": "markdown",
   "metadata": {
    "id": "FpxXl6NxaJYF"
   },
   "source": [
    "To go one step further and replace a given substring with a new string, you can use the replace() method. Here, let’s replace “data science” with “aiadventures”:"
   ]
  },
  {
   "cell_type": "code",
   "execution_count": null,
   "metadata": {
    "colab": {
     "base_uri": "https://localhost:8080/",
     "height": 36
    },
    "id": "GVCJHpraaCTl",
    "outputId": "8ce9335f-b04a-4245-9707-47db8a74981c"
   },
   "outputs": [
    {
     "data": {
      "application/vnd.google.colaboratory.intrinsic+json": {
       "type": "string"
      },
      "text/plain": [
       "'i love aiadventures'"
      ]
     },
     "execution_count": 8,
     "metadata": {},
     "output_type": "execute_result"
    }
   ],
   "source": [
    "line.replace('data science', 'aiadventures')"
   ]
  },
  {
   "cell_type": "markdown",
   "metadata": {
    "id": "Fam0meiTaNAm"
   },
   "source": [
    "The replace() function returns a new string, and will replace all occurrences of the input:"
   ]
  },
  {
   "cell_type": "code",
   "execution_count": null,
   "metadata": {
    "colab": {
     "base_uri": "https://localhost:8080/",
     "height": 36
    },
    "id": "RfaMqKviaLJH",
    "outputId": "34578f75-be31-413b-8cca-4661373c9b6d"
   },
   "outputs": [
    {
     "data": {
      "application/vnd.google.colaboratory.intrinsic+json": {
       "type": "string"
      },
      "text/plain": [
       "'i love d--t-- science'"
      ]
     },
     "execution_count": 9,
     "metadata": {},
     "output_type": "execute_result"
    }
   ],
   "source": [
    "line.replace('a', '--')"
   ]
  },
  {
   "cell_type": "markdown",
   "metadata": {
    "id": "j5zNaDr_aTDK"
   },
   "source": [
    "\n",
    "\n",
    "### Partitioning strings\n",
    "\n"
   ]
  },
  {
   "cell_type": "markdown",
   "metadata": {
    "id": "BAIK41wKaa3m"
   },
   "source": [
    "If you would like to find a substring and then split the string based on its location, the partition() method is what you’re looking for. It will return a sequence of substrings.\n",
    "\n",
    "The partition() method returns a tuple with three elements: the substring before the first instance of the split-point, the split-point itself, and the substring after."
   ]
  },
  {
   "cell_type": "code",
   "execution_count": null,
   "metadata": {
    "colab": {
     "base_uri": "https://localhost:8080/"
    },
    "id": "xFnBfshTaPA_",
    "outputId": "cd7ba0e8-2245-4301-d51c-3493af34b88d"
   },
   "outputs": [
    {
     "data": {
      "text/plain": [
       "('i love ', 'data', ' science')"
      ]
     },
     "execution_count": 10,
     "metadata": {},
     "output_type": "execute_result"
    }
   ],
   "source": [
    "line.partition('data')"
   ]
  },
  {
   "cell_type": "markdown",
   "metadata": {
    "id": "9jvNbHTSae84"
   },
   "source": [
    "\n",
    "\n",
    "### Split strings\n",
    "\n"
   ]
  },
  {
   "cell_type": "markdown",
   "metadata": {
    "id": "w1H0Yd-8alF6"
   },
   "source": [
    "The split() method is perhaps more useful; it finds all instances of the split-point and returns the substrings in between. The default is to split on any whitespace, returning a list of the individual words in a string:"
   ]
  },
  {
   "cell_type": "code",
   "execution_count": null,
   "metadata": {
    "colab": {
     "base_uri": "https://localhost:8080/"
    },
    "id": "HzaSakx4acfP",
    "outputId": "911f9e65-383a-4d7b-c9ab-ea056f970ef7"
   },
   "outputs": [
    {
     "data": {
      "text/plain": [
       "['i', 'love', 'data', 'science']"
      ]
     },
     "execution_count": 11,
     "metadata": {},
     "output_type": "execute_result"
    }
   ],
   "source": [
    "line.split()"
   ]
  },
  {
   "cell_type": "markdown",
   "metadata": {
    "id": "jSkeOj9QaqzT"
   },
   "source": [
    "A related method is splitlines(), which splits on newline characters. Let’s give it a try …"
   ]
  },
  {
   "cell_type": "code",
   "execution_count": null,
   "metadata": {
    "colab": {
     "base_uri": "https://localhost:8080/"
    },
    "id": "dGaPdHt2am6R",
    "outputId": "d635980e-b911-449a-afb1-67b87aac7126"
   },
   "outputs": [
    {
     "data": {
      "text/plain": [
       "[\"Fear of failure is higher when you're not working on the problem. \",\n",
       " 'If you are taking action, you are less worried about failure, ',\n",
       " 'Because you realize you can influence the outcome.']"
      ]
     },
     "execution_count": 12,
     "metadata": {},
     "output_type": "execute_result"
    }
   ],
   "source": [
    "motivation = \"\"\"Fear of failure is higher when you're not working on the problem. \n",
    "If you are taking action, you are less worried about failure, \n",
    "Because you realize you can influence the outcome.\"\"\"\n",
    "\n",
    "motivation.splitlines()"
   ]
  },
  {
   "cell_type": "markdown",
   "metadata": {
    "id": "0gIAMn8gaztD"
   },
   "source": [
    "### joining strings"
   ]
  },
  {
   "cell_type": "markdown",
   "metadata": {
    "id": "lEbyHIJ8aw37"
   },
   "source": [
    "Note that if you would like to undo a split(), you can use the join() method, which returns a string built from a splitpoint and an iterable:\n"
   ]
  },
  {
   "cell_type": "code",
   "execution_count": null,
   "metadata": {
    "colab": {
     "base_uri": "https://localhost:8080/",
     "height": 36
    },
    "id": "3FPH7esFase8",
    "outputId": "dab3576a-7d24-4bb6-c4f1-2f1f5b571656"
   },
   "outputs": [
    {
     "data": {
      "application/vnd.google.colaboratory.intrinsic+json": {
       "type": "string"
      },
      "text/plain": [
       "'1--2--3'"
      ]
     },
     "execution_count": 13,
     "metadata": {},
     "output_type": "execute_result"
    }
   ],
   "source": [
    "'--'.join(['1', '2', '3'])"
   ]
  },
  {
   "cell_type": "markdown",
   "metadata": {
    "id": "pXl9cNnra6vi"
   },
   "source": [
    "A common pattern is to use the special character \"\\n\" (newline) to join together lines that have been previously split, and recover the input:"
   ]
  },
  {
   "cell_type": "code",
   "execution_count": null,
   "metadata": {
    "colab": {
     "base_uri": "https://localhost:8080/"
    },
    "id": "B5_QH-bUay_z",
    "outputId": "b9fa535a-96ac-46a0-e2af-4804982575ff"
   },
   "outputs": [
    {
     "name": "stdout",
     "output_type": "stream",
     "text": [
      "Fear of failure is higher when you're not working on the problem.\n",
      "If you are taking action, you are less worried about failure, \n",
      "Because you realize you can influence the outcome.\n"
     ]
    }
   ],
   "source": [
    "print(\"\\n\".join([\"Fear of failure is higher when you're not working on the problem.\", \n",
    "                 'If you are taking action, you are less worried about failure, ', \n",
    "                 'Because you realize you can influence the outcome.']))"
   ]
  },
  {
   "cell_type": "markdown",
   "metadata": {
    "id": "5m4ktDPAeDA2"
   },
   "source": [
    "There are many more methods in string manipulation. You can refer the link to praactice more methods. link : https://realpython.com/python-strings/#built-in-string-methods\n"
   ]
  },
  {
   "cell_type": "markdown",
   "metadata": {
    "id": "5e80PD_NepjP"
   },
   "source": [
    "\n",
    "\n",
    "### Iterating Strings\n",
    "\n"
   ]
  },
  {
   "cell_type": "code",
   "execution_count": null,
   "metadata": {},
   "outputs": [],
   "source": [
    "msg='Goodbye'\n",
    "for i in msg:\n",
    "  print(i)"
   ]
  },
  {
   "cell_type": "markdown",
   "metadata": {},
   "source": [
    "Iterate string to display index and value together "
   ]
  },
  {
   "cell_type": "code",
   "execution_count": 24,
   "metadata": {
    "colab": {
     "base_uri": "https://localhost:8080/"
    },
    "id": "geZyPdU1a83X",
    "outputId": "b8f48bf6-de47-4103-b05d-b4ac77d42b7d"
   },
   "outputs": [
    {
     "name": "stdout",
     "output_type": "stream",
     "text": [
      "G\n",
      "o\n",
      "o\n",
      "d\n",
      "b\n",
      "y\n",
      "e\n"
     ]
    }
   ],
   "source": [
    "msg='Goodbye'\n",
    "for i in range(len(msg)):\n",
    "  print(i,msg[i])"
   ]
  },
  {
   "cell_type": "markdown",
   "metadata": {
    "id": "da6nyckoguDe"
   },
   "source": [
    "\n",
    "\n",
    "## Comparing Strings\n",
    "\n"
   ]
  },
  {
   "cell_type": "markdown",
   "metadata": {
    "id": "yQQdtGgpgl8V"
   },
   "source": [
    "![](../images/unit_7_04.png)"
   ]
  },
  {
   "cell_type": "markdown",
   "metadata": {
    "id": "fwi--YUtg7G7"
   },
   "source": [
    "In Python, you can compare strings using comparison operators like **== (equal to), != (not equal to), < (less than), > (greater than), <= (less than or equal to), and >= (greater than or equal to)**.\n",
    "\n",
    "When comparing strings, Python compares them lexicographically, which means it compares the ASCII or Unicode code point values of each character in the strings, starting from the leftmost character and moving towards the right. If two characters differ, the comparison is determined by the difference between their code point values."
   ]
  },
  {
   "cell_type": "code",
   "execution_count": null,
   "metadata": {
    "colab": {
     "base_uri": "https://localhost:8080/"
    },
    "id": "qU_M5J7ugQX8",
    "outputId": "0cc406d8-87a5-4199-ee29-d253150e62f4"
   },
   "outputs": [
    {
     "data": {
      "text/plain": [
       "True"
      ]
     },
     "execution_count": 48,
     "metadata": {},
     "output_type": "execute_result"
    }
   ],
   "source": [
    "'apple' == 'apple'"
   ]
  },
  {
   "cell_type": "code",
   "execution_count": null,
   "metadata": {
    "colab": {
     "base_uri": "https://localhost:8080/"
    },
    "id": "kjlQfrYThJxq",
    "outputId": "32ae3e24-3651-411c-e6e7-b313867f096f"
   },
   "outputs": [
    {
     "data": {
      "text/plain": [
       "True"
      ]
     },
     "execution_count": 49,
     "metadata": {},
     "output_type": "execute_result"
    }
   ],
   "source": [
    "'apple' != 'banana'"
   ]
  },
  {
   "cell_type": "code",
   "execution_count": null,
   "metadata": {
    "colab": {
     "base_uri": "https://localhost:8080/"
    },
    "id": "ZMqNOcw6hMBR",
    "outputId": "56fedb72-7b61-46d3-cae9-c53ed03a68d0"
   },
   "outputs": [
    {
     "data": {
      "text/plain": [
       "True"
      ]
     },
     "execution_count": 50,
     "metadata": {},
     "output_type": "execute_result"
    }
   ],
   "source": [
    "'cat' < 'dog'"
   ]
  },
  {
   "cell_type": "code",
   "execution_count": null,
   "metadata": {
    "colab": {
     "base_uri": "https://localhost:8080/"
    },
    "id": "S7hpJkjthOBd",
    "outputId": "18a1ce05-b567-4398-b583-fc9ebdf4bcc8"
   },
   "outputs": [
    {
     "data": {
      "text/plain": [
       "True"
      ]
     },
     "execution_count": 51,
     "metadata": {},
     "output_type": "execute_result"
    }
   ],
   "source": [
    "'hello' >= 'goodbye'"
   ]
  },
  {
   "cell_type": "markdown",
   "metadata": {
    "id": "9BoJdy-2iSD3"
   },
   "source": [
    "Here is the official Python documentation for the string module:\n",
    "\n",
    "https://docs.python.org/3/library/string.html\n",
    "\n",
    "The documentation provides a comprehensive list of all the constants and functions available in the string module, along with examples of how to use them. It's a great resource for learning more about the string module and how to work with strings in Python."
   ]
  },
  {
   "cell_type": "markdown",
   "metadata": {
    "id": "BiJDXB2zVgJM"
   },
   "source": [
    "## Practice Questions"
   ]
  },
  {
   "cell_type": "markdown",
   "metadata": {
    "id": "8vEU-rgbVzu1"
   },
   "source": [
    "Q. Create a function that checks whether a word or phrase is palindrome or not.\n",
    "\n",
    "**Palindrome Definition :** It is a word or sequence that when read from right-to-left or left-to-right mean the same word. Example: madam, kayak, racecar, etc. \n",
    "\n",
    "**Note :** Try solving this using **String Slicing** \n",
    "\n",
    "**Example :**\n",
    "\n",
    "def palindrome(string):\n",
    "    ### your code here\n",
    "\n",
    "palindrome('madam')\n",
    ">>> 'Palindrome!'\n",
    "\n",
    "palindrome('aiadventures')\n",
    ">>> 'Not Palindrome!'"
   ]
  },
  {
   "cell_type": "code",
   "execution_count": null,
   "metadata": {},
   "outputs": [],
   "source": []
  },
  {
   "cell_type": "markdown",
   "metadata": {},
   "source": [
    "Q. Create a function to convert a string to uppercase.\n",
    "\n",
    "**Example :**\n",
    "\n",
    "def uppercase(my_string):\n",
    "\n",
    "        ### your code here\n",
    "\n",
    "\n",
    "my_string = \"hello\"        \n",
    "\n",
    "uppercase(my_string)\n",
    "\n",
    "\n",
    ">>> \"HELLO\""
   ]
  },
  {
   "cell_type": "code",
   "execution_count": null,
   "metadata": {},
   "outputs": [],
   "source": []
  },
  {
   "cell_type": "markdown",
   "metadata": {},
   "source": [
    "Q. Find the position of a substring in a string.\n",
    "\n",
    "**Example :**\n",
    "\n",
    "my_string = \"hello world\"      \n",
    ">>> 6\n"
   ]
  },
  {
   "cell_type": "code",
   "execution_count": null,
   "metadata": {},
   "outputs": [],
   "source": []
  },
  {
   "cell_type": "markdown",
   "metadata": {},
   "source": [
    "\n",
    "Q. check if a string starts with a certain 'h'.\n",
    "\n",
    "**Example :**\n",
    "\n",
    "my_string = \"hello\"      \n",
    "\n",
    ">>> True"
   ]
  },
  {
   "cell_type": "code",
   "execution_count": null,
   "metadata": {},
   "outputs": [],
   "source": []
  },
  {
   "cell_type": "markdown",
   "metadata": {},
   "source": [
    "Q. Split a string into a list of words.\n",
    "\n",
    "**Example :**\n",
    "\n",
    "my_string = \"hello world\"     \n",
    "\n",
    ">>> ['hello', 'world']"
   ]
  },
  {
   "cell_type": "code",
   "execution_count": null,
   "metadata": {},
   "outputs": [],
   "source": []
  },
  {
   "cell_type": "markdown",
   "metadata": {},
   "source": [
    "Q. Join a list of strings into a single string with a space as a separator.\n",
    "\n",
    "**Example :**\n",
    "\n",
    "words = [\"hello\", \"world\"]     \n",
    ">>> \"hello world\"\n"
   ]
  },
  {
   "cell_type": "code",
   "execution_count": null,
   "metadata": {},
   "outputs": [],
   "source": []
  },
  {
   "cell_type": "markdown",
   "metadata": {},
   "source": [
    "Q. Replace a substring in a string with another substring.\n",
    "\n",
    "**Example :**\n",
    "\n",
    "my_string = \"hello world\"    \n",
    ">>> \"hello Python\"\n"
   ]
  },
  {
   "cell_type": "code",
   "execution_count": null,
   "metadata": {},
   "outputs": [],
   "source": []
  },
  {
   "cell_type": "markdown",
   "metadata": {},
   "source": [
    "Q. Remove leading and trailing whitespaces from a string.\n",
    "\n",
    "**Example :**\n",
    "\n",
    "my_string = \"  hello world     \"   \n",
    ">>> \"hello world\"\n"
   ]
  },
  {
   "cell_type": "code",
   "execution_count": null,
   "metadata": {},
   "outputs": [],
   "source": []
  },
  {
   "cell_type": "markdown",
   "metadata": {},
   "source": [
    "\n",
    "\n",
    "\n",
    "\n",
    "\n",
    "\n",
    "\n",
    "\n",
    "\n",
    "Q. Convert a string to lowercase.\n",
    "\n",
    "**Example :**\n",
    "\n",
    "my_string = \"HELLO\"      \n",
    ">>> \"hello\"\n",
    "\n"
   ]
  },
  {
   "cell_type": "code",
   "execution_count": null,
   "metadata": {},
   "outputs": [],
   "source": []
  },
  {
   "cell_type": "markdown",
   "metadata": {},
   "source": [
    "Q. Check if a string is a digit.\n",
    "\n",
    "** hint google `isdigit()` and try to implement it **\n",
    "\n",
    "**Example :**\n",
    "\n",
    "my_string = \"123\"      \n",
    ">>> True\n"
   ]
  },
  {
   "cell_type": "code",
   "execution_count": null,
   "metadata": {},
   "outputs": [],
   "source": []
  }
 ],
 "metadata": {
  "colab": {
   "provenance": []
  },
  "kernelspec": {
   "display_name": "Python 3 (ipykernel)",
   "language": "python",
   "name": "python3"
  },
  "language_info": {
   "codemirror_mode": {
    "name": "ipython",
    "version": 3
   },
   "file_extension": ".py",
   "mimetype": "text/x-python",
   "name": "python",
   "nbconvert_exporter": "python",
   "pygments_lexer": "ipython3",
   "version": "3.11.7"
  }
 },
 "nbformat": 4,
 "nbformat_minor": 1
}
