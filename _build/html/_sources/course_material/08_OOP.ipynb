{
 "cells": [
  {
   "cell_type": "markdown",
   "metadata": {
    "id": "1LP7Os7YcRHK"
   },
   "source": [
    "# Object Oriented Programming"
   ]
  },
  {
   "cell_type": "markdown",
   "metadata": {
    "id": "01l1i8VvdM7c"
   },
   "source": [
    "The terms - \"monolithic\", \"structural\", \"procedural\", and \"OOP\" - refer to different paradigms or approaches in software development.\n",
    "\n",
    "**1 . Monolithic:** Monolithic architecture is a traditional software development approach in which all the code is built as a single unit or module. This means that all the components of an application are tightly coupled together, making it difficult to modify and scale the application. Monolithic architecture is often used for small to medium-sized applications.\n",
    "\n",
    "**2 . Structural:** Structural programming is a programming paradigm in which the focus is on breaking down a program into smaller, manageable parts. This is achieved by dividing the program into functions or procedures, each of which performs a specific task. The functions or procedures are then called in a specific order to accomplish the overall task. Structural programming is typically used for large-scale applications.\n",
    "\n",
    "**3 . Procedural:** Procedural programming is a subset of structural programming in which the focus is on defining procedures that perform specific tasks. These procedures can be called from other parts of the program to accomplish the overall task. Procedural programming is often used for scientific and mathematical applications.\n",
    "\n",
    "**4. OOP (Object-Oriented Programming):** OOP is a programming paradigm that focuses on objects rather than functions or procedures. An object is an instance of a class, which is a template that defines the properties and behaviors of the object. OOP is designed to make it easier to write and maintain large-scale applications by providing encapsulation, inheritance, and polymorphism. OOP is widely used for developing modern software applications, including web and mobile applications.\n",
    "\n",
    "In summary, these terms represent different approaches to software development, with each having its strengths and weaknesses. Choosing the right approach depends on the specific requirements of the project.\n",
    "\n",
    "\n",
    "\n"
   ]
  },
  {
   "cell_type": "markdown",
   "metadata": {
    "id": "mysAP-iuiMcQ"
   },
   "source": [
    "\n",
    "\n",
    "## Features of OOP \n"
   ]
  },
  {
   "cell_type": "markdown",
   "metadata": {
    "id": "h6g9S56Tq6pV"
   },
   "source": [
    "![](../images/unit_8_01.png)"
   ]
  },
  {
   "cell_type": "markdown",
   "metadata": {
    "id": "9Dq7WoKDiTTP"
   },
   "source": [
    "![](../images/unit_8_02.png)"
   ]
  },
  {
   "cell_type": "markdown",
   "metadata": {
    "id": "mR83-PY1K4g9"
   },
   "source": [
    "**Class** : its a blueprint of how something is built, what are the components, etc. (blueprint of a house)\n",
    "\n",
    "**Object** : while “class” is blue print of the something, “object” is the actual instance of it. (physical house)."
   ]
  },
  {
   "cell_type": "code",
   "execution_count": null,
   "metadata": {
    "colab": {
     "base_uri": "https://localhost:8080/"
    },
    "id": "uDo0ZqK3mZNt",
    "outputId": "7e6a2028-8b6e-4f58-d35b-d826eb6f2041"
   },
   "outputs": [
    {
     "name": "stdout",
     "output_type": "stream",
     "text": [
      "Roll number :  101\n",
      "Name is :  Bob\n"
     ]
    }
   ],
   "source": [
    "class Student:   # creating class \n",
    "  Roll = 101\n",
    "  Name = 'Bob'   # Data member\n",
    "obj = Student()  # creating objet\n",
    "print('Roll number : ',obj.Roll)\n",
    "print('Name is : ',obj.Name)"
   ]
  },
  {
   "cell_type": "markdown",
   "metadata": {
    "id": "gs5NYBHZovI3"
   },
   "source": [
    "\n",
    "\n",
    "### The __init__() Method (Constructor)\n",
    "\n"
   ]
  },
  {
   "cell_type": "markdown",
   "metadata": {
    "id": "T_re4oxXpB-4"
   },
   "source": [
    "the **__init __** method is a special method that is called when an object is created from a class. It is commonly used to initialize the attributes of the object.\n",
    "\n",
    "The **__init __** method is defined using the double underscore syntax (**__init __**) and takes at least one argument, conventionally named self. The self argument refers to the instance of the class that is being created.\n",
    "\n",
    "Here is an example of a simple class that uses the **__init __** method to initialize its attributes:"
   ]
  },
  {
   "cell_type": "code",
   "execution_count": null,
   "metadata": {
    "colab": {
     "base_uri": "https://localhost:8080/"
    },
    "id": "eTogKwuFpWgo",
    "outputId": "e8d71394-5cda-44e7-d7e3-33fd97ed3eb6"
   },
   "outputs": [
    {
     "name": "stdout",
     "output_type": "stream",
     "text": [
      "Alice 25\n"
     ]
    }
   ],
   "source": [
    "class Person:\n",
    "    def __init__(self, name, age):   # __init__() \n",
    "        self.name = name\n",
    "        self.age = age\n",
    "person1 = Person(\"Alice\", 25)\n",
    "print(person1.name,person1.age)"
   ]
  },
  {
   "cell_type": "markdown",
   "metadata": {
    "id": "ARJMBTUArQMN"
   },
   "source": [
    "\n",
    "\n",
    "### Class Method and self Object\n",
    "\n"
   ]
  },
  {
   "cell_type": "markdown",
   "metadata": {
    "id": "z2S3SZWVsytt"
   },
   "source": [
    "A **class method** is a method that is bound to the class and not the instance of the class.\n",
    "\n",
    "On the other hand, **self** is a reference to the instance of the class. It is used to access the attributes and methods of the instance."
   ]
  },
  {
   "cell_type": "code",
   "execution_count": null,
   "metadata": {
    "colab": {
     "base_uri": "https://localhost:8080/"
    },
    "id": "vq_6hialsFH1",
    "outputId": "2dd97367-5d5a-4271-f788-f792510ce6a1"
   },
   "outputs": [
    {
     "name": "stdout",
     "output_type": "stream",
     "text": [
      "This is a apple. It is red in color and tastes sweet.\n"
     ]
    }
   ],
   "source": [
    "class Fruit:\n",
    "    def __init__(self, name, color, taste):  \n",
    "        self.name = name  \n",
    "        self.color = color\n",
    "        self.taste = taste\n",
    "\n",
    "    def describe(self):      # definition of class method\n",
    "        print(f\"This is a {self.name}. It is {self.color} in color and tastes {self.taste}.\")\n",
    "\n",
    "fruit = Fruit(\"apple\", \"red\", \"sweet\")\n",
    "fruit.describe()"
   ]
  },
  {
   "cell_type": "markdown",
   "metadata": {
    "id": "jZU32zzNtL6M"
   },
   "source": [
    "**class methods** are used to modify class-level attributes or perform some class-level operations, while **self** is used to access and modify instance-level attributes or perform some instance-level operations."
   ]
  },
  {
   "cell_type": "markdown",
   "metadata": {
    "id": "9DtDml9CLczG"
   },
   "source": [
    "\n",
    "\n",
    "### class variables and object variables\n",
    "\n"
   ]
  },
  {
   "cell_type": "markdown",
   "metadata": {
    "id": "LuZltn8JLvl3"
   },
   "source": [
    "A **class** is a blueprint or a template for creating objects, and object variables are the variables that are defined within the object. A **class variable**, on the other hand, is a variable that is shared by all instances of a class.\n",
    "\n",
    "**Object variables** are specific to the object they are defined in and can have different values for different instances of the class. These variables are also known as instance variables. Each object has its own copy of instance variables, and they can be accessed using the dot notation syntax with the object's name.\n",
    "\n",
    "For example:"
   ]
  },
  {
   "cell_type": "code",
   "execution_count": null,
   "metadata": {
    "colab": {
     "base_uri": "https://localhost:8080/"
    },
    "id": "cJXbesvMMAn6",
    "outputId": "4ce2626e-66d4-4d24-b412-01e5f130e856"
   },
   "outputs": [
    {
     "name": "stdout",
     "output_type": "stream",
     "text": [
      "John\n",
      "25\n"
     ]
    }
   ],
   "source": [
    "class Person:\n",
    "    def __init__(self, name, age):\n",
    "        self.name = name\n",
    "        self.age = age\n",
    "\n",
    "person1 = Person(\"John\", 30)\n",
    "person2 = Person(\"Jane\", 25)\n",
    "print(person1.name)  \n",
    "print(person2.age)  "
   ]
  },
  {
   "cell_type": "markdown",
   "metadata": {
    "id": "szARz-nJMK5C"
   },
   "source": [
    "In this example, **name** and **age** are object variables defined within the Person class. When we create **person1** and **person2** objects of the Person class, each object gets its own copy of these variables."
   ]
  },
  {
   "cell_type": "markdown",
   "metadata": {
    "id": "wJNiF16QM7hc"
   },
   "source": [
    "A **class variable**, on the other hand, is defined within the class, but outside of any method. Class variables are shared by all instances of the class and can be accessed using the class name. Here is an example:"
   ]
  },
  {
   "cell_type": "code",
   "execution_count": null,
   "metadata": {
    "colab": {
     "base_uri": "https://localhost:8080/"
    },
    "id": "HzhyEyteM-zJ",
    "outputId": "762a8b37-d6c5-441b-9293-bb876f3367de"
   },
   "outputs": [
    {
     "name": "stdout",
     "output_type": "stream",
     "text": [
      "78.5\n",
      "153.86\n",
      "3.14\n"
     ]
    }
   ],
   "source": [
    "class Circle:\n",
    "    pi = 3.14\n",
    "\n",
    "    def __init__(self, radius):\n",
    "        self.radius = radius\n",
    "\n",
    "    def get_area(self):\n",
    "        return Circle.pi * self.radius ** 2\n",
    "\n",
    "circle1 = Circle(5)\n",
    "circle2 = Circle(7)\n",
    "print(circle1.get_area())  # Output: 78.5\n",
    "print(circle2.get_area())  # Output: 153.86\n",
    "print(Circle.pi)  # Output: 3.14"
   ]
  },
  {
   "cell_type": "markdown",
   "metadata": {
    "id": "ZH8zkmTsNI1A"
   },
   "source": [
    "In this example, **pi** is a class variable defined within the Circle class. All instances of the Circle class can access this variable using **Circle.pi**."
   ]
  },
  {
   "cell_type": "markdown",
   "metadata": {
    "id": "ZdoxfoctksR0"
   },
   "source": [
    "![](../images/unit_8_03.png)"
   ]
  },
  {
   "cell_type": "markdown",
   "metadata": {
    "id": "3v2YQGx6Niuk"
   },
   "source": [
    "\n",
    "\n",
    "### public and private members\n",
    "\n"
   ]
  },
  {
   "cell_type": "markdown",
   "metadata": {
    "id": "3LhQdDmFNuGQ"
   },
   "source": [
    "#### 1 . Public Members\n",
    "\n",
    "Public members are accessible to anyone who has an instance of the class. This means that the data and methods declared as public can be accessed and modified by code outside the class. This makes public members useful for things like getters and setters that are designed to provide external access to private data members, or for methods that need to be called by other classes."
   ]
  },
  {
   "cell_type": "markdown",
   "metadata": {},
   "source": [
    "#### 2 . Private Members\n",
    "\n",
    "Private members, on the other hand, are only accessible within the class itself. This means that the data and methods declared as private can only be accessed and modified by the class itself, and not by code outside the class. This makes private members useful for encapsulating the internal state of the object, as they cannot be modified or accessed by other classes or code outside the class.\n",
    "\n",
    "For example:"
   ]
  },
  {
   "cell_type": "code",
   "execution_count": null,
   "metadata": {
    "id": "OJd8Q_gMOM5B"
   },
   "outputs": [],
   "source": [
    "class Person:\n",
    "    def __init__(self, name, age):\n",
    "        self.name = name  # (public member)\n",
    "        self.__age = age  # (private member with __(underscore) )\n",
    "        \n",
    "    def get_age(self):\n",
    "        return self.__age\n",
    "        \n",
    "    def set_age(self, age):\n",
    "        self.__age = age"
   ]
  },
  {
   "cell_type": "markdown",
   "metadata": {
    "id": "9hxcmyJOOqhV"
   },
   "source": [
    "In this example, we have defined a Person class that has two data members: **name** and **__age**. The **name** member is public, while the **__age** member is private.\n",
    "\n",
    "We have also defined two methods **get_age()** and **set_age()** that allow external code to access and modify the **__age** member. These methods provide a controlled way of accessing and modifying the private data member **__age**.\n",
    "\n",
    "Here's an example of how we can create an instance of the **Person** class and use its public and private members:"
   ]
  },
  {
   "cell_type": "code",
   "execution_count": null,
   "metadata": {
    "colab": {
     "base_uri": "https://localhost:8080/"
    },
    "id": "s37QI5aoO_f6",
    "outputId": "adcc2a04-688d-447d-f3ce-218833250130"
   },
   "outputs": [
    {
     "name": "stdout",
     "output_type": "stream",
     "text": [
      "John\n",
      "30\n",
      "35\n"
     ]
    }
   ],
   "source": [
    "person = Person(\"John\", 30)\n",
    "\n",
    "print(person.name) # Output: John\n",
    "\n",
    "# Accessing the private member directly would result in an AttributeError\n",
    "# print(person.__age)\n",
    "\n",
    "# Instead, we can use the get_age() method to access the private member\n",
    "print(person.get_age()) # Output: 30\n",
    "\n",
    "# We can use the set_age() method to modify the private member\n",
    "person.set_age(35)\n",
    "print(person.get_age()) # Output: 35\n"
   ]
  },
  {
   "cell_type": "markdown",
   "metadata": {
    "id": "T0DSVMKkPTFI"
   },
   "source": [
    "\n",
    "\n",
    "### Class Methods\n",
    "\n",
    "In object-oriented programming, a class method is a method that is bound to the class and not the instance of the class. This means that class methods can be called on the class itself, rather than on an instance of the class.\n"
   ]
  },
  {
   "cell_type": "markdown",
   "metadata": {
    "id": "EsR6vOG_Rjoe"
   },
   "source": [
    "To define a class method in Python, we use the **@classmethod** decorator before the method definition. The first argument of a class method is always a reference to the class itself, conventionally named **cls**.\n",
    "\n",
    "Here's an example of a simple class method in Python:"
   ]
  },
  {
   "cell_type": "code",
   "execution_count": null,
   "metadata": {
    "id": "jUqHAFp_RqEU"
   },
   "outputs": [],
   "source": [
    "class MyClass:\n",
    "    x = 0\n",
    "\n",
    "    @classmethod\n",
    "    def increment_x(cls):\n",
    "        cls.x += 1"
   ]
  },
  {
   "cell_type": "markdown",
   "metadata": {
    "id": "TyHKcY1TRtQo"
   },
   "source": [
    "In this example, we have defined a **MyClass** class with a class variable x and a class method **increment_x()**. The **increment_x()** method takes the class itself as its first argument **cls**, and increments the value of the class variable **x** by 1.\n",
    "\n",
    "We can call the **increment_x()** method on the class itself, like this:"
   ]
  },
  {
   "cell_type": "code",
   "execution_count": null,
   "metadata": {
    "colab": {
     "base_uri": "https://localhost:8080/"
    },
    "id": "Lq58EzDRRstG",
    "outputId": "f7549061-f631-404a-de32-ab26af18da2a"
   },
   "outputs": [
    {
     "name": "stdout",
     "output_type": "stream",
     "text": [
      "0\n",
      "1\n"
     ]
    }
   ],
   "source": [
    "print(MyClass.x) # Output: 0\n",
    "\n",
    "MyClass.increment_x()\n",
    "\n",
    "print(MyClass.x) # Output: 1"
   ]
  },
  {
   "cell_type": "markdown",
   "metadata": {
    "id": "m2PYakZqR-sa"
   },
   "source": [
    "In this example, we can see that we can call the **increment_x()** method on the **MyClass** class itself, rather than on an instance of the class. This allows us to modify the class variable **x** directly, without needing to create an instance of the class first.\n",
    "\n",
    "**Class methods** are often used to implement factory methods or other utility functions that operate on the class as a whole, rather than on individual instances of the class. They can also be useful for initializing or modifying class-level state, or for providing alternative constructors for the class."
   ]
  },
  {
   "cell_type": "markdown",
   "metadata": {
    "id": "B3cEQtZfjrRg"
   },
   "source": [
    "## Inheritance\n",
    "In object-oriented programming (OOP) inheritance is used to create a hierarchy of classes where a child class (also known as a subclass) inherits attributes and methods from its parent class (also known as a superclass).\n",
    "\n",
    "To define a subclass in Python, you use the class keyword followed by the name of the subclass, and in parentheses, the name of the superclass that you want to inherit from. Here is an example:"
   ]
  },
  {
   "cell_type": "markdown",
   "metadata": {
    "id": "zD_SPzF_zPnO"
   },
   "source": [
    "![](../images/unit_8_04.jpg)"
   ]
  },
  {
   "cell_type": "code",
   "execution_count": null,
   "metadata": {
    "colab": {
     "base_uri": "https://localhost:8080/"
    },
    "id": "0fLjw7txgnvh",
    "outputId": "cf1e2ff4-06b0-432c-e306-73000741e5d0"
   },
   "outputs": [
    {
     "name": "stdout",
     "output_type": "stream",
     "text": [
      "This is my Audi\n",
      "Color of car is black\n",
      "Price of car is 50 lacks\n"
     ]
    }
   ],
   "source": [
    "class Vehicle:\n",
    "    def __init__(self, car):\n",
    "        self.car = car\n",
    "        \n",
    "    def my_car(self):\n",
    "        print('This is my', self.car)\n",
    "\n",
    "class Transport(Vehicle):\n",
    "    def __init__(self, car, color, price):\n",
    "        super().__init__(car)\n",
    "        self.color = color\n",
    "        self.price = price\n",
    "\n",
    "    def my_car(self):\n",
    "        super().my_car()\n",
    "        print('Color of car is', self.color)\n",
    "        print('Price of car is', self.price)\n",
    "\n",
    "s=Transport('Audi','black','50 lacks')\n",
    "s.my_car()\n",
    "\n",
    "#output:\n",
    "# This is my Audi\n",
    "# Color of car is black\n",
    "# Price of car is 50 lacks"
   ]
  },
  {
   "cell_type": "markdown",
   "metadata": {
    "id": "_qgdNrwMf_O2"
   },
   "source": [
    "## Polymarphism\n",
    "Polymorphism is the ability of an object exist in many forms or shapes. Polymorphism allows different types of objects to be used interchangeably. This means that different classes can define methods with the same name or signature, and they can be called in a similar way regardless of the specific class instance that is used.\n",
    "\n",
    "Here is an example:"
   ]
  },
  {
   "cell_type": "markdown",
   "metadata": {
    "id": "jy8MFsbK1KgH"
   },
   "source": [
    "![](../images/unit_8_05.jpg)"
   ]
  },
  {
   "cell_type": "code",
   "execution_count": null,
   "metadata": {
    "colab": {
     "base_uri": "https://localhost:8080/"
    },
    "id": "Ucmk94Jli90o",
    "outputId": "2ead3636-0b96-47b7-8d02-119bcb1c287d"
   },
   "outputs": [
    {
     "name": "stdout",
     "output_type": "stream",
     "text": [
      "Woof!\n",
      "Meow!\n"
     ]
    }
   ],
   "source": [
    "class Animal:\n",
    "    def make_sound(self):\n",
    "        pass\n",
    "\n",
    "class Dog(Animal):\n",
    "    def make_sound(self):\n",
    "        print(\"Woof!\")\n",
    "\n",
    "class Cat(Animal):\n",
    "    def make_sound(self):\n",
    "        print(\"Meow!\")\n",
    "\n",
    "def animal_sound(animal):\n",
    "    animal.make_sound()\n",
    "\n",
    "dog = Dog()\n",
    "cat = Cat()\n",
    "\n",
    "animal_sound(dog) # Woof!\n",
    "animal_sound(cat) # Meow!\n",
    "\n"
   ]
  },
  {
   "cell_type": "markdown",
   "metadata": {
    "id": "N3PqTBbjntaF"
   },
   "source": [
    "## Abstraction\n",
    "Abstraction allows us to focus on the essential features of an object while ignoring the implementation details. Abstraction can be achieved through the use of abstract classes and abstract methods. An abstract class is a class that cannot be instantiated directly and serves as a template for other classes to inherit from.  An abstract class can contain abstract methods, which are methods that have no implementation and must be defined by any concrete subclass."
   ]
  },
  {
   "cell_type": "markdown",
   "metadata": {
    "id": "DxaWZzCmnmfM"
   },
   "source": [
    "Real life example : we hide details in ATM\n",
    "\n",
    "![](../images/unit_8_06.png)"
   ]
  },
  {
   "cell_type": "code",
   "execution_count": null,
   "metadata": {
    "colab": {
     "base_uri": "https://localhost:8080/"
    },
    "id": "CrT6Xto4g0Sr",
    "outputId": "e13bd3b2-c835-4ea3-fa10-c7d9b3a12c62"
   },
   "outputs": [
    {
     "name": "stdout",
     "output_type": "stream",
     "text": [
      "200\n"
     ]
    }
   ],
   "source": [
    "import abc\n",
    "\n",
    "class Shape(metaclass=abc.ABCMeta):\n",
    "    @abc.abstractmethod\n",
    "    def area(self):\n",
    "        pass\n",
    "\n",
    "class Rectangle(Shape):\n",
    "    def __init__(self, width, height):\n",
    "        self.width = width\n",
    "        self.height = height\n",
    "\n",
    "    def area(self):\n",
    "        return self.width * self.height\n",
    "rect = Rectangle(10, 20)\n",
    "print(rect.area())  # Output: 200\n"
   ]
  },
  {
   "cell_type": "markdown",
   "metadata": {
    "id": "U_JPqldNpJhW"
   },
   "source": [
    "## Encapsulation\n",
    "Encapsulation describes the idea of wrapping data and the methods that work on data within one unit. This puts restrictions on accessing variables and methods directly and can prevent the accidental modification of data. To prevent accidental change, an object’s variable can only be changed by an object’s method. Those types of variables are known as private variables.\n",
    "\n",
    "Encapsulation can be achieved in Python by making the object's attributes private, which means they can only be accessed and modified by the object's methods. This is done by prefixing the attribute name with a double underscore \"__\". For example, if we have a class named \"Person\" with a private attribute named \"name\", we can access and modify it only through the class methods."
   ]
  },
  {
   "cell_type": "markdown",
   "metadata": {
    "id": "Hv2gxKpToLd8"
   },
   "source": [
    "![](../images/unit_8_07.png)"
   ]
  },
  {
   "cell_type": "code",
   "execution_count": null,
   "metadata": {
    "colab": {
     "base_uri": "https://localhost:8080/"
    },
    "id": "VT6tV5BwolXf",
    "outputId": "83ca2741-5fd1-4323-9282-a558a13e265d"
   },
   "outputs": [
    {
     "name": "stdout",
     "output_type": "stream",
     "text": [
      "John\n",
      "Mike\n"
     ]
    }
   ],
   "source": [
    "class Person:\n",
    "    def __init__(self, name):\n",
    "        self.__name = name\n",
    "\n",
    "    def get_name(self):\n",
    "        return self.__name\n",
    "\n",
    "    def set_name(self, name):\n",
    "        self.__name = name\n",
    "\n",
    "p = Person(\"John\")\n",
    "print(p.get_name())  # Output: \"John\"\n",
    "p.set_name(\"Mike\")\n",
    "print(p.get_name())  # Output: \"Mike\"\n",
    "# print(p.__name)      # This will give an AttributeError: 'Person' object has no attribute '__name'\n"
   ]
  },
  {
   "cell_type": "markdown",
   "metadata": {
    "id": "hGuHMDhN3_ag"
   },
   "source": [
    "## Practice Questions\n",
    "\n",
    "\n",
    "\n",
    "### Difficulty Level : Easy"
   ]
  },
  {
   "cell_type": "markdown",
   "metadata": {
    "id": "ZZMtBEe24RH6"
   },
   "source": [
    "Q. Create a class named `Display_Info` that has 4 instance variables : `name, age, hobby and favourite_colour` and a method display that displays the instance variables in the same order. Also, make sure to display a message : **Object Created Successfully!** whenever an object is created.\n",
    "\n",
    "**Example :**\n",
    "\n",
    "class Display_Info():\n",
    "    ### your code here\n",
    "\n",
    "di1 = Display_Info('Ai Adventures',35,'Drawing','Red')\n",
    "\n",
    "di1.display()\n",
    ">>> Object Created Successfully!\n",
    "\n",
    "Name of the Person :  Ai Adventures\n",
    "\n",
    "Age of the Person :  35\n",
    "\n",
    "Hobby of the Person :  Drawing\n",
    "\n",
    "Favourite Colour of the Person :  Red"
   ]
  },
  {
   "cell_type": "code",
   "execution_count": null,
   "metadata": {
    "id": "03T8DwQy5Dbe"
   },
   "outputs": [],
   "source": [
    "## your code ##"
   ]
  },
  {
   "cell_type": "markdown",
   "metadata": {
    "id": "curBdPGV4sjd"
   },
   "source": [
    "Q. Create a class named `Circle` that has a constructor variable `radius` and 2 methods that calculate the `area` and the `perimeter` of the circle.\n",
    "\n",
    "**Example :**\n",
    "\n",
    "class Circle():\n",
    "    ### your code here\n",
    "\n",
    "c1 = Circle(8)\n",
    "\n",
    "c1.area()\n",
    ">>> 'Area of the Circle :  200.96'\n",
    "\n",
    "c2 = Circle(17)\n",
    "\n",
    "c2.perimeter()\n",
    ">>> 'Perimeter of the Circle :  106.76'"
   ]
  },
  {
   "cell_type": "code",
   "execution_count": null,
   "metadata": {
    "id": "PF9nXujU5HG8"
   },
   "outputs": [],
   "source": [
    "## your code ##"
   ]
  },
  {
   "cell_type": "markdown",
   "metadata": {
    "id": "pZvBnTpY5Jqz"
   },
   "source": [
    "Q. Create a class named `marks_calculation` that has no constructor and no instance variables but has a method named `percentage` that takes input from the user for marks out of 100 for 5 subjects : `['English','Geometry','History','Science','Geography'] `and stores them inside a dictionary with subject names as keys and marks as values. It is then stored as an instance variable `marks`, display this variable alongwith the percentage of the marks.\n",
    "\n",
    "class marks_calculation():\n",
    "    ### your code here\n",
    "\n",
    "m1 = marks_calculation()\n",
    "\n",
    "m1.percentage()\n",
    ">>> Enter the marks for English out of 100 : 90\n",
    "\n",
    "Enter the marks for Geometry out of 100 : 80\n",
    "\n",
    "Enter the marks for History out of 100 : 70\n",
    "\n",
    "Enter the marks for Science out of 100 : 60\n",
    "\n",
    "Enter the marks for Geography out of 100 : 50\n",
    "\n",
    "Percentage :  70.0\n",
    "\n",
    "m1.marks\n",
    ">>> {'English': 90, 'Geometry': 80, 'History': 70, 'Science': 60, 'Geography': 50}"
   ]
  },
  {
   "cell_type": "code",
   "execution_count": null,
   "metadata": {
    "id": "D798v2eFAdDZ"
   },
   "outputs": [],
   "source": [
    "## your code ##"
   ]
  },
  {
   "cell_type": "markdown",
   "metadata": {
    "id": "ucxPCY575okc"
   },
   "source": [
    "Q. Create a class named `BankAccount` that contains 2 initialization variables `balance` and `min_balance = 1000`. Value for `balance` variable is passed during object creation whereas `min_balance` is already defined inside the constructor. It should also contain 2 methods `withdraw()` and `deposit()` that takes an argument to add or reduce the balance. Account should maintain `min_balance` and should not drop the `balance` below it. Display the `balance` and appropriate messages after evey withdrawal and deposit.\n",
    "\n",
    "**Example :**\n",
    "\n",
    "class BankAccount():\n",
    "    ### your code here\n",
    "\n",
    "b1 = BankAccount(3000)\n",
    "\n",
    "b1.withdraw(2000)\n",
    ">>> Withdrawal successful!\n",
    "New Account Balance : ₹ 1000\n",
    "\n",
    "b1.withdraw(500)\n",
    ">>> Withdrawal denied! Cannot let balance cross the min_balance limit!\n",
    "Account balance if this withdrawal is allowed : ₹ 500\n",
    "\n",
    "b1.deposit(1000)\n",
    ">>> Deposit successful!\n",
    "New Account Balance : ₹ 2000\n"
   ]
  },
  {
   "cell_type": "code",
   "execution_count": null,
   "metadata": {
    "id": "JXjKG4TN5j6J"
   },
   "outputs": [],
   "source": [
    "## your code ##"
   ]
  },
  {
   "cell_type": "markdown",
   "metadata": {
    "id": "Np5Bjyqp8K5i"
   },
   "source": [
    "Q. Create a class called `Animal` with attributes `name` and \"species\", and a method called `make_sound()` that prints a generic sound. Create a subclass called `Dog` that inherits from the `Animal` class and overrides the `make_sound()` method to print the sound `Woof!`. Create an object of the `Dog` class and call its `make_sound()` method."
   ]
  },
  {
   "cell_type": "code",
   "execution_count": null,
   "metadata": {
    "id": "6dR_BLx78noN"
   },
   "outputs": [],
   "source": [
    "## your code ##"
   ]
  },
  {
   "cell_type": "markdown",
   "metadata": {
    "id": "Lxt1C4AK6QrY"
   },
   "source": [
    "### Difficulty Level : Medium"
   ]
  },
  {
   "cell_type": "markdown",
   "metadata": {
    "id": "SKtHYZB16USw"
   },
   "source": [
    "Q. Create a class named `Point` that consists of 2 constructor variables `x` and `y`, 9 **Dunder** or **Magic** methods and a `length` method to carry out a varied range of operations assuming the constructor variables as x co-ordinate and y co-ordinate of a point respectively. Constructor of the class `Point` should display a message :** Point (x,y) created!** as well.\n",
    "\n",
    "List of **Dunder** or **Magic** methods : [addition, subtraction, multiplication, true division, greater than, greater than equal to, less than, less than equal to, equal to equal to]\n",
    "\n",
    "**Note** : Google about **Dunder** or **Magic** methods.\n",
    "\n",
    "**Example :**\n",
    "\n",
    "class Point:\n",
    "    ### your code here\n",
    "\n",
    "\n",
    "\n",
    "```\n",
    "p1 = Point(10,5)\n",
    "\n",
    "p2 = Point(5,10)\n",
    "```\n",
    "\n",
    "\n",
    "\n",
    "\n",
    "print(p1 + p2)\n",
    "\n",
    "print(p1 - p2)\n",
    "\n",
    "print(p1 * p2)\n",
    "\n",
    "print(p1 / p2)\n",
    "\n",
    "print(p1 > p2)\n",
    "\n",
    "print(p1 >= p2)\n",
    "\n",
    "print(p1 < p2)\n",
    "\n",
    "print(p1 <= p2)\n",
    "\n",
    "print(p1 == p2)\n",
    "\n",
    ">>>  output:\n",
    "\n",
    "Point (10,5) created!\n",
    "\n",
    "Point (5,10) created!\n",
    "\n",
    "(15, 15)\n",
    "\n",
    "(5, -5)\n",
    "\n",
    "100\n",
    "\n",
    "(2.0, 0.5)\n",
    "\n",
    "False\n",
    "\n",
    "True\n",
    "\n",
    "False\n",
    "\n",
    "True\n",
    "\n",
    "False\n"
   ]
  },
  {
   "cell_type": "code",
   "execution_count": null,
   "metadata": {
    "id": "nqiOQ-7C6QM8"
   },
   "outputs": [],
   "source": [
    "## your code ##"
   ]
  },
  {
   "cell_type": "markdown",
   "metadata": {
    "id": "lSlipKG87O_5"
   },
   "source": [
    "Q. Create a class named `Course` that has 1 default value constructor variable `course = 'Machine Learning'` and a method `average_score` that takes marks from the user for 5 tests, assigns it to a new constructor variable `scores` and calculates the average score of these marks. Create another class named `student` which has 2 instance variables `name` and `age` and inherits the `Course` class. It also contains a method `display_info` that displays a message using the attributes of `Course` class and `student` class, it also displays the average score using the `average_score` method of the `Course` class.\n",
    "\n",
    "**Note** : Try using super keyword and without using super keyword.\n",
    "\n",
    "**Example :**\n",
    "\n",
    "class Course:\n",
    "    ### your code here\n",
    "\n",
    "s1 = student('Aiadventures',35)\n",
    "\n",
    "s1.display_info()\n",
    "\n",
    ">>> Output :\n",
    "\n",
    "Aiadventures, age 35, has enrolled in Machine Learning course!\n",
    "\n",
    "Enter the marks scored out of 10 : 8 9 7 10 6\n",
    "\n",
    "Average Score of Aiadventures in Machine Learning course :  8.0"
   ]
  },
  {
   "cell_type": "markdown",
   "metadata": {
    "id": "HwoyUQ5Q8q68"
   },
   "source": [
    "### Difficulty Level : Hard"
   ]
  },
  {
   "cell_type": "markdown",
   "metadata": {
    "id": "85RPN5Ad_OHM"
   },
   "source": [
    "Q. Create an abstract class called `Employee` with abstract methods `get_salary()` and `display_info()`. Define two subclasses, `Manager` and `Developer`, that inherit from the `Employee` class. Implement the `get_salary()` and `display_info()` methods in each subclass to calculate and return the salary of a manager or a developer, and display their information, respectively. Create objects of the `Manager` and `Developer` classes and call their `get_salary()` and `display_info()` methods.\n",
    "\n",
    "from abc import ABC, abstractmethod\n",
    "\n",
    "class Employee(ABC):\n",
    "    ### Your code\n",
    "\n",
    "manager = Manager(\"John Doe\", 40, 5000, 1000)\n",
    "\n",
    "developer = Developer(\"Jane Smith\", 30, 50, 160)\n",
    "\n",
    "manager.display_info()\n",
    "\n",
    "developer.display_info()\n",
    ">>>Name: John Doe\n",
    "\n",
    "Age: 40\n",
    "\n",
    "Salary: 6000\n",
    "\n",
    "Name: Jane Smith\n",
    "\n",
    "Age: 30\n",
    "\n",
    "Salary: 8000"
   ]
  },
  {
   "cell_type": "code",
   "execution_count": null,
   "metadata": {
    "id": "uXA1NWY6_MCY"
   },
   "outputs": [],
   "source": [
    "## your code ##"
   ]
  },
  {
   "cell_type": "markdown",
   "metadata": {
    "id": "QoBN6Tf382Kz"
   },
   "source": [
    "Q. Create a program that mimics a real-life **SUPEROVER** in cricket by creating a class named `Team_Performance` having no constructor but 3 constructor variables : `team = {}`, `runs = []` and `wickets = 0` defined in the only method `play` of the class. `play` is responsible for generating the scorecard and storing it inside `team`, runs and wickets are stored inside `runs` and `wickets` respectively. Another class named `Superover` inherits class `Team_Performance` that contains a constructor with 2 instance variables : `team1` and `team2` and displays a message **\"Let's begin the Superover between team1 and team2!\"** whenever an object is created. It also contains a method `begin` that calls the `play` method twice, stores the scorecard, runs and wickets information for both the teams and displays the final ouput.\n",
    "\n",
    "**Note :** Runs are calculated using random.randint(0,6) from random module.\n",
    "\n",
    "**Note :** You will have to create new variables inside `begin` method. The aim of this question is to learn about the structure of code as well as deciding the number of variables and their usage.\n",
    "\n",
    "**Note :** 0 is considered as wicket and 5 as run is not accepted.\n",
    "\n",
    "**Example :**\n",
    "\n",
    "class Team_Performance:\n",
    "    ### your code here\n",
    "\n",
    "match = Superover('A','B')\n",
    "match.begin()\n",
    "\n",
    ">>> Let's begin the Superover between A and B!\n",
    "\n",
    "Performance of A : {'B1': 4, 'B2': 4, 'B3': 4, 'B4': 1, 'B5': 1, 'B6': 2}\n",
    "\n",
    "Performance of B : {'B1': 2, 'B2': 3, 'B3': 2, 'B4': 6, 'B5': 0, 'B6': 2}\n",
    "\n",
    "Scorecard of A : 16 / 0\n",
    "\n",
    "Scorecard of B : 15 / 1\n",
    "\n",
    "A wins by 1 runs!\n",
    "\n",
    ">>> Let's begin the Superover between A and B!\n",
    "\n",
    "Performance of A : {'B1': 6, 'B2': 1, 'B3': 0, 'B4': 1, 'B5': 1, 'B6': 6} \n",
    "\n",
    "Performance of B : {'B1': 4, 'B2': 1, 'B3': 0, 'B4': 6, 'B5': 3, 'B6': 2}\n",
    "\n",
    "Scorecard of A : 15 / 1\n",
    "\n",
    "Scorecard of B : 16 / 1\n",
    "\n",
    "B wins by 1 runs!\n",
    "\n",
    ">>> Let's begin the Superover between A and B!\n",
    "\n",
    "Performance of A : {'B1': 1, 'B2': 1, 'B3': 4, 'B4': 0, 'B5': 3, 'B6': 6}\n",
    "\n",
    "Performance of B : {'B1': 4, 'B2': 0, 'B3': 2, 'B4': 1, 'B5': 2, 'B6': 6}\n",
    "\n",
    "Scorecard of A : 15 / 1\n",
    "\n",
    "Scorecard of B : 15 / 1\n",
    "\n",
    "Its a Draw!"
   ]
  },
  {
   "cell_type": "code",
   "execution_count": null,
   "metadata": {},
   "outputs": [],
   "source": [
    "## your code ##"
   ]
  }
 ],
 "metadata": {
  "colab": {
   "provenance": []
  },
  "kernelspec": {
   "display_name": "Python 3 (ipykernel)",
   "language": "python",
   "name": "python3"
  },
  "language_info": {
   "codemirror_mode": {
    "name": "ipython",
    "version": 3
   },
   "file_extension": ".py",
   "mimetype": "text/x-python",
   "name": "python",
   "nbconvert_exporter": "python",
   "pygments_lexer": "ipython3",
   "version": "3.9.7"
  }
 },
 "nbformat": 4,
 "nbformat_minor": 1
}
