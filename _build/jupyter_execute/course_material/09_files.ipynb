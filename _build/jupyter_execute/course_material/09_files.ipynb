{
 "cells": [
  {
   "cell_type": "markdown",
   "metadata": {
    "id": "shCigjmEUmRF"
   },
   "source": [
    "\n",
    "\n",
    "# File Handling\n",
    "\n"
   ]
  },
  {
   "cell_type": "markdown",
   "metadata": {
    "id": "WOC_3R0PZnnf"
   },
   "source": [
    "Python Variables are good to store data while your program is running, but if you want your data to persist even after your program has finished, you need to save it to a file. You can think of a file’s contents as a single string value. In this chapter, you will learn how to use Python to create, read, and save files on the hard drive.\n",
    "\n",
    "Before we can work with files, we need to learn what file paths are. So, lets dive in …"
   ]
  },
  {
   "cell_type": "markdown",
   "metadata": {
    "id": "I2oP02MMVjQo"
   },
   "source": [
    "![](../images/unit_9_01.png)"
   ]
  },
  {
   "cell_type": "markdown",
   "metadata": {
    "id": "PLlrXxCjZt-2"
   },
   "source": [
    "\n",
    "\n",
    "\n",
    "### File Paths\n",
    "\n",
    "\n",
    "\n",
    "Every file in your computer is stored in a particular location. Lets say, you save all your photos in F:drive inside photos folder. This is the location where you will find all your photos. This is how you organise your files and remember the locations.\n",
    "\n",
    "The file path is a string that specifies the location of a file on the computer. It has three major parts:\n",
    "\n",
    "**Folder Path**: the file folder location on the file system where subsequent folders are separated by a forward slash (in Unix) or backslash (in Windows)\n",
    "\n",
    "**File Name:** the actual name of the file\n",
    "\n",
    "**Extension:** the end of the file path pre-pended with a period ( . ) used to indicate the file type.\n",
    "\n",
    "For example, you have a photo called ‘random.png’ in the path F:\\photos"
   ]
  },
  {
   "cell_type": "markdown",
   "metadata": {
    "id": "HlrjhvVXaCow"
   },
   "source": [
    "![](../images/unit_9_02.png)"
   ]
  },
  {
   "cell_type": "markdown",
   "metadata": {
    "id": "tUE5JArwexNA"
   },
   "source": [
    "### The Current Working Directory \n",
    "\n",
    "Every program that runs on your computer has a current working directory, or cwd. Any filenames or paths that do not begin with the root folder are assumed to be under the current working directory. You can get the current working directory as a string value with the **os.getcwd()** function."
   ]
  },
  {
   "cell_type": "markdown",
   "metadata": {
    "id": "WvlZbV9ce-9x"
   },
   "source": [
    "```{note}\n",
    "\n",
    "You see two backslashs instead of one, because one is used an escape character and the other is the actual separator. You can read more about escape characters [https://www.w3schools.com/python/gloss_python_escape_characters.asp](https://)\n",
    "\n",
    "You can change the current working directory with **os.chdir()**.\n",
    "```"
   ]
  },
  {
   "cell_type": "markdown",
   "metadata": {
    "id": "HsZrNFUyaSAD"
   },
   "source": [
    "\n",
    "\n",
    "### Relative Path and Absolute Path :**\n",
    "\n",
    "#### 1 . Relative Path \n",
    "\n",
    "A relative path is a path that is relative to the current working directory. In other words, it specifies the location of a file or directory relative to the current directory. Relative paths are often used when referring to files or directories within the same project or directory structure.\n",
    "Here's an example of a relative file path:\n",
    "\n",
    "\n",
    "\n",
    "```\n",
    "./data/myfile.txt\n",
    "```\n",
    "\n",
    "\n",
    "This path specifies that the file **myfile.txt** is located in a subdirectory called **data** that is located in the current working directory. The **\" . \"** in the path represents the current working directory.\n",
    "\n"
   ]
  },
  {
   "cell_type": "markdown",
   "metadata": {
    "id": "AtzZ1lZ6bAWt"
   },
   "source": [
    "#### 2 . Absolute Paths\n",
    "\n",
    "An absolute path is a path that specifies the exact location of a file or directory on the file system. Absolute paths are often used when referring to files or directories outside of the current directory structure.\n",
    "Here's an example of an absolute file path:\n",
    "\n",
    "\n",
    "\n",
    "```\n",
    "/home/user/documents/myfile.txt\n",
    "\n",
    "```\n",
    "\n",
    "This path specifies that the file **myfile.txt** is located in the **documents** directory, which is located in the **user** directory, which is located in the **home** directory. The path starts from the root directory **\" / \"**."
   ]
  },
  {
   "cell_type": "markdown",
   "metadata": {
    "id": "sr9OiLAzik7g"
   },
   "source": [
    "![](../images/unit_9_03.png)"
   ]
  },
  {
   "cell_type": "markdown",
   "metadata": {
    "id": "lPn-ZMf1g0FQ"
   },
   "source": [
    "\n",
    "\n",
    "## Types of Files\n",
    "\n",
    "There are two types of files: binary and text files.\n",
    "\n",
    " \n",
    "\n",
    "*  Binary files are files that contain data in a format that is not human-readable.\n",
    "*   Text files, on the other hand, contain data that is human-readable, such as plain text or data in a structured format like CSV or JSON. \n",
    "\n",
    " \n",
    "\n"
   ]
  },
  {
   "cell_type": "markdown",
   "metadata": {
    "id": "vv1Y940LhCQ2"
   },
   "source": [
    "![](../images/unit_9_04.png)"
   ]
  },
  {
   "cell_type": "markdown",
   "metadata": {
    "id": "-wChahiNjIA5"
   },
   "source": [
    "\n",
    "\n",
    "## File Methods / Operations\n",
    "\n"
   ]
  },
  {
   "cell_type": "markdown",
   "metadata": {
    "id": "7-pqjNBK6u-y"
   },
   "source": [
    "![](../images/unit_9_05.png)"
   ]
  },
  {
   "cell_type": "markdown",
   "metadata": {
    "id": "2mLh7gxAjWIC"
   },
   "source": [
    "### 1 . open() function"
   ]
  },
  {
   "cell_type": "markdown",
   "metadata": {
    "id": "EU0cpl_9jzbW"
   },
   "source": [
    "To open a file with the **open()** function, you pass it a string path indicating the path of the file you want to open; it can be either an absolute or relative path. The **open()** function returns a File object.\n",
    "\n",
    "Before we can read a file, we will have to create it.\n",
    "\n",
    "Check your current working directory **(cwd)**.\n",
    "\n",
    "Create a new text file named sample.txt in your current working directory.\n",
    "\n",
    "Open sample.txt and write some random text in it.\n",
    "\n",
    "Save the changes and close the file.\n",
    "\n",
    "Lets try to open sample.txt. The file path can be written as sample.txt.\n",
    "\n",
    "```\n",
    "{note} The path might be different, if you have created the file in some other directory.\n",
    "```"
   ]
  },
  {
   "cell_type": "code",
   "execution_count": null,
   "metadata": {
    "id": "fOkHXEuoa8lF"
   },
   "outputs": [],
   "source": [
    "f = open('/content/sample.txt')"
   ]
  },
  {
   "cell_type": "markdown",
   "metadata": {
    "id": "bFVm_EWgytzN"
   },
   "source": [
    "The above command will open the file in read mode. When a file is opened in read mode, Python lets you only read data from the file; you can’t write or modify it in any way. Read mode is the default mode for files you open in Python.\n",
    "\n",
    "The call to **open()** returns a File object / File descriptor. A **File object** represents a file on your computer; it is simply another type of value in Python, much like the lists and dictionaries you’re already familiar with. File object can be thought of as a “read/write pointer” and you can also perform operations like moving the “read/write pointer”, which determines where in the file data is read from and where it is written to.\n",
    "\n",
    "In the previous example, we stored the File object in the variable f. Now, whenever you want to interact with the file, you can do so by calling methods on the File object in variable f."
   ]
  },
  {
   "cell_type": "markdown",
   "metadata": {
    "id": "bNXITk9Gy66F"
   },
   "source": [
    "\n",
    "\n",
    "### read() function\n",
    "\n"
   ]
  },
  {
   "cell_type": "markdown",
   "metadata": {
    "id": "FkW2Mvr3zDt8"
   },
   "source": [
    "If you want to read the entire contents of a file as a string value, use the File object’s **read()** method."
   ]
  },
  {
   "cell_type": "code",
   "execution_count": null,
   "metadata": {
    "colab": {
     "base_uri": "https://localhost:8080/",
     "height": 90
    },
    "id": "fWlSG3ORyY35",
    "outputId": "fe327112-96f2-4046-c741-e605ff91bd9d"
   },
   "outputs": [
    {
     "data": {
      "application/vnd.google.colaboratory.intrinsic+json": {
       "type": "string"
      },
      "text/plain": [
       "\"India has emerged as a major hub for IT companies, with a booming technology industry that has made significant contributions to the global IT sector. The country is home to a large number of IT companies, including some of the world's largest and most successful firms.\\nSome of the biggest IT companies in India include Tata Consultancy Services (TCS), Infosys, Wipro, HCL Technologies, and Tech Mahindra. These companies have a global presence, with offices and clients all over the world.\""
      ]
     },
     "execution_count": 2,
     "metadata": {},
     "output_type": "execute_result"
    }
   ],
   "source": [
    "text = f.read()\n",
    "text"
   ]
  },
  {
   "cell_type": "markdown",
   "metadata": {
    "id": "qgDuMlJKzKzh"
   },
   "source": [
    "\n",
    "\n",
    "### close() function\n",
    "\n"
   ]
  },
  {
   "cell_type": "code",
   "execution_count": null,
   "metadata": {
    "id": "szsy17yuzH0d"
   },
   "outputs": [],
   "source": [
    "f.close()"
   ]
  },
  {
   "cell_type": "markdown",
   "metadata": {
    "id": "TqEHbSUkzSDw"
   },
   "source": [
    "```\n",
    "\n",
    "{note}\n",
    "\n",
    "It’s important to remember that it’s your responsibility to close the file. You can close your file by calling **close()** method of the file object. Not closing the file can have unintended effects.\n",
    "```"
   ]
  },
  {
   "cell_type": "markdown",
   "metadata": {
    "id": "zc0haLsjzbRC"
   },
   "source": [
    "Instead of **read()** you can use the **readlines()** method to get a list of string values from the file, one string for each line of text."
   ]
  },
  {
   "cell_type": "code",
   "execution_count": null,
   "metadata": {
    "colab": {
     "base_uri": "https://localhost:8080/"
    },
    "id": "2qDDRX_NzPJk",
    "outputId": "c5b0a531-1733-47f9-f31f-5e873ab5dab3"
   },
   "outputs": [
    {
     "name": "stdout",
     "output_type": "stream",
     "text": [
      "[\"India has emerged as a major hub for IT companies, with a booming technology industry that has made significant contributions to the global IT sector. The country is home to a large number of IT companies, including some of the world's largest and most successful firms.\\n\", 'Some of the biggest IT companies in India include Tata Consultancy Services (TCS), Infosys, Wipro, HCL Technologies, and Tech Mahindra. These companies have a global presence, with offices and clients all over the world.']\n"
     ]
    }
   ],
   "source": [
    "f = open('sample.txt')\n",
    "lines = f.readlines()\n",
    "print(lines)\n",
    "f.close()"
   ]
  },
  {
   "cell_type": "markdown",
   "metadata": {
    "id": "Eac1OjvszoSM"
   },
   "source": [
    "```\n",
    "{note}\n",
    "\n",
    "Except for the last line of the file, each of the string values ends with a newline character **\\n**.\n",
    "```"
   ]
  },
  {
   "cell_type": "markdown",
   "metadata": {
    "id": "3Gz6n0Lczs8T"
   },
   "source": [
    "\n",
    "\n",
    "### write() function\n",
    "\n",
    "Python allows you to write content to a file in a way similar to how the **print()** function writes strings to the screen. You can’t write to a file you’ve opened in read mode, though. Instead, you need to open it in write mode and append mode.\n",
    "\n"
   ]
  },
  {
   "cell_type": "markdown",
   "metadata": {
    "id": "CShy9YEX2UYx"
   },
   "source": [
    "**Write mode** will overwrite the existing file and start from scratch, just like when you overwrite a variable’s value with a new value. Pass ** 'w' ** as the second argument to **open()** to open the file in write mode."
   ]
  },
  {
   "cell_type": "markdown",
   "metadata": {
    "id": "UAae3x292c8v"
   },
   "source": [
    "**Append mode**, on the other hand, will append text to the end of the existing file. You can think of this as appending to a list in a variable, rather than overwriting the variable altogether. Pass 'a' as the second argument to **open()** to open the file in append mode.\n",
    "\n",
    "If the filename passed to **open()** does not exist, both write and append mode will create a new, blank file. After reading or writing a file, call the **close()** method before opening the file again."
   ]
  },
  {
   "cell_type": "code",
   "execution_count": null,
   "metadata": {
    "id": "ulOsg28czgUF"
   },
   "outputs": [],
   "source": [
    "fw = open('sample2.txt', 'w') # write mode\n",
    "fw.write('This is written by python.')\n",
    "fw.close()"
   ]
  },
  {
   "cell_type": "code",
   "execution_count": null,
   "metadata": {
    "id": "o-MpDeyd2oWW"
   },
   "outputs": [],
   "source": [
    "fw = open('sample2.txt', 'a') # append mode\n",
    "fw.write('This is an appended text')\n",
    "fw.close()"
   ]
  },
  {
   "cell_type": "code",
   "execution_count": null,
   "metadata": {
    "colab": {
     "base_uri": "https://localhost:8080/",
     "height": 36
    },
    "id": "roaOqcoa2p-9",
    "outputId": "44537d0c-a718-4464-d920-7f4ccdfeceac"
   },
   "outputs": [
    {
     "data": {
      "application/vnd.google.colaboratory.intrinsic+json": {
       "type": "string"
      },
      "text/plain": [
       "'This is written by python.This is an appended text'"
      ]
     },
     "execution_count": 7,
     "metadata": {},
     "output_type": "execute_result"
    }
   ],
   "source": [
    "f = open('sample2.txt') # reading mode\n",
    "text = f.read()\n",
    "f.close()\n",
    "text"
   ]
  },
  {
   "cell_type": "markdown",
   "metadata": {
    "id": "Vx5iOQDZ44zX"
   },
   "source": [
    "\n",
    "\n",
    "### File Position\n",
    "\n"
   ]
  },
  {
   "cell_type": "markdown",
   "metadata": {
    "id": "UcL1Yqxk5BE5"
   },
   "source": [
    "In Python, file position refers to the current position of the pointer within a file. This pointer is used to indicate the current read or write location within a file.\n",
    "\n",
    "You can get the current file position using the **tell()** method of a file object. The tell() method returns an integer that represents the current position of the file pointer.\n",
    "\n",
    "Here's an example:"
   ]
  },
  {
   "cell_type": "code",
   "execution_count": null,
   "metadata": {
    "colab": {
     "base_uri": "https://localhost:8080/"
    },
    "id": "U8q-79HW2rbs",
    "outputId": "45098cc2-8132-459c-8e6a-6901ecb43ee6"
   },
   "outputs": [
    {
     "name": "stdout",
     "output_type": "stream",
     "text": [
      "Current position: 0\n"
     ]
    }
   ],
   "source": [
    "# Open a file for reading\n",
    "file = open(\"sample.txt\", \"r\")\n",
    "\n",
    "# Get the current position of the file pointer\n",
    "position = file.tell()\n",
    "\n",
    "print(\"Current position:\", position)\n",
    "\n",
    "# Close the file\n",
    "file.close()\n"
   ]
  },
  {
   "cell_type": "markdown",
   "metadata": {
    "id": "vPP_y84o5NHb"
   },
   "source": [
    "In the above example, the **tell()** method is used to get the current position of the file pointer. The position is then printed to the console.\n",
    "\n",
    "You can also set the file position using the **seek()** method of a file object. The **seek()** method takes two arguments: **offset** and **whence**."
   ]
  },
  {
   "cell_type": "markdown",
   "metadata": {
    "id": "5ro7blFp5Z2x"
   },
   "source": [
    "The **offset** argument specifies the number of bytes to move the file pointer, and the **whence** argument specifies the reference point from which to move the pointer. The **whence** argument can take one of three values:\n",
    "\n",
    "\n",
    "\n",
    "*   **0**: move the file pointer relative to the beginning of the file\n",
    "*   **1**: move the file pointer relative to the current position\n",
    "\n",
    "*   **2**: move the file pointer relative to the end of the file\n",
    "\n",
    "\n",
    "\n",
    "\n",
    "\n",
    "\n"
   ]
  },
  {
   "cell_type": "markdown",
   "metadata": {
    "id": "TOvVp-uK50WB"
   },
   "source": [
    "Here's an example:\n",
    "\n"
   ]
  },
  {
   "cell_type": "code",
   "execution_count": null,
   "metadata": {
    "colab": {
     "base_uri": "https://localhost:8080/"
    },
    "id": "qJO0IpYW5IwC",
    "outputId": "03ede4e9-51f0-4e7f-f7e0-42fad7f07b43"
   },
   "outputs": [
    {
     "name": "stdout",
     "output_type": "stream",
     "text": [
      "India has emerged as a major hub for IT companies, with a booming technology industry that has made significant contributions to the global IT sector. The country is home to a large number of IT companies, including some of the world's largest and most successful firms.\n",
      "\n"
     ]
    }
   ],
   "source": [
    "# Open a file for reading\n",
    "file = open(\"sample.txt\", \"r\")\n",
    "\n",
    "# Move the file pointer to the beginning of the file\n",
    "file.seek(0, 0)\n",
    "\n",
    "# Read the first line of the file\n",
    "line = file.readline()\n",
    "\n",
    "# Print the line to the console\n",
    "print(line)\n",
    "\n",
    "# Close the file\n",
    "file.close()\n"
   ]
  },
  {
   "cell_type": "markdown",
   "metadata": {
    "id": "6UeAwHad56pz"
   },
   "source": [
    "In the above example, the **seek()** method is used to move the file pointer to the beginning of the file. The **readline()** method is then used to read the first line of the file. The line is printed to the console, and then the file is closed."
   ]
  },
  {
   "cell_type": "markdown",
   "metadata": {
    "id": "qrT_ZZDmBMD1"
   },
   "source": [
    "## Practice problems"
   ]
  },
  {
   "cell_type": "markdown",
   "metadata": {
    "id": "rpimcuGVBWpX"
   },
   "source": [
    "Q. Write a function `display_words()` in python to read lines from a text file `\"story.txt\"`, and display unique words, which are less than 4 characters. Keep in mind \"the\" and \"The\" are two different values.\n",
    "The content of the file is given below.\n",
    "\n",
    "`\"India is the fastest-growing economy. India is looking for more investments around the globe. The whole world is looking at India as a great market. Most of the Indians can foresee the heights that India is capable of reaching.\"`\n",
    "\n",
    "**For Example:-**\n",
    "\n",
    "def display_words(file):\n",
    "    ### your code here\n",
    "\n",
    "file = your/path/to/story.txt\n",
    "\n",
    "display_words(file1)\n",
    "\n",
    ">>> ['the', 'for', 'The', 'as', 'at', 'is', 'can', 'a', 'of']"
   ]
  },
  {
   "cell_type": "code",
   "execution_count": 1,
   "metadata": {
    "id": "58LLZfpU53vm"
   },
   "outputs": [],
   "source": [
    "## your code ##"
   ]
  },
  {
   "cell_type": "markdown",
   "metadata": {
    "id": "2so17H5yCQcH"
   },
   "source": [
    "Q. Aditi has used a text editing software to type some text. After saving the article as `words.txt`, she realised that she has wrongly typed `alphabet J` in place of `alphabet I` everywhere in the article.\n",
    "Your task is to write a function named as `JTOI()` such that it would display the corrected version of entire content of the file `words.txt` with all the alphabets \"J\" to be displayed as an alphabet \"I\" on screen.\n",
    "\n",
    "Note: **Assuming that `words.txt` contains wrongly typed J alphabet otherwise.**\n",
    "\n",
    "Example:\n",
    "\n",
    "If Aditi has stored the following content in the file WORDS.TXT:\n",
    "\n",
    "\"WELL, THJS JS A WORD BY JTSELF. YOU COULD STRETCH THJS TO BE A SENTENCE.\"\n",
    "\n",
    "The function `JTOI()` should display the following content:\n",
    "\n",
    "\"WELL, THIS IS A WORD BY ITSELF. YOU COULD STRETCH THIS TO BE A SENTENCE.\""
   ]
  },
  {
   "cell_type": "code",
   "execution_count": 2,
   "metadata": {
    "id": "raRFwpnCCQAl"
   },
   "outputs": [],
   "source": [
    "## your code ##"
   ]
  },
  {
   "cell_type": "markdown",
   "metadata": {
    "id": "1syTEIOqCyOz"
   },
   "source": [
    "Q. Write a program to read first 10 characters from the file and display it from giving text.\n",
    "\n",
    "`\"India is the fastest-growing economy. India is looking for more investments around the globe. The whole world is looking at India as a great market. Most of the Indians can foresee the heights that India is capable of reaching.\"`"
   ]
  },
  {
   "cell_type": "code",
   "execution_count": 3,
   "metadata": {
    "id": "BmJQ1iCFCoiq"
   },
   "outputs": [],
   "source": [
    "## your code ##"
   ]
  },
  {
   "cell_type": "markdown",
   "metadata": {
    "id": "2sp7bPcUDkNN"
   },
   "source": [
    "Q. Write a program that counts the number of tabs and new line characters in a file.\n",
    "\n",
    "**Text to create file :**\n",
    "\n",
    "\"India is a diverse country that offers a wide range of tourism experiences. From the snow-capped mountains of the Himalayas in the north to the beaches of Goa and Kerala in the south, there's something for everyone.\n",
    "\n",
    "Some of the top tourist attractions in India include:\n",
    "\n",
    "    - The Taj Mahal in Agra, one of the Seven Wonders of the World\n",
    "    - The historic forts and palaces of Rajasthan, such as the Amber Fort in Jaipur and the Mehrangarh Fort in Jodhpur\n",
    "    - The backwaters of Kerala, where you can take a houseboat ride and enjoy the serene beauty of the region\n",
    "    - The hill stations of the Himalayas, such as Shimla, Darjeeling, and Manali, which offer a respite from the heat of the plains\n",
    "    - The bustling cities of Delhi, Mumbai, and Kolkata, which offer a glimpse into modern India\n",
    "\n",
    "India is also known for its rich cultural heritage, which can be seen in its art, music, dance, and cuisine. Whether you're interested in history, nature, or culture, India has something to offer every type of traveler.\"\n",
    "\n",
    "\n"
   ]
  },
  {
   "cell_type": "code",
   "execution_count": 4,
   "metadata": {
    "id": "26VsF_QLDjRN"
   },
   "outputs": [],
   "source": [
    "## your code ##"
   ]
  }
 ],
 "metadata": {
  "colab": {
   "provenance": []
  },
  "kernelspec": {
   "display_name": "Python 3 (ipykernel)",
   "language": "python",
   "name": "python3"
  },
  "language_info": {
   "codemirror_mode": {
    "name": "ipython",
    "version": 3
   },
   "file_extension": ".py",
   "mimetype": "text/x-python",
   "name": "python",
   "nbconvert_exporter": "python",
   "pygments_lexer": "ipython3",
   "version": "3.9.7"
  }
 },
 "nbformat": 4,
 "nbformat_minor": 1
}