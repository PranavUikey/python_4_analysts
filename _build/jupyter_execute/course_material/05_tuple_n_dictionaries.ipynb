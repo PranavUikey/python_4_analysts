{
 "cells": [
  {
   "cell_type": "markdown",
   "metadata": {},
   "source": [
    "\n",
    "# Tuple"
   ]
  },
  {
   "cell_type": "markdown",
   "metadata": {
    "id": "gzFSXOV2oS01"
   },
   "source": [
    "Lists aren’t the only data types that represent ordered sequences of values. For example, tuples and lists are actually similar.Many of the things you can do with lists can also be done with tuple: indexing; slicing; and using them with for loops, with len()."
   ]
  },
  {
   "cell_type": "markdown",
   "metadata": {
    "id": "eIIkLrPVyEQI"
   },
   "source": [
    "![](../images/unit_5_01.png)"
   ]
  },
  {
   "cell_type": "markdown",
   "metadata": {
    "id": "IyS3t8lg4eBP"
   },
   "source": [
    "## Tuple data type"
   ]
  },
  {
   "cell_type": "markdown",
   "metadata": {
    "id": "LR3A9VkJwYW4"
   },
   "source": [
    "![](../images/unit_5_02.png)"
   ]
  },
  {
   "cell_type": "code",
   "execution_count": null,
   "metadata": {
    "id": "XWtr2_xMmY-v"
   },
   "outputs": [],
   "source": [
    "candies = ('hello', 42, 0.5)  # creating tuple"
   ]
  },
  {
   "cell_type": "code",
   "execution_count": null,
   "metadata": {
    "colab": {
     "base_uri": "https://localhost:8080/",
     "height": 35
    },
    "id": "bPPl7i2k5q9R",
    "outputId": "f681b929-a787-49a3-aaae-eb222976e0fb"
   },
   "outputs": [
    {
     "data": {
      "application/vnd.google.colaboratory.intrinsic+json": {
       "type": "string"
      },
      "text/plain": [
       "'hello'"
      ]
     },
     "execution_count": 2,
     "metadata": {},
     "output_type": "execute_result"
    }
   ],
   "source": [
    "candies[0]  # indexing"
   ]
  },
  {
   "cell_type": "code",
   "execution_count": null,
   "metadata": {
    "colab": {
     "base_uri": "https://localhost:8080/"
    },
    "id": "x1EIEL5s5zAs",
    "outputId": "4ff41274-c02d-4222-e578-b9ed4872fd87"
   },
   "outputs": [
    {
     "data": {
      "text/plain": [
       "(42, 0.5)"
      ]
     },
     "execution_count": 3,
     "metadata": {},
     "output_type": "execute_result"
    }
   ],
   "source": [
    "candies[1:3] # slicing"
   ]
  },
  {
   "cell_type": "code",
   "execution_count": null,
   "metadata": {
    "id": "3Pp80ZHt6Qwa"
   },
   "outputs": [],
   "source": [
    "t=()  # empty tuple"
   ]
  },
  {
   "cell_type": "code",
   "execution_count": 11,
   "metadata": {
    "colab": {
     "base_uri": "https://localhost:8080/"
    },
    "id": "krcB_1Yq7IjN",
    "outputId": "dd30820a-95ec-4cd7-cbd9-8afb60924ae2"
   },
   "outputs": [
    {
     "data": {
      "text/plain": [
       "(11,)"
      ]
     },
     "execution_count": 11,
     "metadata": {},
     "output_type": "execute_result"
    }
   ],
   "source": [
    "t1=11,\n",
    "t1"
   ]
  },
  {
   "cell_type": "markdown",
   "metadata": {
    "id": "kq0VrlOz6u_T"
   },
   "source": [
    "\n",
    "In Python, (11,) is a tuple with a single element 11.\n",
    "\n",
    "The comma after 11 is important because it differentiates a tuple with a single element from a simple integer with parentheses.\n",
    "\n",
    "To create a tuple in Python, you simply enclose the elements in parentheses and separate them with commas."
   ]
  },
  {
   "cell_type": "markdown",
   "metadata": {
    "id": "SABOrjUg7bL_"
   },
   "source": [
    "### Comparing tuples"
   ]
  },
  {
   "cell_type": "markdown",
   "metadata": {
    "id": "wVejZ6Pl7s3Z"
   },
   "source": [
    "In Python, you can compare tuples using the comparison operators such as **<, <=, >, >=, ==**, and **!=**.\n",
    "\n",
    "Tuples are compared element-wise, starting from the leftmost element, and the comparison stops as soon as a mismatch is found."
   ]
  },
  {
   "cell_type": "code",
   "execution_count": null,
   "metadata": {
    "colab": {
     "base_uri": "https://localhost:8080/"
    },
    "id": "uaztBv__54Jo",
    "outputId": "7f475ef0-477e-4c2b-dd10-400e04b552e6"
   },
   "outputs": [
    {
     "name": "stdout",
     "output_type": "stream",
     "text": [
      "True\n",
      "False\n",
      "False\n",
      "True\n"
     ]
    }
   ],
   "source": [
    "t1 = (1, 2, 3)\n",
    "t2 = (1, 2, 4)\n",
    "print(t1 < t2 )  \n",
    "print(t1 > t2)\n",
    "print(t1 == t2)\n",
    "print(t1 != t2)\n"
   ]
  },
  {
   "cell_type": "markdown",
   "metadata": {
    "id": "t0BN6Vtw-Y_C"
   },
   "source": [
    "\n",
    "\n",
    "### Tuple Assignments\n",
    "\n",
    "Tuple assignment is a feature in Python that allows you to assign multiple variables at once by unpacking the values in a tuple. Here's an example:\n",
    "\n"
   ]
  },
  {
   "cell_type": "code",
   "execution_count": null,
   "metadata": {
    "colab": {
     "base_uri": "https://localhost:8080/"
    },
    "id": "hhytiC8R6m-g",
    "outputId": "2b0f84b2-f10c-468d-8b20-8d62e22f5095"
   },
   "outputs": [
    {
     "name": "stdout",
     "output_type": "stream",
     "text": [
      "1\n",
      "2\n",
      "3\n"
     ]
    }
   ],
   "source": [
    "my_tuple = (1, 2, 3)\n",
    "a, b, c = my_tuple\n",
    "print(a)\n",
    "print(b)\n",
    "print(c)\n"
   ]
  },
  {
   "cell_type": "code",
   "execution_count": null,
   "metadata": {
    "colab": {
     "base_uri": "https://localhost:8080/"
    },
    "id": "1Pak5mQa_Eco",
    "outputId": "a8b7c1de-b5d3-4373-8c30-c56b79c0efa5"
   },
   "outputs": [
    {
     "name": "stdout",
     "output_type": "stream",
     "text": [
      "10\n",
      "20\n",
      "10 20\n"
     ]
    }
   ],
   "source": [
    "a,b = 10,20\n",
    "print(a)\n",
    "print(b)\n",
    "print(a,b)"
   ]
  },
  {
   "cell_type": "code",
   "execution_count": null,
   "metadata": {
    "colab": {
     "base_uri": "https://localhost:8080/"
    },
    "id": "GhRPVALN_NAK",
    "outputId": "21dc60e5-9018-4c2a-dc1b-edac9f607b06"
   },
   "outputs": [
    {
     "name": "stdout",
     "output_type": "stream",
     "text": [
      "2\n",
      "1\n"
     ]
    }
   ],
   "source": [
    "# Swapping two variables\n",
    "a = 1\n",
    "b = 2\n",
    "a, b = b, a\n",
    "\n",
    "print(a) # Output: 2\n",
    "print(b) # Output: 1\n"
   ]
  },
  {
   "cell_type": "markdown",
   "metadata": {
    "id": "8QRpeaEv_ZVA"
   },
   "source": [
    "\n",
    "\n",
    "### Updating Tuple\n",
    "\n"
   ]
  },
  {
   "cell_type": "markdown",
   "metadata": {
    "id": "xCtJTZ-8ALpw"
   },
   "source": [
    "Tuples are immutable. So we an extract, assign or update values of one tuple by creating another tuple."
   ]
  },
  {
   "cell_type": "code",
   "execution_count": null,
   "metadata": {
    "colab": {
     "base_uri": "https://localhost:8080/"
    },
    "id": "YGN2bM1u_S7k",
    "outputId": "d33252a3-5e70-4f17-cf0a-c48808279642"
   },
   "outputs": [
    {
     "name": "stdout",
     "output_type": "stream",
     "text": [
      "(10, 20, 30, 40, 50)\n"
     ]
    }
   ],
   "source": [
    "t1=(10,20,30)\n",
    "t2=(40,50)\n",
    "t3=t1+t2\n",
    "print(t3)"
   ]
  },
  {
   "cell_type": "markdown",
   "metadata": {
    "id": "dFJ1WPe7_qNp"
   },
   "source": [
    "\n",
    "\n",
    "### Deleting Tuple\n",
    "\n"
   ]
  },
  {
   "cell_type": "markdown",
   "metadata": {
    "id": "2U7nWFKU_wKC"
   },
   "source": [
    "we can delete tuple using **del** statement."
   ]
  },
  {
   "cell_type": "code",
   "execution_count": null,
   "metadata": {
    "id": "0RAnXekg_ofE"
   },
   "outputs": [],
   "source": [
    "T1=(10,20,30,40)"
   ]
  },
  {
   "cell_type": "code",
   "execution_count": null,
   "metadata": {
    "id": "mu6oYF8oAAAW"
   },
   "outputs": [],
   "source": [
    "del T1"
   ]
  },
  {
   "cell_type": "code",
   "execution_count": null,
   "metadata": {
    "colab": {
     "base_uri": "https://localhost:8080/",
     "height": 165
    },
    "id": "bgLNQVFyAEVZ",
    "outputId": "a5332979-6826-4a68-8fb0-5ac4be2b3b86"
   },
   "outputs": [
    {
     "ename": "NameError",
     "evalue": "ignored",
     "output_type": "error",
     "traceback": [
      "\u001b[0;31m---------------------------------------------------------------------------\u001b[0m",
      "\u001b[0;31mNameError\u001b[0m                                 Traceback (most recent call last)",
      "\u001b[0;32m<ipython-input-21-cf5fc0f3a9f6>\u001b[0m in \u001b[0;36m<cell line: 1>\u001b[0;34m()\u001b[0m\n\u001b[0;32m----> 1\u001b[0;31m \u001b[0mprint\u001b[0m\u001b[0;34m(\u001b[0m\u001b[0mT1\u001b[0m\u001b[0;34m)\u001b[0m\u001b[0;34m\u001b[0m\u001b[0;34m\u001b[0m\u001b[0m\n\u001b[0m",
      "\u001b[0;31mNameError\u001b[0m: name 'T1' is not defined"
     ]
    }
   ],
   "source": [
    "print(T1)"
   ]
  },
  {
   "cell_type": "markdown",
   "metadata": {
    "id": "BHqMSDtB3WSK"
   },
   "source": [
    "\n",
    "\n",
    "## Dictionary\n",
    "\n"
   ]
  },
  {
   "cell_type": "markdown",
   "metadata": {
    "id": "msySHQXv4Z5p"
   },
   "source": [
    "![](../images/unit_5_03.png)"
   ]
  },
  {
   "cell_type": "markdown",
   "metadata": {
    "id": "ezHnUC2q5lIL"
   },
   "source": [
    "### Operations and Methods"
   ]
  },
  {
   "cell_type": "markdown",
   "metadata": {
    "id": "3ZoQNMl35Dgo"
   },
   "source": [
    "**In code, a dictionary is typed with braces, { }.**"
   ]
  },
  {
   "cell_type": "markdown",
   "metadata": {
    "id": "OI38ab0a5V8B"
   },
   "source": [
    "![](../images/unit_5_04.png)"
   ]
  },
  {
   "cell_type": "markdown",
   "metadata": {
    "id": "euKkwB7X5at2"
   },
   "source": [
    "\n",
    "\n",
    "### Creating dictionary\n",
    "\n"
   ]
  },
  {
   "cell_type": "code",
   "execution_count": null,
   "metadata": {
    "colab": {
     "base_uri": "https://localhost:8080/"
    },
    "id": "0sh25BsU4-xy",
    "outputId": "cd7b575a-a549-4e94-e452-cd4d34627f04"
   },
   "outputs": [
    {
     "data": {
      "text/plain": [
       "{'brand': 'apple', 'color': 'gray', 'model': 'iphoneX'}"
      ]
     },
     "execution_count": 2,
     "metadata": {},
     "output_type": "execute_result"
    }
   ],
   "source": [
    "myphone = {'brand': 'apple', 'color': 'gray', 'model': 'iphoneX'}\n",
    "myphone"
   ]
  },
  {
   "cell_type": "markdown",
   "metadata": {
    "id": "w2JH5bH84r56"
   },
   "source": [
    "\n",
    "\n",
    "### Accessing items\n",
    "\n",
    "\n",
    "\n"
   ]
  },
  {
   "cell_type": "code",
   "execution_count": null,
   "metadata": {
    "colab": {
     "base_uri": "https://localhost:8080/",
     "height": 35
    },
    "id": "ZyVYhpOI5yKh",
    "outputId": "aba139b9-27a8-4394-a0bc-514f03d8e867"
   },
   "outputs": [
    {
     "data": {
      "application/vnd.google.colaboratory.intrinsic+json": {
       "type": "string"
      },
      "text/plain": [
       "'apple'"
      ]
     },
     "execution_count": 3,
     "metadata": {},
     "output_type": "execute_result"
    }
   ],
   "source": [
    "myphone['brand']"
   ]
  },
  {
   "cell_type": "markdown",
   "metadata": {
    "id": "FhEsebUS4FXK"
   },
   "source": [
    "\n",
    "\n",
    "### Adding items\n",
    "\n"
   ]
  },
  {
   "cell_type": "markdown",
   "metadata": {
    "id": "iWpHjY8x6oUf"
   },
   "source": [
    "\n",
    "#### 1 .  Assign a new key-value pair without in-built function\n",
    "\n"
   ]
  },
  {
   "cell_type": "code",
   "execution_count": null,
   "metadata": {
    "colab": {
     "base_uri": "https://localhost:8080/"
    },
    "id": "Qw2F_32RBiaZ",
    "outputId": "212644db-101e-46f7-e428-4733ee74b046"
   },
   "outputs": [
    {
     "name": "stdout",
     "output_type": "stream",
     "text": [
      "{'apple': 2, 'banana': 3, 'orange': 1, 'pear': 4}\n"
     ]
    }
   ],
   "source": [
    "my_dict = {\"apple\": 2, \"banana\": 3, \"orange\": 1}\n",
    "my_dict[\"pear\"] = 4\n",
    "\n",
    "print(my_dict)"
   ]
  },
  {
   "cell_type": "markdown",
   "metadata": {
    "id": "ewD65WV466Ez"
   },
   "source": [
    "#### 2 . Assign a new key-value pair using `update()` method"
   ]
  },
  {
   "cell_type": "code",
   "execution_count": null,
   "metadata": {
    "colab": {
     "base_uri": "https://localhost:8080/"
    },
    "id": "8uztdGi664pG",
    "outputId": "cae2c822-6c63-4b72-ef79-215cd5c8aeb3"
   },
   "outputs": [
    {
     "name": "stdout",
     "output_type": "stream",
     "text": [
      "{'apple': 2, 'banana': 3, 'orange': 1, 'grapes': 5, 'pear': 4, 'kiwi': 2, 'mango': 1}\n"
     ]
    }
   ],
   "source": [
    "my_dict1 = {\"apple\": 2, \"banana\": 3, \"orange\": 1,'grapes':5}\n",
    "new_items = {\"pear\": 4, \"kiwi\": 2, \"mango\": 1}\n",
    "\n",
    "my_dict1.update(new_items)\n",
    "\n",
    "print(my_dict1)"
   ]
  },
  {
   "cell_type": "markdown",
   "metadata": {
    "id": "bHvtPAd77iao"
   },
   "source": [
    "\n",
    "\n",
    "#### Removing items\n",
    "\n"
   ]
  },
  {
   "cell_type": "markdown",
   "metadata": {
    "id": "e40kSABv72zQ"
   },
   "source": [
    "#### 1 . del statement removes item from dictionary using key"
   ]
  },
  {
   "cell_type": "code",
   "execution_count": null,
   "metadata": {
    "colab": {
     "base_uri": "https://localhost:8080/"
    },
    "id": "SEM-uIAG7Crj",
    "outputId": "06e8cfaf-b969-4cbe-8df0-6b9e4d4ff4f6"
   },
   "outputs": [
    {
     "name": "stdout",
     "output_type": "stream",
     "text": [
      "original dictionary  {'apple': 2, 'banana': 3, 'orange': 1}\n",
      "{'apple': 2, 'orange': 1}\n"
     ]
    }
   ],
   "source": [
    "d = {\"apple\": 2, \"banana\": 3, \"orange\": 1}\n",
    "print('original dictionary ',d)\n",
    "del d[\"banana\"]\n",
    "print(d)"
   ]
  },
  {
   "cell_type": "markdown",
   "metadata": {
    "id": "tp7wRggF8QJR"
   },
   "source": [
    "#### 2 . pop() method"
   ]
  },
  {
   "cell_type": "code",
   "execution_count": null,
   "metadata": {
    "colab": {
     "base_uri": "https://localhost:8080/"
    },
    "id": "POz1V_1j7_7J",
    "outputId": "0056208b-1b68-4be2-d8d9-6413f75a2cc5"
   },
   "outputs": [
    {
     "name": "stdout",
     "output_type": "stream",
     "text": [
      "{'apple': 2, 'orange': 1}\n",
      "3\n"
     ]
    }
   ],
   "source": [
    "my_dict2 = {\"apple\": 2, \"banana\": 3, \"orange\": 1}\n",
    "value = my_dict2.pop(\"banana\")\n",
    "\n",
    "print(my_dict2)\n",
    "print(value)"
   ]
  },
  {
   "cell_type": "markdown",
   "metadata": {
    "id": "EAU1ZPxx8jsX"
   },
   "source": [
    "\n",
    "\n",
    "### Changing value\n",
    "\n"
   ]
  },
  {
   "cell_type": "code",
   "execution_count": null,
   "metadata": {
    "colab": {
     "base_uri": "https://localhost:8080/"
    },
    "id": "YbVli5Zj8d--",
    "outputId": "041fc444-9088-45d2-f809-8efb22b990f4"
   },
   "outputs": [
    {
     "name": "stdout",
     "output_type": "stream",
     "text": [
      "{'apple': 2, 'banana': 4, 'orange': 1}\n"
     ]
    }
   ],
   "source": [
    "my_dict = {\"apple\": 2, \"banana\": 3, \"orange\": 1}\n",
    "my_dict[\"banana\"] = 4\n",
    "\n",
    "print(my_dict)"
   ]
  },
  {
   "cell_type": "markdown",
   "metadata": {},
   "source": [
    "### Methods in dictionary\n"
   ]
  },
  {
   "cell_type": "markdown",
   "metadata": {},
   "source": [
    "`clear()` functions is used to delete all the elements in a dictionary"
   ]
  },
  {
   "cell_type": "code",
   "execution_count": 3,
   "metadata": {},
   "outputs": [
    {
     "name": "stdout",
     "output_type": "stream",
     "text": [
      "{}\n"
     ]
    }
   ],
   "source": [
    "my_dict_1 = {\"apple\": 2, \"banana\": 3, \"orange\": 1}\n",
    "my_dict_1.clear()\n",
    "print(my_dict_1)"
   ]
  },
  {
   "cell_type": "markdown",
   "metadata": {},
   "source": [
    "`get()` function is used to get values of keys from dictionary but if value is not present it returns `None` or specified value"
   ]
  },
  {
   "cell_type": "code",
   "execution_count": 5,
   "metadata": {},
   "outputs": [
    {
     "name": "stdout",
     "output_type": "stream",
     "text": [
      "3\n"
     ]
    }
   ],
   "source": [
    "my_dict_3 = {\"apple\": 2, \"banana\": 3, \"orange\": 1}\n",
    "value = my_dict_3.get(\"banana\")\n",
    "print(value)"
   ]
  },
  {
   "cell_type": "code",
   "execution_count": 8,
   "metadata": {},
   "outputs": [
    {
     "name": "stdout",
     "output_type": "stream",
     "text": [
      "None\n"
     ]
    }
   ],
   "source": [
    "my_dict_3 = {\"apple\": 2, \"banana\": 3, \"orange\": 1}\n",
    "value = my_dict_3.get(\"bananas\")\n",
    "print(value)"
   ]
  },
  {
   "cell_type": "code",
   "execution_count": 9,
   "metadata": {},
   "outputs": [
    {
     "name": "stdout",
     "output_type": "stream",
     "text": [
      "0\n"
     ]
    }
   ],
   "source": [
    "my_dict_3 = {\"apple\": 2, \"banana\": 3, \"orange\": 1}\n",
    "value = my_dict_3.get(\"bananas\", 0)\n",
    "print(value)"
   ]
  },
  {
   "cell_type": "markdown",
   "metadata": {},
   "source": [
    "`items()` returns both keys and values from dictionary"
   ]
  },
  {
   "cell_type": "code",
   "execution_count": 13,
   "metadata": {},
   "outputs": [
    {
     "name": "stdout",
     "output_type": "stream",
     "text": [
      "dict_items([('apple', 2), ('banana', 3), ('orange', 1)])\n"
     ]
    }
   ],
   "source": [
    "my_dict_4 = {\"apple\": 2, \"banana\": 3, \"orange\": 1}\n",
    "items = my_dict_4.items()\n",
    "print(items)"
   ]
  },
  {
   "cell_type": "markdown",
   "metadata": {},
   "source": [
    "`keys()` function returns all the keys from dictionary "
   ]
  },
  {
   "cell_type": "code",
   "execution_count": 12,
   "metadata": {},
   "outputs": [
    {
     "name": "stdout",
     "output_type": "stream",
     "text": [
      "dict_keys(['apple', 'banana', 'orange'])\n"
     ]
    }
   ],
   "source": [
    "my_dict_5 = {\"apple\": 2, \"banana\": 3, \"orange\": 1}\n",
    "keys = my_dict_5.keys()\n",
    "print(keys)"
   ]
  },
  {
   "cell_type": "markdown",
   "metadata": {},
   "source": [
    "`values()` function returns all the values from dictionary "
   ]
  },
  {
   "cell_type": "code",
   "execution_count": 14,
   "metadata": {},
   "outputs": [
    {
     "name": "stdout",
     "output_type": "stream",
     "text": [
      "dict_values([2, 3, 1])\n"
     ]
    }
   ],
   "source": [
    "my_dict_6 = {\"apple\": 2, \"banana\": 3, \"orange\": 1}\n",
    "values = my_dict_6.values()\n",
    "print(values)"
   ]
  },
  {
   "cell_type": "markdown",
   "metadata": {
    "id": "mzBfUjFdQvby"
   },
   "source": [
    "\n",
    "\n",
    "#### Traversing Dictionaries\n",
    "\n"
   ]
  },
  {
   "cell_type": "markdown",
   "metadata": {},
   "source": [
    "Accessing all keys from dictionary"
   ]
  },
  {
   "cell_type": "code",
   "execution_count": 16,
   "metadata": {},
   "outputs": [
    {
     "name": "stdout",
     "output_type": "stream",
     "text": [
      "name\n",
      "age\n",
      "location\n"
     ]
    }
   ],
   "source": [
    "person = {'name': 'John', 'age': 25, 'location': 'New York'}\n",
    "for key  in person.keys():\n",
    "  print(key)"
   ]
  },
  {
   "cell_type": "markdown",
   "metadata": {},
   "source": [
    "Accessing all the values from the dictionary"
   ]
  },
  {
   "cell_type": "code",
   "execution_count": 18,
   "metadata": {},
   "outputs": [
    {
     "name": "stdout",
     "output_type": "stream",
     "text": [
      "John\n",
      "25\n",
      "New York\n"
     ]
    }
   ],
   "source": [
    "person = {'name': 'John', 'age': 25, 'location': 'New York'}\n",
    "for key  in person.values():\n",
    "  print(key)"
   ]
  },
  {
   "cell_type": "markdown",
   "metadata": {},
   "source": [
    "Accessing both keys and values from dictionary"
   ]
  },
  {
   "cell_type": "code",
   "execution_count": 22,
   "metadata": {
    "colab": {
     "base_uri": "https://localhost:8080/"
    },
    "id": "9HZnUOpTQEL1",
    "outputId": "3db2f5ff-79bc-4e86-a787-5c85fef341a5"
   },
   "outputs": [
    {
     "name": "stdout",
     "output_type": "stream",
     "text": [
      "name John\n",
      "age 25\n",
      "location New York\n"
     ]
    }
   ],
   "source": [
    "person = {'name': 'John', 'age': 25, 'location': 'New York'}\n",
    "for key , value in list(person.items()):\n",
    "  print(key , value)"
   ]
  },
  {
   "cell_type": "markdown",
   "metadata": {},
   "source": [
    "# Set"
   ]
  },
  {
   "cell_type": "markdown",
   "metadata": {},
   "source": [
    "The next basic collection is the set, which contains unordered collections of unique items. They are defined much like lists and tuples, except they use the curly brackets of dictionaries, { }:"
   ]
  },
  {
   "cell_type": "code",
   "execution_count": 24,
   "metadata": {},
   "outputs": [],
   "source": [
    "primes = {2, 3, 5, 7}\n",
    "odds = {1, 3, 5, 7, 9}"
   ]
  },
  {
   "cell_type": "markdown",
   "metadata": {},
   "source": [
    "If you’re familiar with the mathematics of sets, you’ll be familiar with operations like the union, intersection, difference, symmetric difference, and others. Python’s sets have all of these operations built-in, via methods or operators. For each, we’ll show the two equivalent methods:\n",
    "\n"
   ]
  },
  {
   "cell_type": "markdown",
   "metadata": {},
   "source": [
    "**union** items appearing in either"
   ]
  },
  {
   "cell_type": "code",
   "execution_count": 26,
   "metadata": {},
   "outputs": [
    {
     "name": "stdout",
     "output_type": "stream",
     "text": [
      "{1, 2, 3, 5, 7, 9}\n",
      "{1, 2, 3, 5, 7, 9}\n"
     ]
    }
   ],
   "source": [
    "print(primes | odds)      # with an operator\n",
    "print(primes.union(odds)) # equivalently with a method"
   ]
  },
  {
   "cell_type": "markdown",
   "metadata": {},
   "source": [
    "**intersection** items appearing in both"
   ]
  },
  {
   "cell_type": "code",
   "execution_count": 29,
   "metadata": {},
   "outputs": [
    {
     "name": "stdout",
     "output_type": "stream",
     "text": [
      "{3, 5, 7}\n",
      "{3, 5, 7}\n"
     ]
    }
   ],
   "source": [
    "print(primes & odds)             # with an operator\n",
    "print(primes.intersection(odds)) # equivalently with a method"
   ]
  },
  {
   "cell_type": "markdown",
   "metadata": {},
   "source": [
    "`set()` converts list or tuple to set"
   ]
  },
  {
   "cell_type": "code",
   "execution_count": 36,
   "metadata": {},
   "outputs": [
    {
     "data": {
      "text/plain": [
       "{1, 2, 3, 4, 5, 6, 11}"
      ]
     },
     "execution_count": 36,
     "metadata": {},
     "output_type": "execute_result"
    }
   ],
   "source": [
    "set([1,1,1,1,11,2,3,4,5,6])"
   ]
  },
  {
   "cell_type": "code",
   "execution_count": 38,
   "metadata": {},
   "outputs": [
    {
     "data": {
      "text/plain": [
       "{1, 2, 3, 4, 5, 6, 11}"
      ]
     },
     "execution_count": 38,
     "metadata": {},
     "output_type": "execute_result"
    }
   ],
   "source": [
    "set((1,4,5,6,1,1,1,11,2,3))"
   ]
  },
  {
   "cell_type": "markdown",
   "metadata": {
    "id": "2nzokScxCPbD"
   },
   "source": [
    "## Practice Questions"
   ]
  },
  {
   "cell_type": "markdown",
   "metadata": {},
   "source": [
    "Q. How do you concatenate two tuples?\n",
    "\n",
    "**Example :**\n",
    "\n",
    "tuple1 = (1, 2)\n",
    "\n",
    "tuple2 = (3, 4)      \n",
    ">>> (1, 2, 3, 4)"
   ]
  },
  {
   "cell_type": "code",
   "execution_count": null,
   "metadata": {},
   "outputs": [],
   "source": []
  },
  {
   "cell_type": "markdown",
   "metadata": {},
   "source": [
    "Q. How do you access the second element of a tuple?\n",
    "\n",
    "**Example :**\n",
    "\n",
    "\n",
    "my_tuple = (1, 2, 3)       \n",
    ">>>2\n"
   ]
  },
  {
   "cell_type": "code",
   "execution_count": null,
   "metadata": {},
   "outputs": [],
   "source": []
  },
  {
   "cell_type": "markdown",
   "metadata": {
    "id": "KieR-r0QDaLn"
   },
   "source": [
    "Q. Write a Python program to count the number of occurrences of an element in a tuple.\n",
    "\n",
    "**Example :**\n",
    "\n",
    "\n",
    "my_tuple = (1, 2, 3, 4, 5, 3, 2, 1, 3)\n",
    ">>> occurrence of 3 is 3 times"
   ]
  },
  {
   "cell_type": "code",
   "execution_count": null,
   "metadata": {},
   "outputs": [],
   "source": []
  },
  {
   "cell_type": "markdown",
   "metadata": {
    "id": "Tq8g95D-D0sh"
   },
   "source": [
    "Q. Create a dictionary named student and it should contain your Name, Gender, Age & Programming language. After creating it add a new key Roll number and set its value as 43.\n",
    "\n",
    "**Example :**\n",
    "\n",
    "student = {\"Name\":\"AI\",\"Gender\":\"Male\",\"Age\":99,\"Programming Language\":\"Assembly\"}\n",
    "\n",
    ">>>  {\"Name\":\"AI\",\"Gender\":\"Male\",\"Age\":99,\"Programming Language\":\"Assembly\",\"Roll no\":43} "
   ]
  },
  {
   "cell_type": "code",
   "execution_count": null,
   "metadata": {
    "id": "m1hIDy_EDQA9"
   },
   "outputs": [],
   "source": []
  },
  {
   "cell_type": "markdown",
   "metadata": {
    "id": "0apedOaAKXNX"
   },
   "source": [
    "Q. Create a code that displays the unique elements present inside the dictionary.\n",
    "\n",
    "**Hint use `set()` for unique elements**\n",
    "\n",
    "**Example :**\n",
    "\n",
    "marks = {\"English\": 78, \"Maths\": 89, \"Science\": 92, \"History\": 89, \"Geography\": 77, \"Physics\": 92, \"Chemistry\": 78}\n",
    ">>> 78 89 92 77"
   ]
  },
  {
   "cell_type": "code",
   "execution_count": null,
   "metadata": {
    "id": "HINTqWNjKWdJ"
   },
   "outputs": [],
   "source": []
  },
  {
   "cell_type": "markdown",
   "metadata": {},
   "source": [
    "Q. Delete orange from this dictionary.\n",
    "\n",
    "**Example :**\n",
    "\n",
    "\n",
    "d = {\"apple\": 2, \"banana\": 3, \"orange\": 1}\n",
    ">>> {\"apple\": 2, \"banana\": 3}"
   ]
  },
  {
   "cell_type": "code",
   "execution_count": null,
   "metadata": {},
   "outputs": [],
   "source": []
  },
  {
   "cell_type": "markdown",
   "metadata": {},
   "source": [
    "Q. Change the value of apple to 7000 in this dictionary\n",
    "\n",
    "**Example :**\n",
    "\n",
    "\n",
    "d = {\"apple\": 2, \"banana\": 3, \"orange\": 1}\n",
    "\n",
    ">>> {\"apple\": 7000, \"banana\": 3, \"orange\": 1}"
   ]
  },
  {
   "cell_type": "code",
   "execution_count": null,
   "metadata": {},
   "outputs": [],
   "source": []
  },
  {
   "cell_type": "markdown",
   "metadata": {},
   "source": [
    "Q. Display each key and its length from dictionary\n",
    "\n",
    "**Example :**\n",
    "\n",
    "d = {\"apple\": 2, \"banana\": 3, \"orange\": 1}\n",
    ">>> \"apple\" 5 ,\n",
    "    \"banana\"  6 ,\n",
    "    \"orange\"  6,"
   ]
  },
  {
   "cell_type": "code",
   "execution_count": null,
   "metadata": {},
   "outputs": [],
   "source": []
  },
  {
   "cell_type": "markdown",
   "metadata": {},
   "source": [
    "Q. Convert given list to set \n",
    "\n",
    "**Example :**\n",
    "\n",
    "\n",
    "l = [1,1,1,11,2,3]\n",
    ">>> {1, 2, 3, 11}"
   ]
  },
  {
   "cell_type": "code",
   "execution_count": null,
   "metadata": {},
   "outputs": [],
   "source": []
  },
  {
   "cell_type": "markdown",
   "metadata": {},
   "source": [
    "Q. Combine to sets\n",
    "\n",
    "**Example :**\n",
    "\n",
    "\n",
    "set1 = {2, 7, 3, 5 ,3,4,5,}\n",
    "\n",
    "set2 = {1,  9, 3, 5,5,2,21,1}\n",
    "\n",
    ">>> {1, 2, 3, 4, 5, 7, 9, 21}"
   ]
  },
  {
   "cell_type": "code",
   "execution_count": null,
   "metadata": {},
   "outputs": [],
   "source": []
  }
 ],
 "metadata": {
  "colab": {
   "provenance": []
  },
  "kernelspec": {
   "display_name": "Python 3 (ipykernel)",
   "language": "python",
   "name": "python3"
  },
  "language_info": {
   "codemirror_mode": {
    "name": "ipython",
    "version": 3
   },
   "file_extension": ".py",
   "mimetype": "text/x-python",
   "name": "python",
   "nbconvert_exporter": "python",
   "pygments_lexer": "ipython3",
   "version": "3.6.3"
  }
 },
 "nbformat": 4,
 "nbformat_minor": 1
}