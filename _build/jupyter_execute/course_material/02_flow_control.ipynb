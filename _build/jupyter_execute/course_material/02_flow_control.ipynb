{
 "cells": [
  {
   "cell_type": "markdown",
   "metadata": {},
   "source": [
    "# Flow Control "
   ]
  },
  {
   "cell_type": "markdown",
   "metadata": {
    "id": "scIAZeJtr1yA"
   },
   "source": [
    "## Decision Control Statement"
   ]
  },
  {
   "cell_type": "markdown",
   "metadata": {
    "id": "m0QbxRLkrw0E"
   },
   "source": [
    "So you know the basics of individual instructions and that a program is just a series of instructions. But the real strength of programming isn’t just running (or executing) one instruction after another. Based on how the expressions evaluate, the program can decide to skip instructions, repeat them, or choose one of several instructions to run.\n",
    "\n",
    "In fact, you almost never want your programs to start from the first line of code and simply execute every line, straight to the end. decision control statements can decide which Python instructions to execute under which conditions.\n",
    "\n",
    "These decision control statements directly correspond to the symbols in a flowchart, so we’ll provide flowchart versions of the code discussed in this chapter. Figure below shows a flowchart for what to do if your alarm rings in the morning. Follow the path made by the arrows from Start to End."
   ]
  },
  {
   "cell_type": "markdown",
   "metadata": {
    "id": "QiCQLBB4sI8c"
   },
   "source": [
    "![](../images/unit_2_01.png)"
   ]
  },
  {
   "cell_type": "markdown",
   "metadata": {
    "id": "WQZ2QB7FsOKF"
   },
   "source": [
    "In a flowchart, there is usually more than one way to go from the start to the end. The same is true for lines of code in a computer program. Flowcharts represent these branching points with diamonds, while the other steps are represented with rectangles. The starting and ending steps are represented with oval.\n",
    "\n",
    "But before you learn about decision control statements, you first need to learn how to represent those yes and no options, and you need to understand how to write those branching points as Python code. To that end, let’s explore comparison operators, Boolean/logical operators, bitwise operator, assignment operator, membership operator, identity operator."
   ]
  },
  {
   "cell_type": "markdown",
   "metadata": {
    "id": "De6HvWUCta_D"
   },
   "source": [
    "\n",
    "\n",
    "### Comparison Operator\n",
    "\n",
    "\n",
    "\n"
   ]
  },
  {
   "cell_type": "markdown",
   "metadata": {
    "id": "Xl_pCJyctwLN"
   },
   "source": [
    "![](../images/unit_2_02.png)"
   ]
  },
  {
   "cell_type": "markdown",
   "metadata": {
    "id": "haltWXdyuHpW"
   },
   "source": [
    "for example:"
   ]
  },
  {
   "cell_type": "code",
   "execution_count": null,
   "metadata": {
    "colab": {
     "base_uri": "https://localhost:8080/"
    },
    "id": "u79-U5Pvq7rE",
    "outputId": "ddf0bb61-8695-44fb-af89-6358eb3a9450"
   },
   "outputs": [
    {
     "data": {
      "text/plain": [
       "False"
      ]
     },
     "execution_count": 1,
     "metadata": {},
     "output_type": "execute_result"
    }
   ],
   "source": [
    "10<5"
   ]
  },
  {
   "cell_type": "code",
   "execution_count": null,
   "metadata": {
    "colab": {
     "base_uri": "https://localhost:8080/"
    },
    "id": "8FwKwxJhuKgq",
    "outputId": "5047a2dc-6e56-4304-d48b-afcc20d529bf"
   },
   "outputs": [
    {
     "data": {
      "text/plain": [
       "True"
      ]
     },
     "execution_count": 2,
     "metadata": {},
     "output_type": "execute_result"
    }
   ],
   "source": [
    "20>=10"
   ]
  },
  {
   "cell_type": "code",
   "execution_count": null,
   "metadata": {
    "colab": {
     "base_uri": "https://localhost:8080/"
    },
    "id": "0mwM77uSuM1E",
    "outputId": "84a120b6-00ba-45f3-8400-89ab0e8eb44e"
   },
   "outputs": [
    {
     "data": {
      "text/plain": [
       "False"
      ]
     },
     "execution_count": 3,
     "metadata": {},
     "output_type": "execute_result"
    }
   ],
   "source": [
    "5==6"
   ]
  },
  {
   "cell_type": "markdown",
   "metadata": {
    "id": "RtrCe2WWuUyY"
   },
   "source": [
    "\n",
    "\n",
    "### Logical Operator\n",
    "\n"
   ]
  },
  {
   "cell_type": "markdown",
   "metadata": {
    "id": "f-qg5NkHvBlO"
   },
   "source": [
    "![](../images/unit_2_03.png)"
   ]
  },
  {
   "cell_type": "markdown",
   "metadata": {
    "id": "lQLeTHppwTIj"
   },
   "source": [
    "\n",
    "\n",
    "### Bitwise Operator\n"
   ]
  },
  {
   "cell_type": "markdown",
   "metadata": {
    "id": "a8Vn9HeNxQVP"
   },
   "source": [
    "Bitwise operators are operators in computer programming that manipulate the bits (binary digits) of a value or variable. These operators are used to perform operations on individual bits of integers or other binary values."
   ]
  },
  {
   "cell_type": "markdown",
   "metadata": {
    "id": "g5d-OfgBwfTk"
   },
   "source": [
    "![](../images/unit_2_04.png)"
   ]
  },
  {
   "cell_type": "code",
   "execution_count": null,
   "metadata": {
    "colab": {
     "base_uri": "https://localhost:8080/"
    },
    "id": "UcQvGGfzuOr0",
    "outputId": "db34c081-e95d-47ca-9c23-1ef5cafc46f3"
   },
   "outputs": [
    {
     "name": "stdout",
     "output_type": "stream",
     "text": [
      "101\n",
      "111\n",
      "10\n",
      "-112\n",
      "444\n",
      "27\n"
     ]
    }
   ],
   "source": [
    "a = 111   # binary representation: 01101111\n",
    "b = 101   # binary representation: 01100101\n",
    "\n",
    "# bitwise AND\n",
    "c = a & b  # result: 01100101 (101 in decimal)\n",
    "print(c)\n",
    "\n",
    "# bitwise OR\n",
    "c = a | b  # result: 01101111 (111 in decimal)\n",
    "print(c)\n",
    "\n",
    "# bitwise XOR\n",
    "c = a ^ b  # result: 00001010 (10 in decimal)\n",
    "print(c)\n",
    "\n",
    "# bitwise NOT\n",
    "c = ~a     # result: -112 (in decimal, since Python uses two's complement for signed integers)\n",
    "print(c)\n",
    "\n",
    "# left shift\n",
    "c = a << 2 # result: 10111100 (188 in decimal)\n",
    "print(c)\n",
    "\n",
    "# right shift\n",
    "c = a >> 2 # result: 00011011 (27 in decimal)\n",
    "print(c)\n"
   ]
  },
  {
   "cell_type": "markdown",
   "metadata": {
    "id": "3CD_tEgzyqF8"
   },
   "source": [
    "\n",
    "\n",
    "### Assignment Operator\n",
    "\n"
   ]
  },
  {
   "cell_type": "markdown",
   "metadata": {
    "id": "rGurBSvgyy-1"
   },
   "source": [
    "![](../images/unit_2_05.png)"
   ]
  },
  {
   "cell_type": "code",
   "execution_count": null,
   "metadata": {
    "colab": {
     "base_uri": "https://localhost:8080/"
    },
    "id": "NseACgp7xbQh",
    "outputId": "2ac7b788-72ab-4714-a5e0-c2f6f9eb0bd7"
   },
   "outputs": [
    {
     "name": "stdout",
     "output_type": "stream",
     "text": [
      "8\n",
      "6\n",
      "14\n",
      "5.0\n",
      "6\n"
     ]
    }
   ],
   "source": [
    "x = 5\n",
    "x += 3\n",
    "print(x) # Output: 8\n",
    "\n",
    "y = 10\n",
    "y -= 4\n",
    "print(y) # Output: 6\n",
    "\n",
    "z = 7\n",
    "z *= 2\n",
    "print(z) # Output: 14\n",
    "\n",
    "a = 15\n",
    "a /= 3\n",
    "print(a) # Output: 5.0\n",
    "\n",
    "b = 20\n",
    "b %= 7\n",
    "print(b) # Output: 6"
   ]
  },
  {
   "cell_type": "markdown",
   "metadata": {
    "id": "r1YLlmOL6IYZ"
   },
   "source": [
    "\n",
    "\n",
    "### Membership Operator\n",
    "\n"
   ]
  },
  {
   "cell_type": "markdown",
   "metadata": {
    "id": "y3JgEDCY6Pq1"
   },
   "source": [
    "![](../images/unit_2_06.png)"
   ]
  },
  {
   "cell_type": "markdown",
   "metadata": {
    "id": "S1XF3-qz6YxV"
   },
   "source": [
    "\n",
    "\n",
    "### Identity Operator\n",
    "\n"
   ]
  },
  {
   "cell_type": "markdown",
   "metadata": {
    "id": "vvGlOrMA6dq0"
   },
   "source": [
    "![](../images/unit_2_07.png)"
   ]
  },
  {
   "cell_type": "markdown",
   "metadata": {
    "id": "ZNbByw-qE108"
   },
   "source": [
    "\n",
    "\n",
    "## Blocks of Code\n",
    "\n"
   ]
  },
  {
   "cell_type": "markdown",
   "metadata": {
    "id": "6ADbIbEkE6fm"
   },
   "source": [
    "Lines of Python code can be grouped together in one or more blocks. You can tell when a block begins. Indentation means 4 spaces or 1 Tab.\n",
    "\n",
    "\n",
    "\n",
    "*   There are three rules for blocks.\n",
    "*   Blocks begin when the indentation increases.\n",
    "\n",
    "\n",
    "*   Blocks can contain other blocks.\n",
    "\n",
    "Blocks end when the indentation decreases to zero or to a containing block’s indentation.\n",
    "\n",
    "Blocks are easier to understand by looking at some indentation. You might be seeing it on regular basis in YouTube Comments and Instagram comments and their replies. **It is called indentation.**"
   ]
  },
  {
   "cell_type": "markdown",
   "metadata": {
    "id": "F5wwCv30HxQU"
   },
   "source": [
    "![](../images/unit_2_08.png)"
   ]
  },
  {
   "cell_type": "markdown",
   "metadata": {
    "id": "rFtkvU2VC9Ey"
   },
   "source": [
    "\n",
    "\n",
    "## Selection / Conditional Branching Statement\n",
    "\n"
   ]
  },
  {
   "cell_type": "markdown",
   "metadata": {
    "id": "AKJXmgzjDImS"
   },
   "source": [
    "Using all operators we can construct statements.\n",
    "\n",
    "Now, let’s explore the most important piece of Decision control: the statements themselves. The statements represent the diamonds you saw in the flowchart above, and they are the actual decisions your programs will make.\n",
    "\n",
    "Decision control statements are used to control the flow of the program based on certain conditions. There are three types of decision control statements in Python: if statements, if-else statements, and if-elif-else statements."
   ]
  },
  {
   "cell_type": "markdown",
   "metadata": {
    "id": "CsTjgY7JIT7Y"
   },
   "source": [
    "\n",
    "\n",
    "### 1. if statements:\n",
    "\n",
    "  An if statement is used to execute a block of code if a condition is true. Here's the basic syntax:\n",
    "\n"
   ]
  },
  {
   "cell_type": "markdown",
   "metadata": {
    "id": "ewBTp705IlXV"
   },
   "source": [
    "\n",
    "\n",
    "```{python}\n",
    "if condition:\n",
    "   # code to execute if condition is true\n",
    "\n",
    "```\n",
    "\n"
   ]
  },
  {
   "cell_type": "markdown",
   "metadata": {
    "id": "mQAzqo9aKN8h"
   },
   "source": [
    "In Python, an if statement consists of the following:\n",
    "\n",
    "The if keyword\n",
    "\n",
    "• A condition (that is, an expression that evaluates to True or False)\n",
    "\n",
    "• A colon(:)\n",
    "\n",
    "• Starting on the next line, an indented block of code (called the if clause)\n",
    "\n",
    "For example: let’s say you have some code that checks which grade is scored by a person."
   ]
  },
  {
   "cell_type": "code",
   "execution_count": null,
   "metadata": {
    "colab": {
     "base_uri": "https://localhost:8080/"
    },
    "id": "x2kbDKCZx46P",
    "outputId": "ecafc018-be43-4684-f7f1-d44465b8d76c"
   },
   "outputs": [
    {
     "name": "stdout",
     "output_type": "stream",
     "text": [
      "Grade A\n"
     ]
    }
   ],
   "source": [
    "grade = 93\n",
    "\n",
    "if grade >= 90:\n",
    "    print('Grade A')    "
   ]
  },
  {
   "cell_type": "markdown",
   "metadata": {
    "id": "9sg5TPyvOhtJ"
   },
   "source": [
    "![](../images/unit_2_09.png)"
   ]
  },
  {
   "cell_type": "markdown",
   "metadata": {
    "id": "YZbq9Ba4MdFY"
   },
   "source": [
    "\n",
    "\n",
    "### 2. if-else statements:\n",
    "\n",
    "\n",
    "\n",
    "An if-else statement is used to execute a block of code if a condition is true, and another block of code if the condition is false. Here's the basic syntax:"
   ]
  },
  {
   "cell_type": "markdown",
   "metadata": {
    "id": "n6zlnJarMqXQ"
   },
   "source": [
    "\n",
    "\n",
    "```{python}\n",
    "if condition:\n",
    "    # code to execute if condition is true\n",
    "else:\n",
    "    # code to execute if condition is false\n",
    "\n",
    "```\n",
    "\n"
   ]
  },
  {
   "cell_type": "markdown",
   "metadata": {
    "id": "sa0mOkqiOunC"
   },
   "source": [
    "An else statement doesn’t have a condition, and in code, an else statement always consists of the following:\n",
    "\n",
    "• The else keyword\n",
    "\n",
    "• A colon(:)\n",
    "\n",
    "• Starting on the next line, an indented block of code (called the else clause)\n",
    "\n",
    "Returning to above example, let’s look at some code that uses an else statement to check if the scored grade is Grade A or not."
   ]
  },
  {
   "cell_type": "code",
   "execution_count": null,
   "metadata": {
    "colab": {
     "base_uri": "https://localhost:8080/"
    },
    "id": "t0cCQdv7LVyr",
    "outputId": "b4a7b0df-63e9-4d79-be38-6a307c2f83f6"
   },
   "outputs": [
    {
     "name": "stdout",
     "output_type": "stream",
     "text": [
      "Not Grade A\n"
     ]
    }
   ],
   "source": [
    "grade = 88\n",
    "\n",
    "if grade>=90:\n",
    "  print('Grade A')\n",
    "else:\n",
    "  print('Not Grade A')"
   ]
  },
  {
   "cell_type": "markdown",
   "metadata": {
    "id": "_Gq7uDMOPDYN"
   },
   "source": [
    "![](../images/unit_2_10.png)"
   ]
  },
  {
   "cell_type": "markdown",
   "metadata": {
    "id": "_PTBMKIWPP52"
   },
   "source": [
    "\n",
    "### 3. if-elif-else statements:\n",
    "\n",
    "\n",
    "\n",
    "\n",
    "\n",
    "An if-elif-else statement is used to execute a block of code if a condition is true, or another block of code if another condition is true, or a third block of code if neither of the previous conditions is true. Here's the basic syntax:"
   ]
  },
  {
   "cell_type": "markdown",
   "metadata": {
    "id": "qNKWYdQZPcFe"
   },
   "source": [
    "\n",
    "\n",
    "```{python}\n",
    "if condition1:\n",
    "    # code to execute if condition1 is true\n",
    "elif condition2:\n",
    "    # code to execute if condition2 is true\n",
    "else:\n",
    "    # code to execute if neither condition1 nor condition2 is true\n",
    "\n",
    "```\n",
    "\n"
   ]
  },
  {
   "cell_type": "markdown",
   "metadata": {
    "id": "4-V4GeWDPcCf"
   },
   "source": [
    " The elif statement is an “else if” statement that always follows an if or another elif statement. It provides another condition that is checked only if all of the previous conditions were False. In code, an elif statement always consists of the following:\n",
    "\n",
    "• The elif keyword\n",
    "\n",
    "• A condition (that is, an expression that evaluates to True or False)\n",
    "\n",
    "• A colon(:)\n",
    "\n",
    "• Starting on the next line, an indented block of code (called the elif clause)\n",
    "\n",
    "Let’s add an elif to our grade checker to see this statement in action."
   ]
  },
  {
   "cell_type": "code",
   "execution_count": null,
   "metadata": {
    "colab": {
     "base_uri": "https://localhost:8080/"
    },
    "id": "kkEDpYffPAkp",
    "outputId": "7acf63a3-f6a2-4fad-d202-18423a5023bf"
   },
   "outputs": [
    {
     "name": "stdout",
     "output_type": "stream",
     "text": [
      "Grade B\n"
     ]
    }
   ],
   "source": [
    "grade = 89\n",
    "\n",
    "if grade>=90:\n",
    "  print('Grade A')\n",
    "elif grade>=80:\n",
    "  print('Grade B')\n",
    "else:\n",
    "  print('No Grade')"
   ]
  },
  {
   "cell_type": "markdown",
   "metadata": {
    "id": "hpyCiHLzQPbg"
   },
   "source": [
    "![](../images/unit_2_11.png)"
   ]
  },
  {
   "cell_type": "markdown",
   "metadata": {
    "id": "no7za16iTDq8"
   },
   "source": [
    "\n",
    "\n",
    "\n",
    "---\n",
    "\n",
    "\n",
    "### Nested if\n",
    "\n",
    "\n",
    "\n",
    "---\n",
    "\n",
    "\n",
    "\n"
   ]
  },
  {
   "cell_type": "markdown",
   "metadata": {
    "id": "WdIU-s9vTo1M"
   },
   "source": [
    "A nested if statement is a type of conditional statement that includes one if statement inside another if statement. The inner if statement is executed only if the outer if statement is true. Here's an example of a nested if statement in Python:"
   ]
  },
  {
   "cell_type": "code",
   "execution_count": null,
   "metadata": {
    "colab": {
     "base_uri": "https://localhost:8080/"
    },
    "id": "3w6_8ozAQKO2",
    "outputId": "d0780317-eba2-4d60-8988-a33a88380ef8"
   },
   "outputs": [
    {
     "name": "stdout",
     "output_type": "stream",
     "text": [
      "Both x and y are positive.\n"
     ]
    }
   ],
   "source": [
    "x = 5\n",
    "y = 10\n",
    "\n",
    "if x > 0:\n",
    "    if y > 0:\n",
    "        print(\"Both x and y are positive.\")\n",
    "    else:\n",
    "        print(\"x is positive but y is not.\")\n",
    "else:\n",
    "    print(\"x is not positive.\")\n"
   ]
  },
  {
   "cell_type": "markdown",
   "metadata": {
    "id": "SqCcK2Jr8Vnj"
   },
   "source": [
    "## Conclusion\n",
    "By using expressions that evaluate to True or False (also called conditions), you can write programs that make decisions on what code to execute and what code to skip.\n",
    "\n",
    "These decision control statements will let you write much more intelligent programs."
   ]
  },
  {
   "cell_type": "markdown",
   "metadata": {
    "id": "x-eAL6_W7MnB"
   },
   "source": [
    "## Practice Questions"
   ]
  },
  {
   "cell_type": "markdown",
   "metadata": {
    "id": "kcbaD10K8hZi"
   },
   "source": [
    "### Difficulty Level : Easy"
   ]
  },
  {
   "cell_type": "markdown",
   "metadata": {},
   "source": [
    "Q. Fill in the blanks with the boolean operators in the following code snippet to get the desired output :\n",
    "\n",
    "\n",
    "|Code Snippet | Output|\n",
    "|-------------|-------|\n",
    "|True__True|True|\n",
    "|(1>2)__(55<54)|False|\n",
    "|(55/2)__True|True|\n",
    "|__(10>5)|False|"
   ]
  },
  {
   "cell_type": "markdown",
   "metadata": {
    "id": "etQhI4p-9LbX"
   },
   "source": [
    "Q. Create a program that asks the user to enter the net worth of Mark Zuckerberg and display the specific message as mentioned in the table below according to the input from the user.\n",
    "\n",
    "**Note** : Make sure you enter the appropriate message in input function that assists user in entering the values.\n",
    "\n",
    "**Note** : Do not enter commas when entering the number."
   ]
  },
  {
   "cell_type": "markdown",
   "metadata": {
    "id": "t6WHuUiU9XxN"
   },
   "source": [
    "|Net Worth | Display |\n",
    "|-------------|-------|\n",
    "|=5400000000|That's 54.5 billion|\n",
    "|<5400000000|That's not much|\n",
    "|>5400000000|I'll make more when I graduate|"
   ]
  },
  {
   "cell_type": "markdown",
   "metadata": {
    "id": "4xXphFQ7-d3H"
   },
   "source": [
    "Q. Create a program to accept the cost price of a bike and display the total price of the bike including the tax to be paid according to the following criteria :\n",
    "\n",
    "**Note** : Make sure you enter the appropriate message in input function that assists user in entering the values."
   ]
  },
  {
   "cell_type": "markdown",
   "metadata": {
    "id": "3X9mOO8Z-jSu"
   },
   "source": [
    "| Cost Price(in Rs.)| Tax |\n",
    "|-------------|-------|\n",
    "|>100000|15%|\n",
    "|>50000 and <= 100000|10%|\n",
    "|<=50000|5%|"
   ]
  },
  {
   "cell_type": "markdown",
   "metadata": {
    "id": "jS2fEnwA-m20"
   },
   "source": [
    "Q. A student needs to have an attendance of atleast 75% to be allowed to sit for the exams. Create a program to check if the student satisfies this attendance criteria to sit for the exams by taking 2 inputs from the user and display the necessary output message along with the attendance in percentage using the print function.\n",
    "\n",
    "**Note** : Make sure you enter the appropriate message in input function that assists user in entering the values.\n",
    "\n",
    "**Hint** : Take the user inputs for the following :\n",
    "\n",
    "\n",
    "*   Number of classes held\n",
    "*   Number of classes attended.\n",
    "\n",
    "\n",
    "\n"
   ]
  },
  {
   "cell_type": "markdown",
   "metadata": {
    "id": "SSrUz9yKHjde"
   },
   "source": [
    "Q. Write a code to check whether given number is even or odd.Take number as input."
   ]
  },
  {
   "cell_type": "markdown",
   "metadata": {
    "id": "S_oSRUZN-4It"
   },
   "source": [
    "### Difficulty Level : Medium"
   ]
  },
  {
   "cell_type": "markdown",
   "metadata": {
    "id": "0nRzyepI_S7w"
   },
   "source": [
    "Q. Create a program that displays the wages of worker depending on their age, gender (‘M’, ‘F’) and number of days they work accodring to the criteria mentioned in the table below:\n",
    "\n",
    "**Note** : Make sure you enter the appropriate message in input function that assists user in entering the values."
   ]
  },
  {
   "cell_type": "markdown",
   "metadata": {
    "id": "dcfi6cv3_bkI"
   },
   "source": [
    "|Age Group| Gender | Daily Wages(in Rs.) |\n",
    "|-------------|-------|-------|\n",
    "|>=18 and < 30|M|Rs 700/day|\n",
    "|             |F|Rs 750/day|\n",
    "|>=30 and <=40|M|Rs 800/day|\n",
    "|             |F|Rs 850/day|"
   ]
  },
  {
   "cell_type": "markdown",
   "metadata": {
    "id": "T9tjo8jv_f7N"
   },
   "source": [
    "Q. Create a program to check if a given year is leap year or not.\n",
    "\n",
    "**Note** : Make sure you enter the appropriate message in input function that assists user in entering the values.\n",
    "\n",
    "**Note** : Google to check all the conditions for a year to be a leap year."
   ]
  },
  {
   "cell_type": "markdown",
   "metadata": {
    "id": "zZtd9Bd-_ngr"
   },
   "source": [
    "### Difficulty Level : Hard"
   ]
  },
  {
   "cell_type": "markdown",
   "metadata": {
    "id": "8vLUggk3_r2l"
   },
   "source": [
    "Q. Create a program that accepts the number of days from the user and calculates the charge for library according to the following table :\n",
    "\n",
    "**Note** : Make sure you enter the appropriate message in input function that assists user in entering the values."
   ]
  },
  {
   "cell_type": "markdown",
   "metadata": {
    "id": "p1QrAqYA_0hM"
   },
   "source": [
    "| Number of Days| Cost / day |\n",
    "|-------------|-------|\n",
    "|First 5 days|Rs 2/day|\n",
    "|6 to 10 days|Rs 3/day|\n",
    "|11 to 15 days|Rs 4/day|\n",
    "|After 15 days|Rs 5/day|"
   ]
  },
  {
   "cell_type": "markdown",
   "metadata": {
    "id": "cdumjMv5_3z1"
   },
   "source": [
    "Q. Create a program that accepts the electric units from user and calculates the bill according to the following rates:\n",
    "\n",
    "**Note** : Make sure you enter the appropriate message in input function that assists user in entering the values.\n",
    "\n",
    "**Example** :\n",
    "\n",
    "Number of Unit :550\n",
    "\n",
    "Total Bill : 0 +400+1250 = 1650"
   ]
  },
  {
   "cell_type": "markdown",
   "metadata": {
    "id": "tteuRSBTAA7i"
   },
   "source": [
    "|Range of Units| Cost / unit |\n",
    "|-------------|-------|\n",
    "|First 100 units|Free|\n",
    "|Next 200|Rs 2/unit|\n",
    "|Above 300|Rs 5/unit|"
   ]
  }
 ],
 "metadata": {
  "colab": {
   "provenance": []
  },
  "kernelspec": {
   "display_name": "Python 3 (ipykernel)",
   "language": "python",
   "name": "python3"
  },
  "language_info": {
   "codemirror_mode": {
    "name": "ipython",
    "version": 3
   },
   "file_extension": ".py",
   "mimetype": "text/x-python",
   "name": "python",
   "nbconvert_exporter": "python",
   "pygments_lexer": "ipython3",
   "version": "3.11.5"
  }
 },
 "nbformat": 4,
 "nbformat_minor": 1
}